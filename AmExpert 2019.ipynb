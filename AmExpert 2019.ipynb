{
 "cells": [
  {
   "cell_type": "markdown",
   "metadata": {},
   "source": [
    "I am still new at this, the code might be difficult to read and grasp"
   ]
  },
  {
   "cell_type": "code",
   "execution_count": 1,
   "metadata": {},
   "outputs": [],
   "source": [
    "import numpy as np\n",
    "import pandas as pd\n",
    "import datetime as dt"
   ]
  },
  {
   "cell_type": "code",
   "execution_count": 2,
   "metadata": {},
   "outputs": [],
   "source": [
    "##Loading Data\n",
    "train = pd.read_csv(\"train.csv\")\n",
    "campaign = pd.read_csv(\"campaign_data.csv\")\n",
    "coupon_item_mapping = pd.read_csv(\"coupon_item_mapping.csv\")\n",
    "demography = pd.read_csv(\"customer_demographics.csv\")\n",
    "transaction = pd.read_csv(\"customer_transaction_data.csv\")\n",
    "item = pd.read_csv(\"item_data.csv\")\n",
    "\n",
    "##Test and Sample Data\n",
    "test = pd.read_csv(\"test.csv\")\n",
    "sample = pd.read_csv(\"sample_submission.csv\")"
   ]
  },
  {
   "cell_type": "code",
   "execution_count": 3,
   "metadata": {},
   "outputs": [
    {
     "data": {
      "text/plain": [
       "(78369, 5)"
      ]
     },
     "execution_count": 3,
     "metadata": {},
     "output_type": "execute_result"
    }
   ],
   "source": [
    "train.shape"
   ]
  },
  {
   "cell_type": "code",
   "execution_count": 4,
   "metadata": {},
   "outputs": [
    {
     "data": {
      "text/html": [
       "<div>\n",
       "<style scoped>\n",
       "    .dataframe tbody tr th:only-of-type {\n",
       "        vertical-align: middle;\n",
       "    }\n",
       "\n",
       "    .dataframe tbody tr th {\n",
       "        vertical-align: top;\n",
       "    }\n",
       "\n",
       "    .dataframe thead th {\n",
       "        text-align: right;\n",
       "    }\n",
       "</style>\n",
       "<table border=\"1\" class=\"dataframe\">\n",
       "  <thead>\n",
       "    <tr style=\"text-align: right;\">\n",
       "      <th></th>\n",
       "      <th>id</th>\n",
       "      <th>campaign_id</th>\n",
       "      <th>coupon_id</th>\n",
       "      <th>customer_id</th>\n",
       "      <th>redemption_status</th>\n",
       "    </tr>\n",
       "  </thead>\n",
       "  <tbody>\n",
       "    <tr>\n",
       "      <th>0</th>\n",
       "      <td>1</td>\n",
       "      <td>13</td>\n",
       "      <td>27</td>\n",
       "      <td>1053</td>\n",
       "      <td>0</td>\n",
       "    </tr>\n",
       "    <tr>\n",
       "      <th>1</th>\n",
       "      <td>2</td>\n",
       "      <td>13</td>\n",
       "      <td>116</td>\n",
       "      <td>48</td>\n",
       "      <td>0</td>\n",
       "    </tr>\n",
       "    <tr>\n",
       "      <th>2</th>\n",
       "      <td>6</td>\n",
       "      <td>9</td>\n",
       "      <td>635</td>\n",
       "      <td>205</td>\n",
       "      <td>0</td>\n",
       "    </tr>\n",
       "    <tr>\n",
       "      <th>3</th>\n",
       "      <td>7</td>\n",
       "      <td>13</td>\n",
       "      <td>644</td>\n",
       "      <td>1050</td>\n",
       "      <td>0</td>\n",
       "    </tr>\n",
       "    <tr>\n",
       "      <th>4</th>\n",
       "      <td>9</td>\n",
       "      <td>8</td>\n",
       "      <td>1017</td>\n",
       "      <td>1489</td>\n",
       "      <td>0</td>\n",
       "    </tr>\n",
       "  </tbody>\n",
       "</table>\n",
       "</div>"
      ],
      "text/plain": [
       "   id  campaign_id  coupon_id  customer_id  redemption_status\n",
       "0   1           13         27         1053                  0\n",
       "1   2           13        116           48                  0\n",
       "2   6            9        635          205                  0\n",
       "3   7           13        644         1050                  0\n",
       "4   9            8       1017         1489                  0"
      ]
     },
     "execution_count": 4,
     "metadata": {},
     "output_type": "execute_result"
    }
   ],
   "source": [
    "train.head()"
   ]
  },
  {
   "cell_type": "code",
   "execution_count": 5,
   "metadata": {},
   "outputs": [
    {
     "data": {
      "text/plain": [
       "78369"
      ]
     },
     "execution_count": 5,
     "metadata": {},
     "output_type": "execute_result"
    }
   ],
   "source": [
    "len(train.id.unique())"
   ]
  },
  {
   "cell_type": "code",
   "execution_count": 6,
   "metadata": {},
   "outputs": [
    {
     "data": {
      "text/plain": [
       "18"
      ]
     },
     "execution_count": 6,
     "metadata": {},
     "output_type": "execute_result"
    }
   ],
   "source": [
    "len(train.campaign_id.unique())"
   ]
  },
  {
   "cell_type": "code",
   "execution_count": 7,
   "metadata": {},
   "outputs": [
    {
     "data": {
      "text/plain": [
       "866"
      ]
     },
     "execution_count": 7,
     "metadata": {},
     "output_type": "execute_result"
    }
   ],
   "source": [
    "len(train.coupon_id.unique())"
   ]
  },
  {
   "cell_type": "code",
   "execution_count": 8,
   "metadata": {},
   "outputs": [
    {
     "data": {
      "text/plain": [
       "1428"
      ]
     },
     "execution_count": 8,
     "metadata": {},
     "output_type": "execute_result"
    }
   ],
   "source": [
    "len(train.customer_id.unique())"
   ]
  },
  {
   "cell_type": "code",
   "execution_count": 9,
   "metadata": {},
   "outputs": [
    {
     "data": {
      "text/plain": [
       "array([0, 1], dtype=int64)"
      ]
     },
     "execution_count": 9,
     "metadata": {},
     "output_type": "execute_result"
    }
   ],
   "source": [
    "train.redemption_status.unique()"
   ]
  },
  {
   "cell_type": "code",
   "execution_count": 10,
   "metadata": {},
   "outputs": [
    {
     "data": {
      "text/plain": [
       "(50226, 4)"
      ]
     },
     "execution_count": 10,
     "metadata": {},
     "output_type": "execute_result"
    }
   ],
   "source": [
    "test.shape"
   ]
  },
  {
   "cell_type": "code",
   "execution_count": 11,
   "metadata": {},
   "outputs": [
    {
     "data": {
      "text/html": [
       "<div>\n",
       "<style scoped>\n",
       "    .dataframe tbody tr th:only-of-type {\n",
       "        vertical-align: middle;\n",
       "    }\n",
       "\n",
       "    .dataframe tbody tr th {\n",
       "        vertical-align: top;\n",
       "    }\n",
       "\n",
       "    .dataframe thead th {\n",
       "        text-align: right;\n",
       "    }\n",
       "</style>\n",
       "<table border=\"1\" class=\"dataframe\">\n",
       "  <thead>\n",
       "    <tr style=\"text-align: right;\">\n",
       "      <th></th>\n",
       "      <th>id</th>\n",
       "      <th>campaign_id</th>\n",
       "      <th>coupon_id</th>\n",
       "      <th>customer_id</th>\n",
       "    </tr>\n",
       "  </thead>\n",
       "  <tbody>\n",
       "    <tr>\n",
       "      <th>0</th>\n",
       "      <td>3</td>\n",
       "      <td>22</td>\n",
       "      <td>869</td>\n",
       "      <td>967</td>\n",
       "    </tr>\n",
       "    <tr>\n",
       "      <th>1</th>\n",
       "      <td>4</td>\n",
       "      <td>20</td>\n",
       "      <td>389</td>\n",
       "      <td>1566</td>\n",
       "    </tr>\n",
       "    <tr>\n",
       "      <th>2</th>\n",
       "      <td>5</td>\n",
       "      <td>22</td>\n",
       "      <td>981</td>\n",
       "      <td>510</td>\n",
       "    </tr>\n",
       "    <tr>\n",
       "      <th>3</th>\n",
       "      <td>8</td>\n",
       "      <td>25</td>\n",
       "      <td>1069</td>\n",
       "      <td>361</td>\n",
       "    </tr>\n",
       "    <tr>\n",
       "      <th>4</th>\n",
       "      <td>10</td>\n",
       "      <td>17</td>\n",
       "      <td>498</td>\n",
       "      <td>811</td>\n",
       "    </tr>\n",
       "  </tbody>\n",
       "</table>\n",
       "</div>"
      ],
      "text/plain": [
       "   id  campaign_id  coupon_id  customer_id\n",
       "0   3           22        869          967\n",
       "1   4           20        389         1566\n",
       "2   5           22        981          510\n",
       "3   8           25       1069          361\n",
       "4  10           17        498          811"
      ]
     },
     "execution_count": 11,
     "metadata": {},
     "output_type": "execute_result"
    }
   ],
   "source": [
    "test.head()"
   ]
  },
  {
   "cell_type": "code",
   "execution_count": 12,
   "metadata": {},
   "outputs": [
    {
     "data": {
      "text/plain": [
       "331"
      ]
     },
     "execution_count": 12,
     "metadata": {},
     "output_type": "execute_result"
    }
   ],
   "source": [
    "len(test.coupon_id.unique())"
   ]
  },
  {
   "cell_type": "code",
   "execution_count": 13,
   "metadata": {},
   "outputs": [
    {
     "data": {
      "text/plain": [
       "10"
      ]
     },
     "execution_count": 13,
     "metadata": {},
     "output_type": "execute_result"
    }
   ],
   "source": [
    "len(test.campaign_id.unique())"
   ]
  },
  {
   "cell_type": "code",
   "execution_count": 14,
   "metadata": {},
   "outputs": [
    {
     "data": {
      "text/html": [
       "<div>\n",
       "<style scoped>\n",
       "    .dataframe tbody tr th:only-of-type {\n",
       "        vertical-align: middle;\n",
       "    }\n",
       "\n",
       "    .dataframe tbody tr th {\n",
       "        vertical-align: top;\n",
       "    }\n",
       "\n",
       "    .dataframe thead th {\n",
       "        text-align: right;\n",
       "    }\n",
       "</style>\n",
       "<table border=\"1\" class=\"dataframe\">\n",
       "  <thead>\n",
       "    <tr style=\"text-align: right;\">\n",
       "      <th></th>\n",
       "      <th>campaign_id</th>\n",
       "      <th>campaign_type</th>\n",
       "      <th>start_date</th>\n",
       "      <th>end_date</th>\n",
       "    </tr>\n",
       "  </thead>\n",
       "  <tbody>\n",
       "    <tr>\n",
       "      <th>0</th>\n",
       "      <td>24</td>\n",
       "      <td>Y</td>\n",
       "      <td>21/10/13</td>\n",
       "      <td>20/12/13</td>\n",
       "    </tr>\n",
       "    <tr>\n",
       "      <th>1</th>\n",
       "      <td>25</td>\n",
       "      <td>Y</td>\n",
       "      <td>21/10/13</td>\n",
       "      <td>22/11/13</td>\n",
       "    </tr>\n",
       "    <tr>\n",
       "      <th>2</th>\n",
       "      <td>20</td>\n",
       "      <td>Y</td>\n",
       "      <td>07/09/13</td>\n",
       "      <td>16/11/13</td>\n",
       "    </tr>\n",
       "    <tr>\n",
       "      <th>3</th>\n",
       "      <td>23</td>\n",
       "      <td>Y</td>\n",
       "      <td>08/10/13</td>\n",
       "      <td>15/11/13</td>\n",
       "    </tr>\n",
       "    <tr>\n",
       "      <th>4</th>\n",
       "      <td>21</td>\n",
       "      <td>Y</td>\n",
       "      <td>16/09/13</td>\n",
       "      <td>18/10/13</td>\n",
       "    </tr>\n",
       "  </tbody>\n",
       "</table>\n",
       "</div>"
      ],
      "text/plain": [
       "   campaign_id campaign_type start_date  end_date\n",
       "0           24             Y   21/10/13  20/12/13\n",
       "1           25             Y   21/10/13  22/11/13\n",
       "2           20             Y   07/09/13  16/11/13\n",
       "3           23             Y   08/10/13  15/11/13\n",
       "4           21             Y   16/09/13  18/10/13"
      ]
     },
     "execution_count": 14,
     "metadata": {},
     "output_type": "execute_result"
    }
   ],
   "source": [
    "campaign.head()"
   ]
  },
  {
   "cell_type": "code",
   "execution_count": 15,
   "metadata": {},
   "outputs": [],
   "source": [
    "# transaction_item_piv4 = (transaction_item_piv4.pivot_table(index=['customer_id_'], \n",
    "#                                                            columns=('brand_', 'variable'),\n",
    "#                                                            values='value').reset_index())"
   ]
  },
  {
   "cell_type": "code",
   "execution_count": 16,
   "metadata": {},
   "outputs": [
    {
     "ename": "NameError",
     "evalue": "name 'item_coupon_pivot' is not defined",
     "output_type": "error",
     "traceback": [
      "\u001b[1;31m---------------------------------------------------------------------------\u001b[0m",
      "\u001b[1;31mNameError\u001b[0m                                 Traceback (most recent call last)",
      "\u001b[1;32m<ipython-input-16-4ee8a365d25f>\u001b[0m in \u001b[0;36m<module>\u001b[1;34m\u001b[0m\n\u001b[1;32m----> 1\u001b[1;33m \u001b[0mitem_coupon_pivot\u001b[0m\u001b[1;33m.\u001b[0m\u001b[0mhead\u001b[0m\u001b[1;33m(\u001b[0m\u001b[1;33m)\u001b[0m\u001b[1;33m\u001b[0m\u001b[1;33m\u001b[0m\u001b[0m\n\u001b[0m",
      "\u001b[1;31mNameError\u001b[0m: name 'item_coupon_pivot' is not defined"
     ]
    }
   ],
   "source": [
    "item_coupon_pivot.head()"
   ]
  },
  {
   "cell_type": "code",
   "execution_count": 17,
   "metadata": {},
   "outputs": [
    {
     "name": "stdout",
     "output_type": "stream",
     "text": [
      "18\n",
      "0\n",
      "10\n"
     ]
    }
   ],
   "source": [
    "print(len(np.intersect1d(train.campaign_id,campaign.campaign_id)))\n",
    "print(len(np.intersect1d(train.campaign_id,test.campaign_id)))\n",
    "print(len(np.intersect1d(test.campaign_id,campaign.campaign_id)))"
   ]
  },
  {
   "cell_type": "code",
   "execution_count": 18,
   "metadata": {},
   "outputs": [
    {
     "data": {
      "text/plain": [
       "(92663, 2)"
      ]
     },
     "execution_count": 18,
     "metadata": {},
     "output_type": "execute_result"
    }
   ],
   "source": [
    "coupon_item_mapping.shape"
   ]
  },
  {
   "cell_type": "code",
   "execution_count": 19,
   "metadata": {},
   "outputs": [
    {
     "data": {
      "text/html": [
       "<div>\n",
       "<style scoped>\n",
       "    .dataframe tbody tr th:only-of-type {\n",
       "        vertical-align: middle;\n",
       "    }\n",
       "\n",
       "    .dataframe tbody tr th {\n",
       "        vertical-align: top;\n",
       "    }\n",
       "\n",
       "    .dataframe thead th {\n",
       "        text-align: right;\n",
       "    }\n",
       "</style>\n",
       "<table border=\"1\" class=\"dataframe\">\n",
       "  <thead>\n",
       "    <tr style=\"text-align: right;\">\n",
       "      <th></th>\n",
       "      <th>coupon_id</th>\n",
       "      <th>item_id</th>\n",
       "    </tr>\n",
       "  </thead>\n",
       "  <tbody>\n",
       "    <tr>\n",
       "      <th>0</th>\n",
       "      <td>105</td>\n",
       "      <td>37</td>\n",
       "    </tr>\n",
       "    <tr>\n",
       "      <th>1</th>\n",
       "      <td>107</td>\n",
       "      <td>75</td>\n",
       "    </tr>\n",
       "    <tr>\n",
       "      <th>2</th>\n",
       "      <td>494</td>\n",
       "      <td>76</td>\n",
       "    </tr>\n",
       "    <tr>\n",
       "      <th>3</th>\n",
       "      <td>522</td>\n",
       "      <td>77</td>\n",
       "    </tr>\n",
       "    <tr>\n",
       "      <th>4</th>\n",
       "      <td>518</td>\n",
       "      <td>77</td>\n",
       "    </tr>\n",
       "  </tbody>\n",
       "</table>\n",
       "</div>"
      ],
      "text/plain": [
       "   coupon_id  item_id\n",
       "0        105       37\n",
       "1        107       75\n",
       "2        494       76\n",
       "3        522       77\n",
       "4        518       77"
      ]
     },
     "execution_count": 19,
     "metadata": {},
     "output_type": "execute_result"
    }
   ],
   "source": [
    "coupon_item_mapping.head()"
   ]
  },
  {
   "cell_type": "code",
   "execution_count": 20,
   "metadata": {},
   "outputs": [
    {
     "name": "stdout",
     "output_type": "stream",
     "text": [
      "coupon_id 1116\n",
      "item_id 36289\n"
     ]
    }
   ],
   "source": [
    "for k in coupon_item_mapping.columns:\n",
    "    print(k,coupon_item_mapping[k].nunique())"
   ]
  },
  {
   "cell_type": "code",
   "execution_count": 21,
   "metadata": {},
   "outputs": [],
   "source": [
    "#check for intersection of coupon_id in diff file"
   ]
  },
  {
   "cell_type": "code",
   "execution_count": 22,
   "metadata": {},
   "outputs": [
    {
     "data": {
      "text/plain": [
       "(760, 7)"
      ]
     },
     "execution_count": 22,
     "metadata": {},
     "output_type": "execute_result"
    }
   ],
   "source": [
    "demography.shape"
   ]
  },
  {
   "cell_type": "code",
   "execution_count": 23,
   "metadata": {},
   "outputs": [
    {
     "data": {
      "text/html": [
       "<div>\n",
       "<style scoped>\n",
       "    .dataframe tbody tr th:only-of-type {\n",
       "        vertical-align: middle;\n",
       "    }\n",
       "\n",
       "    .dataframe tbody tr th {\n",
       "        vertical-align: top;\n",
       "    }\n",
       "\n",
       "    .dataframe thead th {\n",
       "        text-align: right;\n",
       "    }\n",
       "</style>\n",
       "<table border=\"1\" class=\"dataframe\">\n",
       "  <thead>\n",
       "    <tr style=\"text-align: right;\">\n",
       "      <th></th>\n",
       "      <th>customer_id</th>\n",
       "      <th>age_range</th>\n",
       "      <th>marital_status</th>\n",
       "      <th>rented</th>\n",
       "      <th>family_size</th>\n",
       "      <th>no_of_children</th>\n",
       "      <th>income_bracket</th>\n",
       "    </tr>\n",
       "  </thead>\n",
       "  <tbody>\n",
       "    <tr>\n",
       "      <th>0</th>\n",
       "      <td>1</td>\n",
       "      <td>70+</td>\n",
       "      <td>Married</td>\n",
       "      <td>0</td>\n",
       "      <td>2</td>\n",
       "      <td>NaN</td>\n",
       "      <td>4</td>\n",
       "    </tr>\n",
       "    <tr>\n",
       "      <th>1</th>\n",
       "      <td>6</td>\n",
       "      <td>46-55</td>\n",
       "      <td>Married</td>\n",
       "      <td>0</td>\n",
       "      <td>2</td>\n",
       "      <td>NaN</td>\n",
       "      <td>5</td>\n",
       "    </tr>\n",
       "    <tr>\n",
       "      <th>2</th>\n",
       "      <td>7</td>\n",
       "      <td>26-35</td>\n",
       "      <td>NaN</td>\n",
       "      <td>0</td>\n",
       "      <td>3</td>\n",
       "      <td>1</td>\n",
       "      <td>3</td>\n",
       "    </tr>\n",
       "    <tr>\n",
       "      <th>3</th>\n",
       "      <td>8</td>\n",
       "      <td>26-35</td>\n",
       "      <td>NaN</td>\n",
       "      <td>0</td>\n",
       "      <td>4</td>\n",
       "      <td>2</td>\n",
       "      <td>6</td>\n",
       "    </tr>\n",
       "    <tr>\n",
       "      <th>4</th>\n",
       "      <td>10</td>\n",
       "      <td>46-55</td>\n",
       "      <td>Single</td>\n",
       "      <td>0</td>\n",
       "      <td>1</td>\n",
       "      <td>NaN</td>\n",
       "      <td>5</td>\n",
       "    </tr>\n",
       "  </tbody>\n",
       "</table>\n",
       "</div>"
      ],
      "text/plain": [
       "   customer_id age_range marital_status  rented family_size no_of_children  \\\n",
       "0            1       70+        Married       0           2            NaN   \n",
       "1            6     46-55        Married       0           2            NaN   \n",
       "2            7     26-35            NaN       0           3              1   \n",
       "3            8     26-35            NaN       0           4              2   \n",
       "4           10     46-55         Single       0           1            NaN   \n",
       "\n",
       "   income_bracket  \n",
       "0               4  \n",
       "1               5  \n",
       "2               3  \n",
       "3               6  \n",
       "4               5  "
      ]
     },
     "execution_count": 23,
     "metadata": {},
     "output_type": "execute_result"
    }
   ],
   "source": [
    "demography.head()"
   ]
  },
  {
   "cell_type": "code",
   "execution_count": 24,
   "metadata": {},
   "outputs": [
    {
     "data": {
      "text/plain": [
       "760"
      ]
     },
     "execution_count": 24,
     "metadata": {},
     "output_type": "execute_result"
    }
   ],
   "source": [
    "len(demography.customer_id.unique())"
   ]
  },
  {
   "cell_type": "code",
   "execution_count": 25,
   "metadata": {},
   "outputs": [
    {
     "name": "stdout",
     "output_type": "stream",
     "text": [
      "703\n",
      "1096\n",
      "697\n"
     ]
    }
   ],
   "source": [
    "print(len(np.intersect1d(train.customer_id,demography.customer_id)))\n",
    "print(len(np.intersect1d(train.customer_id,test.customer_id)))\n",
    "print(len(np.intersect1d(test.customer_id,demography.customer_id)))"
   ]
  },
  {
   "cell_type": "code",
   "execution_count": 26,
   "metadata": {},
   "outputs": [
    {
     "data": {
      "text/plain": [
       "array(['70+', '46-55', '26-35', '36-45', '18-25', '56-70'], dtype=object)"
      ]
     },
     "execution_count": 26,
     "metadata": {},
     "output_type": "execute_result"
    }
   ],
   "source": [
    "demography.age_range.unique()"
   ]
  },
  {
   "cell_type": "code",
   "execution_count": 27,
   "metadata": {},
   "outputs": [],
   "source": [
    "demography['age_range'] = ['21' if x == '18-25' else x for x in demography['age_range']]\n",
    "demography['age_range'] = ['30' if x == '26-35' else x for x in demography['age_range']]\n",
    "demography['age_range'] = ['40' if x == '36-45' else x for x in demography['age_range']]\n",
    "demography['age_range'] = ['50' if x == '46-55' else x for x in demography['age_range']]\n",
    "demography['age_range'] = ['63' if x == '56-70' else x for x in demography['age_range']]\n",
    "demography['age_range'] = ['85' if x == '70+' else x for x in demography['age_range']]\n",
    "demography[\"age_range\"].fillna(0, inplace = True)\n",
    "demography['age_range'] = demography['age_range'].astype('int32')"
   ]
  },
  {
   "cell_type": "code",
   "execution_count": 28,
   "metadata": {},
   "outputs": [
    {
     "data": {
      "text/plain": [
       "array(['Married', nan, 'Single'], dtype=object)"
      ]
     },
     "execution_count": 28,
     "metadata": {},
     "output_type": "execute_result"
    }
   ],
   "source": [
    "demography.marital_status.unique()"
   ]
  },
  {
   "cell_type": "code",
   "execution_count": 29,
   "metadata": {},
   "outputs": [
    {
     "data": {
      "text/plain": [
       "array([0, 1], dtype=int64)"
      ]
     },
     "execution_count": 29,
     "metadata": {},
     "output_type": "execute_result"
    }
   ],
   "source": [
    "demography.rented.unique()"
   ]
  },
  {
   "cell_type": "code",
   "execution_count": 30,
   "metadata": {},
   "outputs": [
    {
     "data": {
      "text/plain": [
       "array([nan, '1', '2', '3+'], dtype=object)"
      ]
     },
     "execution_count": 30,
     "metadata": {},
     "output_type": "execute_result"
    }
   ],
   "source": [
    "demography.no_of_children.unique()"
   ]
  },
  {
   "cell_type": "code",
   "execution_count": 31,
   "metadata": {},
   "outputs": [],
   "source": [
    "demography['no_of_children'] = [3 if x == '3+' else x for x in demography['no_of_children']]\n",
    "demography[\"no_of_children\"].fillna(0, inplace = True)\n",
    "demography['no_of_children'] = demography['no_of_children'].astype('int32')"
   ]
  },
  {
   "cell_type": "code",
   "execution_count": 32,
   "metadata": {},
   "outputs": [
    {
     "data": {
      "text/plain": [
       "array(['2', '3', '4', '1', '5+'], dtype=object)"
      ]
     },
     "execution_count": 32,
     "metadata": {},
     "output_type": "execute_result"
    }
   ],
   "source": [
    "demography.family_size.unique()"
   ]
  },
  {
   "cell_type": "code",
   "execution_count": 33,
   "metadata": {},
   "outputs": [],
   "source": [
    "demography['family_size'] = [5 if x == '5+' else x for x in demography['family_size']]\n",
    "demography[\"family_size\"].fillna(0, inplace = True)\n",
    "demography['family_size'] = demography['family_size'].astype('int32')"
   ]
  },
  {
   "cell_type": "code",
   "execution_count": 34,
   "metadata": {},
   "outputs": [
    {
     "data": {
      "text/plain": [
       "array([ 4,  5,  3,  6,  1,  7,  2,  8,  9, 12, 10, 11], dtype=int64)"
      ]
     },
     "execution_count": 34,
     "metadata": {},
     "output_type": "execute_result"
    }
   ],
   "source": [
    "demography.income_bracket.unique()"
   ]
  },
  {
   "cell_type": "code",
   "execution_count": 35,
   "metadata": {},
   "outputs": [],
   "source": [
    "demography[\"marital_status\"].fillna(\"Divorced\", inplace = True)"
   ]
  },
  {
   "cell_type": "code",
   "execution_count": null,
   "metadata": {},
   "outputs": [],
   "source": []
  },
  {
   "cell_type": "code",
   "execution_count": 36,
   "metadata": {},
   "outputs": [
    {
     "data": {
      "text/plain": [
       "(1324566, 7)"
      ]
     },
     "execution_count": 36,
     "metadata": {},
     "output_type": "execute_result"
    }
   ],
   "source": [
    "transaction.shape"
   ]
  },
  {
   "cell_type": "code",
   "execution_count": 37,
   "metadata": {},
   "outputs": [
    {
     "name": "stdout",
     "output_type": "stream",
     "text": [
      "date 549\n",
      "customer_id 1582\n",
      "item_id 74063\n",
      "quantity 9252\n",
      "selling_price 4923\n",
      "other_discount 1418\n",
      "coupon_discount 232\n"
     ]
    }
   ],
   "source": [
    "for k in transaction.columns:\n",
    "    print(k,transaction[k].nunique())"
   ]
  },
  {
   "cell_type": "code",
   "execution_count": 38,
   "metadata": {},
   "outputs": [
    {
     "data": {
      "text/html": [
       "<div>\n",
       "<style scoped>\n",
       "    .dataframe tbody tr th:only-of-type {\n",
       "        vertical-align: middle;\n",
       "    }\n",
       "\n",
       "    .dataframe tbody tr th {\n",
       "        vertical-align: top;\n",
       "    }\n",
       "\n",
       "    .dataframe thead th {\n",
       "        text-align: right;\n",
       "    }\n",
       "</style>\n",
       "<table border=\"1\" class=\"dataframe\">\n",
       "  <thead>\n",
       "    <tr style=\"text-align: right;\">\n",
       "      <th></th>\n",
       "      <th>date</th>\n",
       "      <th>customer_id</th>\n",
       "      <th>item_id</th>\n",
       "      <th>quantity</th>\n",
       "      <th>selling_price</th>\n",
       "      <th>other_discount</th>\n",
       "      <th>coupon_discount</th>\n",
       "    </tr>\n",
       "  </thead>\n",
       "  <tbody>\n",
       "    <tr>\n",
       "      <th>0</th>\n",
       "      <td>2012-01-02</td>\n",
       "      <td>1501</td>\n",
       "      <td>26830</td>\n",
       "      <td>1</td>\n",
       "      <td>35.26</td>\n",
       "      <td>-10.69</td>\n",
       "      <td>0.0</td>\n",
       "    </tr>\n",
       "    <tr>\n",
       "      <th>1</th>\n",
       "      <td>2012-01-02</td>\n",
       "      <td>1501</td>\n",
       "      <td>54253</td>\n",
       "      <td>1</td>\n",
       "      <td>53.43</td>\n",
       "      <td>-13.89</td>\n",
       "      <td>0.0</td>\n",
       "    </tr>\n",
       "    <tr>\n",
       "      <th>2</th>\n",
       "      <td>2012-01-02</td>\n",
       "      <td>1501</td>\n",
       "      <td>31962</td>\n",
       "      <td>1</td>\n",
       "      <td>106.50</td>\n",
       "      <td>-14.25</td>\n",
       "      <td>0.0</td>\n",
       "    </tr>\n",
       "    <tr>\n",
       "      <th>3</th>\n",
       "      <td>2012-01-02</td>\n",
       "      <td>1501</td>\n",
       "      <td>33647</td>\n",
       "      <td>1</td>\n",
       "      <td>67.32</td>\n",
       "      <td>0.00</td>\n",
       "      <td>0.0</td>\n",
       "    </tr>\n",
       "    <tr>\n",
       "      <th>4</th>\n",
       "      <td>2012-01-02</td>\n",
       "      <td>1501</td>\n",
       "      <td>48199</td>\n",
       "      <td>1</td>\n",
       "      <td>71.24</td>\n",
       "      <td>-28.14</td>\n",
       "      <td>0.0</td>\n",
       "    </tr>\n",
       "  </tbody>\n",
       "</table>\n",
       "</div>"
      ],
      "text/plain": [
       "         date  customer_id  item_id  quantity  selling_price  other_discount  \\\n",
       "0  2012-01-02         1501    26830         1          35.26          -10.69   \n",
       "1  2012-01-02         1501    54253         1          53.43          -13.89   \n",
       "2  2012-01-02         1501    31962         1         106.50          -14.25   \n",
       "3  2012-01-02         1501    33647         1          67.32            0.00   \n",
       "4  2012-01-02         1501    48199         1          71.24          -28.14   \n",
       "\n",
       "   coupon_discount  \n",
       "0              0.0  \n",
       "1              0.0  \n",
       "2              0.0  \n",
       "3              0.0  \n",
       "4              0.0  "
      ]
     },
     "execution_count": 38,
     "metadata": {},
     "output_type": "execute_result"
    }
   ],
   "source": [
    "transaction.head()"
   ]
  },
  {
   "cell_type": "code",
   "execution_count": 39,
   "metadata": {},
   "outputs": [
    {
     "data": {
      "text/plain": [
       "(74066, 4)"
      ]
     },
     "execution_count": 39,
     "metadata": {},
     "output_type": "execute_result"
    }
   ],
   "source": [
    "item.shape"
   ]
  },
  {
   "cell_type": "code",
   "execution_count": 40,
   "metadata": {},
   "outputs": [
    {
     "data": {
      "text/html": [
       "<div>\n",
       "<style scoped>\n",
       "    .dataframe tbody tr th:only-of-type {\n",
       "        vertical-align: middle;\n",
       "    }\n",
       "\n",
       "    .dataframe tbody tr th {\n",
       "        vertical-align: top;\n",
       "    }\n",
       "\n",
       "    .dataframe thead th {\n",
       "        text-align: right;\n",
       "    }\n",
       "</style>\n",
       "<table border=\"1\" class=\"dataframe\">\n",
       "  <thead>\n",
       "    <tr style=\"text-align: right;\">\n",
       "      <th></th>\n",
       "      <th>item_id</th>\n",
       "      <th>brand</th>\n",
       "      <th>brand_type</th>\n",
       "      <th>category</th>\n",
       "    </tr>\n",
       "  </thead>\n",
       "  <tbody>\n",
       "    <tr>\n",
       "      <th>0</th>\n",
       "      <td>1</td>\n",
       "      <td>1</td>\n",
       "      <td>Established</td>\n",
       "      <td>Grocery</td>\n",
       "    </tr>\n",
       "    <tr>\n",
       "      <th>1</th>\n",
       "      <td>2</td>\n",
       "      <td>1</td>\n",
       "      <td>Established</td>\n",
       "      <td>Miscellaneous</td>\n",
       "    </tr>\n",
       "    <tr>\n",
       "      <th>2</th>\n",
       "      <td>3</td>\n",
       "      <td>56</td>\n",
       "      <td>Local</td>\n",
       "      <td>Bakery</td>\n",
       "    </tr>\n",
       "    <tr>\n",
       "      <th>3</th>\n",
       "      <td>4</td>\n",
       "      <td>56</td>\n",
       "      <td>Local</td>\n",
       "      <td>Grocery</td>\n",
       "    </tr>\n",
       "    <tr>\n",
       "      <th>4</th>\n",
       "      <td>5</td>\n",
       "      <td>56</td>\n",
       "      <td>Local</td>\n",
       "      <td>Grocery</td>\n",
       "    </tr>\n",
       "  </tbody>\n",
       "</table>\n",
       "</div>"
      ],
      "text/plain": [
       "   item_id  brand   brand_type       category\n",
       "0        1      1  Established        Grocery\n",
       "1        2      1  Established  Miscellaneous\n",
       "2        3     56        Local         Bakery\n",
       "3        4     56        Local        Grocery\n",
       "4        5     56        Local        Grocery"
      ]
     },
     "execution_count": 40,
     "metadata": {},
     "output_type": "execute_result"
    }
   ],
   "source": [
    "item.head()"
   ]
  },
  {
   "cell_type": "code",
   "execution_count": 41,
   "metadata": {},
   "outputs": [
    {
     "name": "stdout",
     "output_type": "stream",
     "text": [
      "item_id 74066\n",
      "brand 5528\n",
      "brand_type 2\n",
      "category 19\n"
     ]
    }
   ],
   "source": [
    "for k in item.columns:\n",
    "    print(k,item[k].nunique())"
   ]
  },
  {
   "cell_type": "code",
   "execution_count": 42,
   "metadata": {},
   "outputs": [],
   "source": [
    "#Checking for null values"
   ]
  },
  {
   "cell_type": "code",
   "execution_count": 43,
   "metadata": {},
   "outputs": [
    {
     "data": {
      "text/plain": [
       "id                   0\n",
       "campaign_id          0\n",
       "coupon_id            0\n",
       "customer_id          0\n",
       "redemption_status    0\n",
       "dtype: int64"
      ]
     },
     "execution_count": 43,
     "metadata": {},
     "output_type": "execute_result"
    }
   ],
   "source": [
    "train.isnull().sum()"
   ]
  },
  {
   "cell_type": "code",
   "execution_count": 44,
   "metadata": {},
   "outputs": [
    {
     "data": {
      "text/plain": [
       "customer_id       0\n",
       "age_range         0\n",
       "marital_status    0\n",
       "rented            0\n",
       "family_size       0\n",
       "no_of_children    0\n",
       "income_bracket    0\n",
       "dtype: int64"
      ]
     },
     "execution_count": 44,
     "metadata": {},
     "output_type": "execute_result"
    }
   ],
   "source": [
    "demography.isnull().sum()"
   ]
  },
  {
   "cell_type": "code",
   "execution_count": 45,
   "metadata": {},
   "outputs": [
    {
     "data": {
      "text/plain": [
       "coupon_id    0\n",
       "item_id      0\n",
       "dtype: int64"
      ]
     },
     "execution_count": 45,
     "metadata": {},
     "output_type": "execute_result"
    }
   ],
   "source": [
    "coupon_item_mapping.isnull().sum()"
   ]
  },
  {
   "cell_type": "code",
   "execution_count": 46,
   "metadata": {},
   "outputs": [
    {
     "data": {
      "text/plain": [
       "campaign_id      0\n",
       "campaign_type    0\n",
       "start_date       0\n",
       "end_date         0\n",
       "dtype: int64"
      ]
     },
     "execution_count": 46,
     "metadata": {},
     "output_type": "execute_result"
    }
   ],
   "source": [
    "campaign.isnull().sum()"
   ]
  },
  {
   "cell_type": "code",
   "execution_count": 47,
   "metadata": {},
   "outputs": [
    {
     "data": {
      "text/plain": [
       "item_id       0\n",
       "brand         0\n",
       "brand_type    0\n",
       "category      0\n",
       "dtype: int64"
      ]
     },
     "execution_count": 47,
     "metadata": {},
     "output_type": "execute_result"
    }
   ],
   "source": [
    "item.isnull().sum()"
   ]
  },
  {
   "cell_type": "code",
   "execution_count": 48,
   "metadata": {},
   "outputs": [],
   "source": [
    "##Proceeding to data manipulation part"
   ]
  },
  {
   "cell_type": "code",
   "execution_count": 49,
   "metadata": {},
   "outputs": [],
   "source": [
    "#combining transaction and item file"
   ]
  },
  {
   "cell_type": "code",
   "execution_count": 50,
   "metadata": {},
   "outputs": [
    {
     "data": {
      "text/html": [
       "<div>\n",
       "<style scoped>\n",
       "    .dataframe tbody tr th:only-of-type {\n",
       "        vertical-align: middle;\n",
       "    }\n",
       "\n",
       "    .dataframe tbody tr th {\n",
       "        vertical-align: top;\n",
       "    }\n",
       "\n",
       "    .dataframe thead th {\n",
       "        text-align: right;\n",
       "    }\n",
       "</style>\n",
       "<table border=\"1\" class=\"dataframe\">\n",
       "  <thead>\n",
       "    <tr style=\"text-align: right;\">\n",
       "      <th></th>\n",
       "      <th>date</th>\n",
       "      <th>customer_id</th>\n",
       "      <th>item_id</th>\n",
       "      <th>quantity</th>\n",
       "      <th>selling_price</th>\n",
       "      <th>other_discount</th>\n",
       "      <th>coupon_discount</th>\n",
       "    </tr>\n",
       "  </thead>\n",
       "  <tbody>\n",
       "    <tr>\n",
       "      <th>0</th>\n",
       "      <td>2012-01-02</td>\n",
       "      <td>1501</td>\n",
       "      <td>26830</td>\n",
       "      <td>1</td>\n",
       "      <td>35.26</td>\n",
       "      <td>-10.69</td>\n",
       "      <td>0.0</td>\n",
       "    </tr>\n",
       "    <tr>\n",
       "      <th>1</th>\n",
       "      <td>2012-01-02</td>\n",
       "      <td>1501</td>\n",
       "      <td>54253</td>\n",
       "      <td>1</td>\n",
       "      <td>53.43</td>\n",
       "      <td>-13.89</td>\n",
       "      <td>0.0</td>\n",
       "    </tr>\n",
       "    <tr>\n",
       "      <th>2</th>\n",
       "      <td>2012-01-02</td>\n",
       "      <td>1501</td>\n",
       "      <td>31962</td>\n",
       "      <td>1</td>\n",
       "      <td>106.50</td>\n",
       "      <td>-14.25</td>\n",
       "      <td>0.0</td>\n",
       "    </tr>\n",
       "    <tr>\n",
       "      <th>3</th>\n",
       "      <td>2012-01-02</td>\n",
       "      <td>1501</td>\n",
       "      <td>33647</td>\n",
       "      <td>1</td>\n",
       "      <td>67.32</td>\n",
       "      <td>0.00</td>\n",
       "      <td>0.0</td>\n",
       "    </tr>\n",
       "    <tr>\n",
       "      <th>4</th>\n",
       "      <td>2012-01-02</td>\n",
       "      <td>1501</td>\n",
       "      <td>48199</td>\n",
       "      <td>1</td>\n",
       "      <td>71.24</td>\n",
       "      <td>-28.14</td>\n",
       "      <td>0.0</td>\n",
       "    </tr>\n",
       "  </tbody>\n",
       "</table>\n",
       "</div>"
      ],
      "text/plain": [
       "         date  customer_id  item_id  quantity  selling_price  other_discount  \\\n",
       "0  2012-01-02         1501    26830         1          35.26          -10.69   \n",
       "1  2012-01-02         1501    54253         1          53.43          -13.89   \n",
       "2  2012-01-02         1501    31962         1         106.50          -14.25   \n",
       "3  2012-01-02         1501    33647         1          67.32            0.00   \n",
       "4  2012-01-02         1501    48199         1          71.24          -28.14   \n",
       "\n",
       "   coupon_discount  \n",
       "0              0.0  \n",
       "1              0.0  \n",
       "2              0.0  \n",
       "3              0.0  \n",
       "4              0.0  "
      ]
     },
     "execution_count": 50,
     "metadata": {},
     "output_type": "execute_result"
    }
   ],
   "source": [
    "transaction.head()"
   ]
  },
  {
   "cell_type": "code",
   "execution_count": 51,
   "metadata": {},
   "outputs": [
    {
     "data": {
      "text/html": [
       "<div>\n",
       "<style scoped>\n",
       "    .dataframe tbody tr th:only-of-type {\n",
       "        vertical-align: middle;\n",
       "    }\n",
       "\n",
       "    .dataframe tbody tr th {\n",
       "        vertical-align: top;\n",
       "    }\n",
       "\n",
       "    .dataframe thead th {\n",
       "        text-align: right;\n",
       "    }\n",
       "</style>\n",
       "<table border=\"1\" class=\"dataframe\">\n",
       "  <thead>\n",
       "    <tr style=\"text-align: right;\">\n",
       "      <th></th>\n",
       "      <th>item_id</th>\n",
       "      <th>brand</th>\n",
       "      <th>brand_type</th>\n",
       "      <th>category</th>\n",
       "    </tr>\n",
       "  </thead>\n",
       "  <tbody>\n",
       "    <tr>\n",
       "      <th>0</th>\n",
       "      <td>1</td>\n",
       "      <td>1</td>\n",
       "      <td>Established</td>\n",
       "      <td>Grocery</td>\n",
       "    </tr>\n",
       "    <tr>\n",
       "      <th>1</th>\n",
       "      <td>2</td>\n",
       "      <td>1</td>\n",
       "      <td>Established</td>\n",
       "      <td>Miscellaneous</td>\n",
       "    </tr>\n",
       "    <tr>\n",
       "      <th>2</th>\n",
       "      <td>3</td>\n",
       "      <td>56</td>\n",
       "      <td>Local</td>\n",
       "      <td>Bakery</td>\n",
       "    </tr>\n",
       "    <tr>\n",
       "      <th>3</th>\n",
       "      <td>4</td>\n",
       "      <td>56</td>\n",
       "      <td>Local</td>\n",
       "      <td>Grocery</td>\n",
       "    </tr>\n",
       "    <tr>\n",
       "      <th>4</th>\n",
       "      <td>5</td>\n",
       "      <td>56</td>\n",
       "      <td>Local</td>\n",
       "      <td>Grocery</td>\n",
       "    </tr>\n",
       "  </tbody>\n",
       "</table>\n",
       "</div>"
      ],
      "text/plain": [
       "   item_id  brand   brand_type       category\n",
       "0        1      1  Established        Grocery\n",
       "1        2      1  Established  Miscellaneous\n",
       "2        3     56        Local         Bakery\n",
       "3        4     56        Local        Grocery\n",
       "4        5     56        Local        Grocery"
      ]
     },
     "execution_count": 51,
     "metadata": {},
     "output_type": "execute_result"
    }
   ],
   "source": [
    "item.head()"
   ]
  },
  {
   "cell_type": "code",
   "execution_count": 52,
   "metadata": {},
   "outputs": [],
   "source": [
    "transaction_item = transaction.merge(item, on = 'item_id', how = 'left')"
   ]
  },
  {
   "cell_type": "code",
   "execution_count": 53,
   "metadata": {},
   "outputs": [],
   "source": [
    "transaction_item['other_discount'] = -transaction_item['other_discount']\n",
    "transaction_item['coupon_discount'] = -transaction_item['coupon_discount']"
   ]
  },
  {
   "cell_type": "code",
   "execution_count": 54,
   "metadata": {},
   "outputs": [],
   "source": [
    "transaction_item['coupon_use_flag'] = [1 if x > 0 else 0 for x in transaction_item['coupon_discount']]"
   ]
  },
  {
   "cell_type": "code",
   "execution_count": 55,
   "metadata": {},
   "outputs": [],
   "source": [
    "transaction_item_agg1 = transaction_item.groupby('customer_id', as_index=False).agg({'quantity': ['sum'],\n",
    "                                                                     'selling_price' : ['size', 'std', 'mean', 'max', 'min'],\n",
    "                                                                     'other_discount' : ['std', 'mean', 'max', 'min'],\n",
    "                                                                     'coupon_discount' : ['std', 'mean', 'max', 'min'],\n",
    "                                                                     'coupon_use_flag' : ['sum']})"
   ]
  },
  {
   "cell_type": "code",
   "execution_count": 56,
   "metadata": {},
   "outputs": [
    {
     "data": {
      "text/html": [
       "<div>\n",
       "<style scoped>\n",
       "    .dataframe tbody tr th:only-of-type {\n",
       "        vertical-align: middle;\n",
       "    }\n",
       "\n",
       "    .dataframe tbody tr th {\n",
       "        vertical-align: top;\n",
       "    }\n",
       "\n",
       "    .dataframe thead tr th {\n",
       "        text-align: left;\n",
       "    }\n",
       "</style>\n",
       "<table border=\"1\" class=\"dataframe\">\n",
       "  <thead>\n",
       "    <tr>\n",
       "      <th></th>\n",
       "      <th>customer_id</th>\n",
       "      <th>quantity</th>\n",
       "      <th colspan=\"5\" halign=\"left\">selling_price</th>\n",
       "      <th colspan=\"4\" halign=\"left\">other_discount</th>\n",
       "      <th colspan=\"4\" halign=\"left\">coupon_discount</th>\n",
       "      <th>coupon_use_flag</th>\n",
       "    </tr>\n",
       "    <tr>\n",
       "      <th></th>\n",
       "      <th></th>\n",
       "      <th>sum</th>\n",
       "      <th>size</th>\n",
       "      <th>std</th>\n",
       "      <th>mean</th>\n",
       "      <th>max</th>\n",
       "      <th>min</th>\n",
       "      <th>std</th>\n",
       "      <th>mean</th>\n",
       "      <th>max</th>\n",
       "      <th>min</th>\n",
       "      <th>std</th>\n",
       "      <th>mean</th>\n",
       "      <th>max</th>\n",
       "      <th>min</th>\n",
       "      <th>sum</th>\n",
       "    </tr>\n",
       "  </thead>\n",
       "  <tbody>\n",
       "    <tr>\n",
       "      <th>0</th>\n",
       "      <td>1</td>\n",
       "      <td>1227</td>\n",
       "      <td>1048</td>\n",
       "      <td>51.730756</td>\n",
       "      <td>94.001842</td>\n",
       "      <td>445.25</td>\n",
       "      <td>12.11</td>\n",
       "      <td>32.850302</td>\n",
       "      <td>16.250382</td>\n",
       "      <td>372.23</td>\n",
       "      <td>-0.0</td>\n",
       "      <td>9.220383</td>\n",
       "      <td>2.019876</td>\n",
       "      <td>106.86</td>\n",
       "      <td>-0.0</td>\n",
       "      <td>78</td>\n",
       "    </tr>\n",
       "    <tr>\n",
       "      <th>1</th>\n",
       "      <td>2</td>\n",
       "      <td>474</td>\n",
       "      <td>419</td>\n",
       "      <td>74.357770</td>\n",
       "      <td>102.864033</td>\n",
       "      <td>640.80</td>\n",
       "      <td>14.25</td>\n",
       "      <td>34.832684</td>\n",
       "      <td>16.830430</td>\n",
       "      <td>312.03</td>\n",
       "      <td>-0.0</td>\n",
       "      <td>6.607411</td>\n",
       "      <td>0.595084</td>\n",
       "      <td>89.05</td>\n",
       "      <td>-0.0</td>\n",
       "      <td>4</td>\n",
       "    </tr>\n",
       "    <tr>\n",
       "      <th>2</th>\n",
       "      <td>3</td>\n",
       "      <td>8163</td>\n",
       "      <td>705</td>\n",
       "      <td>82.299878</td>\n",
       "      <td>103.617404</td>\n",
       "      <td>862.00</td>\n",
       "      <td>8.90</td>\n",
       "      <td>39.377713</td>\n",
       "      <td>22.714227</td>\n",
       "      <td>463.06</td>\n",
       "      <td>-0.0</td>\n",
       "      <td>13.677188</td>\n",
       "      <td>3.091546</td>\n",
       "      <td>142.48</td>\n",
       "      <td>-0.0</td>\n",
       "      <td>53</td>\n",
       "    </tr>\n",
       "    <tr>\n",
       "      <th>3</th>\n",
       "      <td>4</td>\n",
       "      <td>280</td>\n",
       "      <td>220</td>\n",
       "      <td>199.048691</td>\n",
       "      <td>154.423727</td>\n",
       "      <td>1330.05</td>\n",
       "      <td>14.25</td>\n",
       "      <td>36.023189</td>\n",
       "      <td>13.305409</td>\n",
       "      <td>390.04</td>\n",
       "      <td>-0.0</td>\n",
       "      <td>6.003750</td>\n",
       "      <td>0.404773</td>\n",
       "      <td>89.05</td>\n",
       "      <td>-0.0</td>\n",
       "      <td>1</td>\n",
       "    </tr>\n",
       "    <tr>\n",
       "      <th>4</th>\n",
       "      <td>5</td>\n",
       "      <td>93353</td>\n",
       "      <td>792</td>\n",
       "      <td>144.009702</td>\n",
       "      <td>130.827146</td>\n",
       "      <td>1485.35</td>\n",
       "      <td>12.11</td>\n",
       "      <td>27.829869</td>\n",
       "      <td>13.657917</td>\n",
       "      <td>216.21</td>\n",
       "      <td>-0.0</td>\n",
       "      <td>2.624519</td>\n",
       "      <td>0.114684</td>\n",
       "      <td>71.24</td>\n",
       "      <td>-0.0</td>\n",
       "      <td>2</td>\n",
       "    </tr>\n",
       "  </tbody>\n",
       "</table>\n",
       "</div>"
      ],
      "text/plain": [
       "  customer_id quantity selling_price                                          \\\n",
       "                   sum          size         std        mean      max    min   \n",
       "0           1     1227          1048   51.730756   94.001842   445.25  12.11   \n",
       "1           2      474           419   74.357770  102.864033   640.80  14.25   \n",
       "2           3     8163           705   82.299878  103.617404   862.00   8.90   \n",
       "3           4      280           220  199.048691  154.423727  1330.05  14.25   \n",
       "4           5    93353           792  144.009702  130.827146  1485.35  12.11   \n",
       "\n",
       "  other_discount                         coupon_discount                    \\\n",
       "             std       mean     max  min             std      mean     max   \n",
       "0      32.850302  16.250382  372.23 -0.0        9.220383  2.019876  106.86   \n",
       "1      34.832684  16.830430  312.03 -0.0        6.607411  0.595084   89.05   \n",
       "2      39.377713  22.714227  463.06 -0.0       13.677188  3.091546  142.48   \n",
       "3      36.023189  13.305409  390.04 -0.0        6.003750  0.404773   89.05   \n",
       "4      27.829869  13.657917  216.21 -0.0        2.624519  0.114684   71.24   \n",
       "\n",
       "       coupon_use_flag  \n",
       "   min             sum  \n",
       "0 -0.0              78  \n",
       "1 -0.0               4  \n",
       "2 -0.0              53  \n",
       "3 -0.0               1  \n",
       "4 -0.0               2  "
      ]
     },
     "execution_count": 56,
     "metadata": {},
     "output_type": "execute_result"
    }
   ],
   "source": [
    "transaction_item_agg1.head()"
   ]
  },
  {
   "cell_type": "code",
   "execution_count": 57,
   "metadata": {},
   "outputs": [
    {
     "data": {
      "text/plain": [
       "(1582, 16)"
      ]
     },
     "execution_count": 57,
     "metadata": {},
     "output_type": "execute_result"
    }
   ],
   "source": [
    "transaction_item_agg1.shape"
   ]
  },
  {
   "cell_type": "code",
   "execution_count": 58,
   "metadata": {},
   "outputs": [
    {
     "data": {
      "text/html": [
       "<div>\n",
       "<style scoped>\n",
       "    .dataframe tbody tr th:only-of-type {\n",
       "        vertical-align: middle;\n",
       "    }\n",
       "\n",
       "    .dataframe tbody tr th {\n",
       "        vertical-align: top;\n",
       "    }\n",
       "\n",
       "    .dataframe thead th {\n",
       "        text-align: right;\n",
       "    }\n",
       "</style>\n",
       "<table border=\"1\" class=\"dataframe\">\n",
       "  <thead>\n",
       "    <tr style=\"text-align: right;\">\n",
       "      <th></th>\n",
       "      <th>Txn_customer_id_</th>\n",
       "      <th>Txn_quantity_sum</th>\n",
       "      <th>Txn_selling_price_size</th>\n",
       "      <th>Txn_selling_price_std</th>\n",
       "      <th>Txn_selling_price_mean</th>\n",
       "      <th>Txn_selling_price_max</th>\n",
       "      <th>Txn_selling_price_min</th>\n",
       "      <th>Txn_other_discount_std</th>\n",
       "      <th>Txn_other_discount_mean</th>\n",
       "      <th>Txn_other_discount_max</th>\n",
       "      <th>Txn_other_discount_min</th>\n",
       "      <th>Txn_coupon_discount_std</th>\n",
       "      <th>Txn_coupon_discount_mean</th>\n",
       "      <th>Txn_coupon_discount_max</th>\n",
       "      <th>Txn_coupon_discount_min</th>\n",
       "      <th>Txn_coupon_use_flag_sum</th>\n",
       "      <th>agg1_rate1</th>\n",
       "      <th>agg1_rate2</th>\n",
       "      <th>agg1_rate3</th>\n",
       "      <th>agg1_rate4</th>\n",
       "    </tr>\n",
       "  </thead>\n",
       "  <tbody>\n",
       "    <tr>\n",
       "      <th>0</th>\n",
       "      <td>1</td>\n",
       "      <td>1227</td>\n",
       "      <td>1048</td>\n",
       "      <td>51.730756</td>\n",
       "      <td>94.001842</td>\n",
       "      <td>445.25</td>\n",
       "      <td>12.11</td>\n",
       "      <td>32.850302</td>\n",
       "      <td>16.250382</td>\n",
       "      <td>372.23</td>\n",
       "      <td>-0.0</td>\n",
       "      <td>9.220383</td>\n",
       "      <td>2.019876</td>\n",
       "      <td>106.86</td>\n",
       "      <td>-0.0</td>\n",
       "      <td>78</td>\n",
       "      <td>0.063570</td>\n",
       "      <td>0.074427</td>\n",
       "      <td>0.854116</td>\n",
       "      <td>0.021488</td>\n",
       "    </tr>\n",
       "    <tr>\n",
       "      <th>1</th>\n",
       "      <td>2</td>\n",
       "      <td>474</td>\n",
       "      <td>419</td>\n",
       "      <td>74.357770</td>\n",
       "      <td>102.864033</td>\n",
       "      <td>640.80</td>\n",
       "      <td>14.25</td>\n",
       "      <td>34.832684</td>\n",
       "      <td>16.830430</td>\n",
       "      <td>312.03</td>\n",
       "      <td>-0.0</td>\n",
       "      <td>6.607411</td>\n",
       "      <td>0.595084</td>\n",
       "      <td>89.05</td>\n",
       "      <td>-0.0</td>\n",
       "      <td>4</td>\n",
       "      <td>0.008439</td>\n",
       "      <td>0.009547</td>\n",
       "      <td>0.883966</td>\n",
       "      <td>0.005785</td>\n",
       "    </tr>\n",
       "    <tr>\n",
       "      <th>2</th>\n",
       "      <td>3</td>\n",
       "      <td>8163</td>\n",
       "      <td>705</td>\n",
       "      <td>82.299878</td>\n",
       "      <td>103.617404</td>\n",
       "      <td>862.00</td>\n",
       "      <td>8.90</td>\n",
       "      <td>39.377713</td>\n",
       "      <td>22.714227</td>\n",
       "      <td>463.06</td>\n",
       "      <td>-0.0</td>\n",
       "      <td>13.677188</td>\n",
       "      <td>3.091546</td>\n",
       "      <td>142.48</td>\n",
       "      <td>-0.0</td>\n",
       "      <td>53</td>\n",
       "      <td>0.006493</td>\n",
       "      <td>0.075177</td>\n",
       "      <td>0.086365</td>\n",
       "      <td>0.029836</td>\n",
       "    </tr>\n",
       "    <tr>\n",
       "      <th>3</th>\n",
       "      <td>4</td>\n",
       "      <td>280</td>\n",
       "      <td>220</td>\n",
       "      <td>199.048691</td>\n",
       "      <td>154.423727</td>\n",
       "      <td>1330.05</td>\n",
       "      <td>14.25</td>\n",
       "      <td>36.023189</td>\n",
       "      <td>13.305409</td>\n",
       "      <td>390.04</td>\n",
       "      <td>-0.0</td>\n",
       "      <td>6.003750</td>\n",
       "      <td>0.404773</td>\n",
       "      <td>89.05</td>\n",
       "      <td>-0.0</td>\n",
       "      <td>1</td>\n",
       "      <td>0.003571</td>\n",
       "      <td>0.004545</td>\n",
       "      <td>0.785714</td>\n",
       "      <td>0.002621</td>\n",
       "    </tr>\n",
       "    <tr>\n",
       "      <th>4</th>\n",
       "      <td>5</td>\n",
       "      <td>93353</td>\n",
       "      <td>792</td>\n",
       "      <td>144.009702</td>\n",
       "      <td>130.827146</td>\n",
       "      <td>1485.35</td>\n",
       "      <td>12.11</td>\n",
       "      <td>27.829869</td>\n",
       "      <td>13.657917</td>\n",
       "      <td>216.21</td>\n",
       "      <td>-0.0</td>\n",
       "      <td>2.624519</td>\n",
       "      <td>0.114684</td>\n",
       "      <td>71.24</td>\n",
       "      <td>-0.0</td>\n",
       "      <td>2</td>\n",
       "      <td>0.000021</td>\n",
       "      <td>0.002525</td>\n",
       "      <td>0.008484</td>\n",
       "      <td>0.000877</td>\n",
       "    </tr>\n",
       "  </tbody>\n",
       "</table>\n",
       "</div>"
      ],
      "text/plain": [
       "   Txn_customer_id_  Txn_quantity_sum  Txn_selling_price_size  \\\n",
       "0                 1              1227                    1048   \n",
       "1                 2               474                     419   \n",
       "2                 3              8163                     705   \n",
       "3                 4               280                     220   \n",
       "4                 5             93353                     792   \n",
       "\n",
       "   Txn_selling_price_std  Txn_selling_price_mean  Txn_selling_price_max  \\\n",
       "0              51.730756               94.001842                 445.25   \n",
       "1              74.357770              102.864033                 640.80   \n",
       "2              82.299878              103.617404                 862.00   \n",
       "3             199.048691              154.423727                1330.05   \n",
       "4             144.009702              130.827146                1485.35   \n",
       "\n",
       "   Txn_selling_price_min  Txn_other_discount_std  Txn_other_discount_mean  \\\n",
       "0                  12.11               32.850302                16.250382   \n",
       "1                  14.25               34.832684                16.830430   \n",
       "2                   8.90               39.377713                22.714227   \n",
       "3                  14.25               36.023189                13.305409   \n",
       "4                  12.11               27.829869                13.657917   \n",
       "\n",
       "   Txn_other_discount_max  Txn_other_discount_min  Txn_coupon_discount_std  \\\n",
       "0                  372.23                    -0.0                 9.220383   \n",
       "1                  312.03                    -0.0                 6.607411   \n",
       "2                  463.06                    -0.0                13.677188   \n",
       "3                  390.04                    -0.0                 6.003750   \n",
       "4                  216.21                    -0.0                 2.624519   \n",
       "\n",
       "   Txn_coupon_discount_mean  Txn_coupon_discount_max  Txn_coupon_discount_min  \\\n",
       "0                  2.019876                   106.86                     -0.0   \n",
       "1                  0.595084                    89.05                     -0.0   \n",
       "2                  3.091546                   142.48                     -0.0   \n",
       "3                  0.404773                    89.05                     -0.0   \n",
       "4                  0.114684                    71.24                     -0.0   \n",
       "\n",
       "   Txn_coupon_use_flag_sum  agg1_rate1  agg1_rate2  agg1_rate3  agg1_rate4  \n",
       "0                       78    0.063570    0.074427    0.854116    0.021488  \n",
       "1                        4    0.008439    0.009547    0.883966    0.005785  \n",
       "2                       53    0.006493    0.075177    0.086365    0.029836  \n",
       "3                        1    0.003571    0.004545    0.785714    0.002621  \n",
       "4                        2    0.000021    0.002525    0.008484    0.000877  "
      ]
     },
     "execution_count": 58,
     "metadata": {},
     "output_type": "execute_result"
    }
   ],
   "source": [
    "transaction_item_agg1.columns=['Txn_' + '_'.join(col).strip() for col in transaction_item_agg1.columns.values]\n",
    "#transaction_item_agg1.reset_index(inplace=True)\n",
    "transaction_item_agg1['agg1_rate1'] = transaction_item_agg1['Txn_coupon_use_flag_sum']/transaction_item_agg1['Txn_quantity_sum']\n",
    "transaction_item_agg1['agg1_rate2'] = transaction_item_agg1['Txn_coupon_use_flag_sum']/transaction_item_agg1['Txn_selling_price_size']\n",
    "transaction_item_agg1['agg1_rate3'] = transaction_item_agg1['Txn_selling_price_size']/transaction_item_agg1['Txn_quantity_sum']\n",
    "transaction_item_agg1['agg1_rate4'] = transaction_item_agg1['Txn_coupon_discount_mean']/transaction_item_agg1['Txn_selling_price_mean']\n",
    "transaction_item_agg1.head()"
   ]
  },
  {
   "cell_type": "code",
   "execution_count": 59,
   "metadata": {
    "scrolled": true
   },
   "outputs": [
    {
     "data": {
      "text/html": [
       "<div>\n",
       "<style scoped>\n",
       "    .dataframe tbody tr th:only-of-type {\n",
       "        vertical-align: middle;\n",
       "    }\n",
       "\n",
       "    .dataframe tbody tr th {\n",
       "        vertical-align: top;\n",
       "    }\n",
       "\n",
       "    .dataframe thead th {\n",
       "        text-align: right;\n",
       "    }\n",
       "</style>\n",
       "<table border=\"1\" class=\"dataframe\">\n",
       "  <thead>\n",
       "    <tr style=\"text-align: right;\">\n",
       "      <th></th>\n",
       "      <th>Cat_customer_id__</th>\n",
       "      <th>Cat_Alcohol_agg2_rate1</th>\n",
       "      <th>Cat_Alcohol_agg2_rate2</th>\n",
       "      <th>Cat_Alcohol_agg2_rate3</th>\n",
       "      <th>Cat_Alcohol_agg2_rate4</th>\n",
       "      <th>Cat_Alcohol_coupon_discount_max</th>\n",
       "      <th>Cat_Alcohol_coupon_discount_mean</th>\n",
       "      <th>Cat_Alcohol_coupon_discount_min</th>\n",
       "      <th>Cat_Alcohol_coupon_discount_std</th>\n",
       "      <th>Cat_Alcohol_coupon_use_flag_sum</th>\n",
       "      <th>...</th>\n",
       "      <th>Cat_Vegetables (cut)_other_discount_max</th>\n",
       "      <th>Cat_Vegetables (cut)_other_discount_mean</th>\n",
       "      <th>Cat_Vegetables (cut)_other_discount_min</th>\n",
       "      <th>Cat_Vegetables (cut)_other_discount_std</th>\n",
       "      <th>Cat_Vegetables (cut)_quantity_sum</th>\n",
       "      <th>Cat_Vegetables (cut)_selling_price_max</th>\n",
       "      <th>Cat_Vegetables (cut)_selling_price_mean</th>\n",
       "      <th>Cat_Vegetables (cut)_selling_price_min</th>\n",
       "      <th>Cat_Vegetables (cut)_selling_price_size</th>\n",
       "      <th>Cat_Vegetables (cut)_selling_price_std</th>\n",
       "    </tr>\n",
       "  </thead>\n",
       "  <tbody>\n",
       "    <tr>\n",
       "      <th>0</th>\n",
       "      <td>1</td>\n",
       "      <td>0.0</td>\n",
       "      <td>0.0</td>\n",
       "      <td>0.0</td>\n",
       "      <td>0.0</td>\n",
       "      <td>0.0</td>\n",
       "      <td>0.0</td>\n",
       "      <td>0.0</td>\n",
       "      <td>0.0</td>\n",
       "      <td>0.0</td>\n",
       "      <td>...</td>\n",
       "      <td>0.0</td>\n",
       "      <td>0.0</td>\n",
       "      <td>0.0</td>\n",
       "      <td>0.0</td>\n",
       "      <td>0.0</td>\n",
       "      <td>0.0</td>\n",
       "      <td>0.0</td>\n",
       "      <td>0.0</td>\n",
       "      <td>0.0</td>\n",
       "      <td>0.0</td>\n",
       "    </tr>\n",
       "    <tr>\n",
       "      <th>1</th>\n",
       "      <td>2</td>\n",
       "      <td>0.0</td>\n",
       "      <td>0.0</td>\n",
       "      <td>0.0</td>\n",
       "      <td>0.0</td>\n",
       "      <td>0.0</td>\n",
       "      <td>0.0</td>\n",
       "      <td>0.0</td>\n",
       "      <td>0.0</td>\n",
       "      <td>0.0</td>\n",
       "      <td>...</td>\n",
       "      <td>0.0</td>\n",
       "      <td>0.0</td>\n",
       "      <td>0.0</td>\n",
       "      <td>0.0</td>\n",
       "      <td>0.0</td>\n",
       "      <td>0.0</td>\n",
       "      <td>0.0</td>\n",
       "      <td>0.0</td>\n",
       "      <td>0.0</td>\n",
       "      <td>0.0</td>\n",
       "    </tr>\n",
       "    <tr>\n",
       "      <th>2</th>\n",
       "      <td>3</td>\n",
       "      <td>0.0</td>\n",
       "      <td>0.0</td>\n",
       "      <td>0.0</td>\n",
       "      <td>0.0</td>\n",
       "      <td>0.0</td>\n",
       "      <td>0.0</td>\n",
       "      <td>0.0</td>\n",
       "      <td>0.0</td>\n",
       "      <td>0.0</td>\n",
       "      <td>...</td>\n",
       "      <td>0.0</td>\n",
       "      <td>0.0</td>\n",
       "      <td>0.0</td>\n",
       "      <td>0.0</td>\n",
       "      <td>0.0</td>\n",
       "      <td>0.0</td>\n",
       "      <td>0.0</td>\n",
       "      <td>0.0</td>\n",
       "      <td>0.0</td>\n",
       "      <td>0.0</td>\n",
       "    </tr>\n",
       "    <tr>\n",
       "      <th>3</th>\n",
       "      <td>4</td>\n",
       "      <td>0.0</td>\n",
       "      <td>0.0</td>\n",
       "      <td>0.0</td>\n",
       "      <td>0.0</td>\n",
       "      <td>0.0</td>\n",
       "      <td>0.0</td>\n",
       "      <td>0.0</td>\n",
       "      <td>0.0</td>\n",
       "      <td>0.0</td>\n",
       "      <td>...</td>\n",
       "      <td>0.0</td>\n",
       "      <td>0.0</td>\n",
       "      <td>0.0</td>\n",
       "      <td>0.0</td>\n",
       "      <td>0.0</td>\n",
       "      <td>0.0</td>\n",
       "      <td>0.0</td>\n",
       "      <td>0.0</td>\n",
       "      <td>0.0</td>\n",
       "      <td>0.0</td>\n",
       "    </tr>\n",
       "    <tr>\n",
       "      <th>4</th>\n",
       "      <td>5</td>\n",
       "      <td>0.0</td>\n",
       "      <td>0.0</td>\n",
       "      <td>0.0</td>\n",
       "      <td>0.0</td>\n",
       "      <td>0.0</td>\n",
       "      <td>0.0</td>\n",
       "      <td>0.0</td>\n",
       "      <td>0.0</td>\n",
       "      <td>0.0</td>\n",
       "      <td>...</td>\n",
       "      <td>0.0</td>\n",
       "      <td>0.0</td>\n",
       "      <td>0.0</td>\n",
       "      <td>0.0</td>\n",
       "      <td>0.0</td>\n",
       "      <td>0.0</td>\n",
       "      <td>0.0</td>\n",
       "      <td>0.0</td>\n",
       "      <td>0.0</td>\n",
       "      <td>0.0</td>\n",
       "    </tr>\n",
       "  </tbody>\n",
       "</table>\n",
       "<p>5 rows × 362 columns</p>\n",
       "</div>"
      ],
      "text/plain": [
       "   Cat_customer_id__  Cat_Alcohol_agg2_rate1  Cat_Alcohol_agg2_rate2  \\\n",
       "0                  1                     0.0                     0.0   \n",
       "1                  2                     0.0                     0.0   \n",
       "2                  3                     0.0                     0.0   \n",
       "3                  4                     0.0                     0.0   \n",
       "4                  5                     0.0                     0.0   \n",
       "\n",
       "   Cat_Alcohol_agg2_rate3  Cat_Alcohol_agg2_rate4  \\\n",
       "0                     0.0                     0.0   \n",
       "1                     0.0                     0.0   \n",
       "2                     0.0                     0.0   \n",
       "3                     0.0                     0.0   \n",
       "4                     0.0                     0.0   \n",
       "\n",
       "   Cat_Alcohol_coupon_discount_max  Cat_Alcohol_coupon_discount_mean  \\\n",
       "0                              0.0                               0.0   \n",
       "1                              0.0                               0.0   \n",
       "2                              0.0                               0.0   \n",
       "3                              0.0                               0.0   \n",
       "4                              0.0                               0.0   \n",
       "\n",
       "   Cat_Alcohol_coupon_discount_min  Cat_Alcohol_coupon_discount_std  \\\n",
       "0                              0.0                              0.0   \n",
       "1                              0.0                              0.0   \n",
       "2                              0.0                              0.0   \n",
       "3                              0.0                              0.0   \n",
       "4                              0.0                              0.0   \n",
       "\n",
       "   Cat_Alcohol_coupon_use_flag_sum  ...  \\\n",
       "0                              0.0  ...   \n",
       "1                              0.0  ...   \n",
       "2                              0.0  ...   \n",
       "3                              0.0  ...   \n",
       "4                              0.0  ...   \n",
       "\n",
       "   Cat_Vegetables (cut)_other_discount_max  \\\n",
       "0                                      0.0   \n",
       "1                                      0.0   \n",
       "2                                      0.0   \n",
       "3                                      0.0   \n",
       "4                                      0.0   \n",
       "\n",
       "   Cat_Vegetables (cut)_other_discount_mean  \\\n",
       "0                                       0.0   \n",
       "1                                       0.0   \n",
       "2                                       0.0   \n",
       "3                                       0.0   \n",
       "4                                       0.0   \n",
       "\n",
       "   Cat_Vegetables (cut)_other_discount_min  \\\n",
       "0                                      0.0   \n",
       "1                                      0.0   \n",
       "2                                      0.0   \n",
       "3                                      0.0   \n",
       "4                                      0.0   \n",
       "\n",
       "   Cat_Vegetables (cut)_other_discount_std  Cat_Vegetables (cut)_quantity_sum  \\\n",
       "0                                      0.0                                0.0   \n",
       "1                                      0.0                                0.0   \n",
       "2                                      0.0                                0.0   \n",
       "3                                      0.0                                0.0   \n",
       "4                                      0.0                                0.0   \n",
       "\n",
       "   Cat_Vegetables (cut)_selling_price_max  \\\n",
       "0                                     0.0   \n",
       "1                                     0.0   \n",
       "2                                     0.0   \n",
       "3                                     0.0   \n",
       "4                                     0.0   \n",
       "\n",
       "   Cat_Vegetables (cut)_selling_price_mean  \\\n",
       "0                                      0.0   \n",
       "1                                      0.0   \n",
       "2                                      0.0   \n",
       "3                                      0.0   \n",
       "4                                      0.0   \n",
       "\n",
       "   Cat_Vegetables (cut)_selling_price_min  \\\n",
       "0                                     0.0   \n",
       "1                                     0.0   \n",
       "2                                     0.0   \n",
       "3                                     0.0   \n",
       "4                                     0.0   \n",
       "\n",
       "   Cat_Vegetables (cut)_selling_price_size  \\\n",
       "0                                      0.0   \n",
       "1                                      0.0   \n",
       "2                                      0.0   \n",
       "3                                      0.0   \n",
       "4                                      0.0   \n",
       "\n",
       "   Cat_Vegetables (cut)_selling_price_std  \n",
       "0                                     0.0  \n",
       "1                                     0.0  \n",
       "2                                     0.0  \n",
       "3                                     0.0  \n",
       "4                                     0.0  \n",
       "\n",
       "[5 rows x 362 columns]"
      ]
     },
     "execution_count": 59,
     "metadata": {},
     "output_type": "execute_result"
    }
   ],
   "source": [
    "transaction_item_agg2 = transaction_item.groupby(['customer_id', 'category'], as_index=False).agg({'quantity': ['sum'],\n",
    "                                                                     'selling_price' : ['size', 'std', 'mean', 'max', 'min'],\n",
    "                                                                     'other_discount' : ['std', 'mean', 'max', 'min'],\n",
    "                                                                     'coupon_discount' : ['std', 'mean', 'max', 'min'],\n",
    "                                                                     'coupon_use_flag' : ['sum']})\n",
    "transaction_item_agg2.columns=['_'.join(col).strip() for col in transaction_item_agg2.columns.values]\n",
    "#transaction_item_agg2=transaction_item_agg2.reset_index(inplace=False)\n",
    "transaction_item_agg2['agg2_rate1'] = transaction_item_agg2['coupon_use_flag_sum']/transaction_item_agg2['quantity_sum']\n",
    "transaction_item_agg2['agg2_rate2'] = transaction_item_agg2['coupon_use_flag_sum']/transaction_item_agg2['selling_price_size']\n",
    "transaction_item_agg2['agg2_rate3'] = transaction_item_agg2['selling_price_size']/transaction_item_agg2['quantity_sum']\n",
    "transaction_item_agg2['agg2_rate4'] = transaction_item_agg2['coupon_discount_mean']/transaction_item_agg2['selling_price_mean']\n",
    "\n",
    "#transaction_item_agg2.head()\n",
    "transaction_item_piv2 = pd.melt(transaction_item_agg2, id_vars =['customer_id_', 'category_'])\n",
    "transaction_item_piv2 = (transaction_item_piv2.pivot_table(index=['customer_id_'], \n",
    "                                                           columns=('category_', 'variable'),\n",
    "                                                           values='value').reset_index())\n",
    "transaction_item_piv2.fillna(0, inplace = True)\n",
    "transaction_item_piv2.columns=['Cat_'+'_'.join(col).strip() for col in transaction_item_piv2.columns.values]\n",
    "#transaction_item_piv2.reset_index(inplace=False)\n",
    "transaction_item_piv2.head()"
   ]
  },
  {
   "cell_type": "code",
   "execution_count": 60,
   "metadata": {},
   "outputs": [
    {
     "data": {
      "text/html": [
       "<div>\n",
       "<style scoped>\n",
       "    .dataframe tbody tr th:only-of-type {\n",
       "        vertical-align: middle;\n",
       "    }\n",
       "\n",
       "    .dataframe tbody tr th {\n",
       "        vertical-align: top;\n",
       "    }\n",
       "\n",
       "    .dataframe thead th {\n",
       "        text-align: right;\n",
       "    }\n",
       "</style>\n",
       "<table border=\"1\" class=\"dataframe\">\n",
       "  <thead>\n",
       "    <tr style=\"text-align: right;\">\n",
       "      <th></th>\n",
       "      <th>Brand_customer_id__</th>\n",
       "      <th>Brand_Established_agg3_rate1</th>\n",
       "      <th>Brand_Established_agg3_rate2</th>\n",
       "      <th>Brand_Established_agg3_rate3</th>\n",
       "      <th>Brand_Established_agg3_rate4</th>\n",
       "      <th>Brand_Established_coupon_discount_max</th>\n",
       "      <th>Brand_Established_coupon_discount_mean</th>\n",
       "      <th>Brand_Established_coupon_discount_min</th>\n",
       "      <th>Brand_Established_coupon_discount_std</th>\n",
       "      <th>Brand_Established_coupon_use_flag_sum</th>\n",
       "      <th>...</th>\n",
       "      <th>Brand_Local_other_discount_max</th>\n",
       "      <th>Brand_Local_other_discount_mean</th>\n",
       "      <th>Brand_Local_other_discount_min</th>\n",
       "      <th>Brand_Local_other_discount_std</th>\n",
       "      <th>Brand_Local_quantity_sum</th>\n",
       "      <th>Brand_Local_selling_price_max</th>\n",
       "      <th>Brand_Local_selling_price_mean</th>\n",
       "      <th>Brand_Local_selling_price_min</th>\n",
       "      <th>Brand_Local_selling_price_size</th>\n",
       "      <th>Brand_Local_selling_price_std</th>\n",
       "    </tr>\n",
       "  </thead>\n",
       "  <tbody>\n",
       "    <tr>\n",
       "      <th>0</th>\n",
       "      <td>1</td>\n",
       "      <td>0.068844</td>\n",
       "      <td>0.081420</td>\n",
       "      <td>0.845543</td>\n",
       "      <td>0.023232</td>\n",
       "      <td>106.86</td>\n",
       "      <td>2.209635</td>\n",
       "      <td>0.0</td>\n",
       "      <td>9.622418</td>\n",
       "      <td>78.0</td>\n",
       "      <td>...</td>\n",
       "      <td>148.89</td>\n",
       "      <td>23.857333</td>\n",
       "      <td>0.0</td>\n",
       "      <td>30.793432</td>\n",
       "      <td>94.0</td>\n",
       "      <td>213.72</td>\n",
       "      <td>82.166889</td>\n",
       "      <td>18.52</td>\n",
       "      <td>90.0</td>\n",
       "      <td>38.597544</td>\n",
       "    </tr>\n",
       "    <tr>\n",
       "      <th>1</th>\n",
       "      <td>2</td>\n",
       "      <td>0.010724</td>\n",
       "      <td>0.012232</td>\n",
       "      <td>0.876676</td>\n",
       "      <td>0.006871</td>\n",
       "      <td>89.05</td>\n",
       "      <td>0.762508</td>\n",
       "      <td>0.0</td>\n",
       "      <td>7.473317</td>\n",
       "      <td>4.0</td>\n",
       "      <td>...</td>\n",
       "      <td>106.15</td>\n",
       "      <td>11.456087</td>\n",
       "      <td>0.0</td>\n",
       "      <td>19.027190</td>\n",
       "      <td>101.0</td>\n",
       "      <td>320.22</td>\n",
       "      <td>74.019783</td>\n",
       "      <td>17.45</td>\n",
       "      <td>92.0</td>\n",
       "      <td>48.886073</td>\n",
       "    </tr>\n",
       "    <tr>\n",
       "      <th>2</th>\n",
       "      <td>3</td>\n",
       "      <td>0.050621</td>\n",
       "      <td>0.089376</td>\n",
       "      <td>0.566380</td>\n",
       "      <td>0.034279</td>\n",
       "      <td>142.48</td>\n",
       "      <td>3.675447</td>\n",
       "      <td>0.0</td>\n",
       "      <td>14.842726</td>\n",
       "      <td>53.0</td>\n",
       "      <td>...</td>\n",
       "      <td>281.40</td>\n",
       "      <td>23.009554</td>\n",
       "      <td>0.0</td>\n",
       "      <td>37.447079</td>\n",
       "      <td>7116.0</td>\n",
       "      <td>712.76</td>\n",
       "      <td>84.527500</td>\n",
       "      <td>18.52</td>\n",
       "      <td>112.0</td>\n",
       "      <td>81.982532</td>\n",
       "    </tr>\n",
       "    <tr>\n",
       "      <th>3</th>\n",
       "      <td>4</td>\n",
       "      <td>0.004000</td>\n",
       "      <td>0.005208</td>\n",
       "      <td>0.768000</td>\n",
       "      <td>0.002812</td>\n",
       "      <td>89.05</td>\n",
       "      <td>0.463802</td>\n",
       "      <td>0.0</td>\n",
       "      <td>6.426630</td>\n",
       "      <td>1.0</td>\n",
       "      <td>...</td>\n",
       "      <td>53.07</td>\n",
       "      <td>14.233571</td>\n",
       "      <td>0.0</td>\n",
       "      <td>13.094637</td>\n",
       "      <td>30.0</td>\n",
       "      <td>177.74</td>\n",
       "      <td>82.320357</td>\n",
       "      <td>14.25</td>\n",
       "      <td>28.0</td>\n",
       "      <td>34.782552</td>\n",
       "    </tr>\n",
       "    <tr>\n",
       "      <th>4</th>\n",
       "      <td>5</td>\n",
       "      <td>0.002430</td>\n",
       "      <td>0.003257</td>\n",
       "      <td>0.746051</td>\n",
       "      <td>0.001099</td>\n",
       "      <td>71.24</td>\n",
       "      <td>0.147932</td>\n",
       "      <td>0.0</td>\n",
       "      <td>2.980488</td>\n",
       "      <td>2.0</td>\n",
       "      <td>...</td>\n",
       "      <td>106.86</td>\n",
       "      <td>10.005449</td>\n",
       "      <td>0.0</td>\n",
       "      <td>18.101806</td>\n",
       "      <td>92530.0</td>\n",
       "      <td>1485.35</td>\n",
       "      <td>117.950281</td>\n",
       "      <td>13.89</td>\n",
       "      <td>178.0</td>\n",
       "      <td>231.692939</td>\n",
       "    </tr>\n",
       "  </tbody>\n",
       "</table>\n",
       "<p>5 rows × 39 columns</p>\n",
       "</div>"
      ],
      "text/plain": [
       "   Brand_customer_id__  Brand_Established_agg3_rate1  \\\n",
       "0                    1                      0.068844   \n",
       "1                    2                      0.010724   \n",
       "2                    3                      0.050621   \n",
       "3                    4                      0.004000   \n",
       "4                    5                      0.002430   \n",
       "\n",
       "   Brand_Established_agg3_rate2  Brand_Established_agg3_rate3  \\\n",
       "0                      0.081420                      0.845543   \n",
       "1                      0.012232                      0.876676   \n",
       "2                      0.089376                      0.566380   \n",
       "3                      0.005208                      0.768000   \n",
       "4                      0.003257                      0.746051   \n",
       "\n",
       "   Brand_Established_agg3_rate4  Brand_Established_coupon_discount_max  \\\n",
       "0                      0.023232                                 106.86   \n",
       "1                      0.006871                                  89.05   \n",
       "2                      0.034279                                 142.48   \n",
       "3                      0.002812                                  89.05   \n",
       "4                      0.001099                                  71.24   \n",
       "\n",
       "   Brand_Established_coupon_discount_mean  \\\n",
       "0                                2.209635   \n",
       "1                                0.762508   \n",
       "2                                3.675447   \n",
       "3                                0.463802   \n",
       "4                                0.147932   \n",
       "\n",
       "   Brand_Established_coupon_discount_min  \\\n",
       "0                                    0.0   \n",
       "1                                    0.0   \n",
       "2                                    0.0   \n",
       "3                                    0.0   \n",
       "4                                    0.0   \n",
       "\n",
       "   Brand_Established_coupon_discount_std  \\\n",
       "0                               9.622418   \n",
       "1                               7.473317   \n",
       "2                              14.842726   \n",
       "3                               6.426630   \n",
       "4                               2.980488   \n",
       "\n",
       "   Brand_Established_coupon_use_flag_sum  ...  Brand_Local_other_discount_max  \\\n",
       "0                                   78.0  ...                          148.89   \n",
       "1                                    4.0  ...                          106.15   \n",
       "2                                   53.0  ...                          281.40   \n",
       "3                                    1.0  ...                           53.07   \n",
       "4                                    2.0  ...                          106.86   \n",
       "\n",
       "   Brand_Local_other_discount_mean  Brand_Local_other_discount_min  \\\n",
       "0                        23.857333                             0.0   \n",
       "1                        11.456087                             0.0   \n",
       "2                        23.009554                             0.0   \n",
       "3                        14.233571                             0.0   \n",
       "4                        10.005449                             0.0   \n",
       "\n",
       "   Brand_Local_other_discount_std  Brand_Local_quantity_sum  \\\n",
       "0                       30.793432                      94.0   \n",
       "1                       19.027190                     101.0   \n",
       "2                       37.447079                    7116.0   \n",
       "3                       13.094637                      30.0   \n",
       "4                       18.101806                   92530.0   \n",
       "\n",
       "   Brand_Local_selling_price_max  Brand_Local_selling_price_mean  \\\n",
       "0                         213.72                       82.166889   \n",
       "1                         320.22                       74.019783   \n",
       "2                         712.76                       84.527500   \n",
       "3                         177.74                       82.320357   \n",
       "4                        1485.35                      117.950281   \n",
       "\n",
       "   Brand_Local_selling_price_min  Brand_Local_selling_price_size  \\\n",
       "0                          18.52                            90.0   \n",
       "1                          17.45                            92.0   \n",
       "2                          18.52                           112.0   \n",
       "3                          14.25                            28.0   \n",
       "4                          13.89                           178.0   \n",
       "\n",
       "   Brand_Local_selling_price_std  \n",
       "0                      38.597544  \n",
       "1                      48.886073  \n",
       "2                      81.982532  \n",
       "3                      34.782552  \n",
       "4                     231.692939  \n",
       "\n",
       "[5 rows x 39 columns]"
      ]
     },
     "execution_count": 60,
     "metadata": {},
     "output_type": "execute_result"
    }
   ],
   "source": [
    "transaction_item_agg3 = transaction_item.groupby(['customer_id', 'brand_type'], as_index=False).agg({'quantity': ['sum'],\n",
    "                                                                     'selling_price' : ['size', 'std', 'mean', 'max', 'min'],\n",
    "                                                                     'other_discount' : ['std', 'mean', 'max', 'min'],\n",
    "                                                                     'coupon_discount' : ['std', 'mean', 'max', 'min'],\n",
    "                                                                     'coupon_use_flag' : ['sum']})\n",
    "transaction_item_agg3.columns=['_'.join(col).strip() for col in transaction_item_agg3.columns.values]\n",
    "\n",
    "transaction_item_agg3['agg3_rate1'] = transaction_item_agg3['coupon_use_flag_sum']/transaction_item_agg3['quantity_sum']\n",
    "transaction_item_agg3['agg3_rate2'] = transaction_item_agg3['coupon_use_flag_sum']/transaction_item_agg3['selling_price_size']\n",
    "transaction_item_agg3['agg3_rate3'] = transaction_item_agg3['selling_price_size']/transaction_item_agg3['quantity_sum']\n",
    "transaction_item_agg3['agg3_rate4'] = transaction_item_agg3['coupon_discount_mean']/transaction_item_agg3['selling_price_mean']\n",
    "\n",
    "transaction_item_piv3 = pd.melt(transaction_item_agg3, id_vars =['customer_id_', 'brand_type_'])\n",
    "transaction_item_piv3 = (transaction_item_piv3.pivot_table(index=['customer_id_'], \n",
    "                                                           columns=('brand_type_', 'variable'),\n",
    "                                                           values='value').reset_index())\n",
    "transaction_item_piv3.fillna(0, inplace = True)\n",
    "transaction_item_piv3.columns=['Brand_'+'_'.join(col).strip() for col in transaction_item_piv3.columns.values]\n",
    "transaction_item_piv3.reset_index(inplace=False)\n",
    "transaction_item_piv3.head()"
   ]
  },
  {
   "cell_type": "code",
   "execution_count": 61,
   "metadata": {},
   "outputs": [
    {
     "data": {
      "text/html": [
       "<div>\n",
       "<style scoped>\n",
       "    .dataframe tbody tr th:only-of-type {\n",
       "        vertical-align: middle;\n",
       "    }\n",
       "\n",
       "    .dataframe tbody tr th {\n",
       "        vertical-align: top;\n",
       "    }\n",
       "\n",
       "    .dataframe thead th {\n",
       "        text-align: right;\n",
       "    }\n",
       "</style>\n",
       "<table border=\"1\" class=\"dataframe\">\n",
       "  <thead>\n",
       "    <tr style=\"text-align: right;\">\n",
       "      <th></th>\n",
       "      <th>Brand_customer_id___</th>\n",
       "      <th>Brand_Established_Alcohol_agg5_rate1</th>\n",
       "      <th>Brand_Established_Alcohol_agg5_rate2</th>\n",
       "      <th>Brand_Established_Alcohol_agg5_rate3</th>\n",
       "      <th>Brand_Established_Alcohol_agg5_rate4</th>\n",
       "      <th>Brand_Established_Alcohol_coupon_discount_max</th>\n",
       "      <th>Brand_Established_Alcohol_coupon_discount_mean</th>\n",
       "      <th>Brand_Established_Alcohol_coupon_discount_min</th>\n",
       "      <th>Brand_Established_Alcohol_coupon_discount_std</th>\n",
       "      <th>Brand_Established_Alcohol_coupon_use_flag_sum</th>\n",
       "      <th>...</th>\n",
       "      <th>Brand_Local_Skin &amp; Hair Care_other_discount_max</th>\n",
       "      <th>Brand_Local_Skin &amp; Hair Care_other_discount_mean</th>\n",
       "      <th>Brand_Local_Skin &amp; Hair Care_other_discount_min</th>\n",
       "      <th>Brand_Local_Skin &amp; Hair Care_other_discount_std</th>\n",
       "      <th>Brand_Local_Skin &amp; Hair Care_quantity_sum</th>\n",
       "      <th>Brand_Local_Skin &amp; Hair Care_selling_price_max</th>\n",
       "      <th>Brand_Local_Skin &amp; Hair Care_selling_price_mean</th>\n",
       "      <th>Brand_Local_Skin &amp; Hair Care_selling_price_min</th>\n",
       "      <th>Brand_Local_Skin &amp; Hair Care_selling_price_size</th>\n",
       "      <th>Brand_Local_Skin &amp; Hair Care_selling_price_std</th>\n",
       "    </tr>\n",
       "  </thead>\n",
       "  <tbody>\n",
       "    <tr>\n",
       "      <th>0</th>\n",
       "      <td>1</td>\n",
       "      <td>0.0</td>\n",
       "      <td>0.0</td>\n",
       "      <td>0.0</td>\n",
       "      <td>0.0</td>\n",
       "      <td>0.0</td>\n",
       "      <td>0.0</td>\n",
       "      <td>0.0</td>\n",
       "      <td>0.0</td>\n",
       "      <td>0.0</td>\n",
       "      <td>...</td>\n",
       "      <td>0.0</td>\n",
       "      <td>0.0</td>\n",
       "      <td>0.0</td>\n",
       "      <td>0.0</td>\n",
       "      <td>0.0</td>\n",
       "      <td>0.0</td>\n",
       "      <td>0.0</td>\n",
       "      <td>0.0</td>\n",
       "      <td>0.0</td>\n",
       "      <td>0.0</td>\n",
       "    </tr>\n",
       "    <tr>\n",
       "      <th>1</th>\n",
       "      <td>2</td>\n",
       "      <td>0.0</td>\n",
       "      <td>0.0</td>\n",
       "      <td>0.0</td>\n",
       "      <td>0.0</td>\n",
       "      <td>0.0</td>\n",
       "      <td>0.0</td>\n",
       "      <td>0.0</td>\n",
       "      <td>0.0</td>\n",
       "      <td>0.0</td>\n",
       "      <td>...</td>\n",
       "      <td>0.0</td>\n",
       "      <td>0.0</td>\n",
       "      <td>0.0</td>\n",
       "      <td>0.0</td>\n",
       "      <td>0.0</td>\n",
       "      <td>0.0</td>\n",
       "      <td>0.0</td>\n",
       "      <td>0.0</td>\n",
       "      <td>0.0</td>\n",
       "      <td>0.0</td>\n",
       "    </tr>\n",
       "    <tr>\n",
       "      <th>2</th>\n",
       "      <td>3</td>\n",
       "      <td>0.0</td>\n",
       "      <td>0.0</td>\n",
       "      <td>0.0</td>\n",
       "      <td>0.0</td>\n",
       "      <td>0.0</td>\n",
       "      <td>0.0</td>\n",
       "      <td>0.0</td>\n",
       "      <td>0.0</td>\n",
       "      <td>0.0</td>\n",
       "      <td>...</td>\n",
       "      <td>0.0</td>\n",
       "      <td>0.0</td>\n",
       "      <td>0.0</td>\n",
       "      <td>0.0</td>\n",
       "      <td>0.0</td>\n",
       "      <td>0.0</td>\n",
       "      <td>0.0</td>\n",
       "      <td>0.0</td>\n",
       "      <td>0.0</td>\n",
       "      <td>0.0</td>\n",
       "    </tr>\n",
       "    <tr>\n",
       "      <th>3</th>\n",
       "      <td>4</td>\n",
       "      <td>0.0</td>\n",
       "      <td>0.0</td>\n",
       "      <td>0.0</td>\n",
       "      <td>0.0</td>\n",
       "      <td>0.0</td>\n",
       "      <td>0.0</td>\n",
       "      <td>0.0</td>\n",
       "      <td>0.0</td>\n",
       "      <td>0.0</td>\n",
       "      <td>...</td>\n",
       "      <td>0.0</td>\n",
       "      <td>0.0</td>\n",
       "      <td>0.0</td>\n",
       "      <td>0.0</td>\n",
       "      <td>0.0</td>\n",
       "      <td>0.0</td>\n",
       "      <td>0.0</td>\n",
       "      <td>0.0</td>\n",
       "      <td>0.0</td>\n",
       "      <td>0.0</td>\n",
       "    </tr>\n",
       "    <tr>\n",
       "      <th>4</th>\n",
       "      <td>5</td>\n",
       "      <td>0.0</td>\n",
       "      <td>0.0</td>\n",
       "      <td>0.0</td>\n",
       "      <td>0.0</td>\n",
       "      <td>0.0</td>\n",
       "      <td>0.0</td>\n",
       "      <td>0.0</td>\n",
       "      <td>0.0</td>\n",
       "      <td>0.0</td>\n",
       "      <td>...</td>\n",
       "      <td>0.0</td>\n",
       "      <td>0.0</td>\n",
       "      <td>0.0</td>\n",
       "      <td>0.0</td>\n",
       "      <td>0.0</td>\n",
       "      <td>0.0</td>\n",
       "      <td>0.0</td>\n",
       "      <td>0.0</td>\n",
       "      <td>0.0</td>\n",
       "      <td>0.0</td>\n",
       "    </tr>\n",
       "  </tbody>\n",
       "</table>\n",
       "<p>5 rows × 622 columns</p>\n",
       "</div>"
      ],
      "text/plain": [
       "   Brand_customer_id___  Brand_Established_Alcohol_agg5_rate1  \\\n",
       "0                     1                                   0.0   \n",
       "1                     2                                   0.0   \n",
       "2                     3                                   0.0   \n",
       "3                     4                                   0.0   \n",
       "4                     5                                   0.0   \n",
       "\n",
       "   Brand_Established_Alcohol_agg5_rate2  Brand_Established_Alcohol_agg5_rate3  \\\n",
       "0                                   0.0                                   0.0   \n",
       "1                                   0.0                                   0.0   \n",
       "2                                   0.0                                   0.0   \n",
       "3                                   0.0                                   0.0   \n",
       "4                                   0.0                                   0.0   \n",
       "\n",
       "   Brand_Established_Alcohol_agg5_rate4  \\\n",
       "0                                   0.0   \n",
       "1                                   0.0   \n",
       "2                                   0.0   \n",
       "3                                   0.0   \n",
       "4                                   0.0   \n",
       "\n",
       "   Brand_Established_Alcohol_coupon_discount_max  \\\n",
       "0                                            0.0   \n",
       "1                                            0.0   \n",
       "2                                            0.0   \n",
       "3                                            0.0   \n",
       "4                                            0.0   \n",
       "\n",
       "   Brand_Established_Alcohol_coupon_discount_mean  \\\n",
       "0                                             0.0   \n",
       "1                                             0.0   \n",
       "2                                             0.0   \n",
       "3                                             0.0   \n",
       "4                                             0.0   \n",
       "\n",
       "   Brand_Established_Alcohol_coupon_discount_min  \\\n",
       "0                                            0.0   \n",
       "1                                            0.0   \n",
       "2                                            0.0   \n",
       "3                                            0.0   \n",
       "4                                            0.0   \n",
       "\n",
       "   Brand_Established_Alcohol_coupon_discount_std  \\\n",
       "0                                            0.0   \n",
       "1                                            0.0   \n",
       "2                                            0.0   \n",
       "3                                            0.0   \n",
       "4                                            0.0   \n",
       "\n",
       "   Brand_Established_Alcohol_coupon_use_flag_sum  ...  \\\n",
       "0                                            0.0  ...   \n",
       "1                                            0.0  ...   \n",
       "2                                            0.0  ...   \n",
       "3                                            0.0  ...   \n",
       "4                                            0.0  ...   \n",
       "\n",
       "   Brand_Local_Skin & Hair Care_other_discount_max  \\\n",
       "0                                              0.0   \n",
       "1                                              0.0   \n",
       "2                                              0.0   \n",
       "3                                              0.0   \n",
       "4                                              0.0   \n",
       "\n",
       "   Brand_Local_Skin & Hair Care_other_discount_mean  \\\n",
       "0                                               0.0   \n",
       "1                                               0.0   \n",
       "2                                               0.0   \n",
       "3                                               0.0   \n",
       "4                                               0.0   \n",
       "\n",
       "   Brand_Local_Skin & Hair Care_other_discount_min  \\\n",
       "0                                              0.0   \n",
       "1                                              0.0   \n",
       "2                                              0.0   \n",
       "3                                              0.0   \n",
       "4                                              0.0   \n",
       "\n",
       "   Brand_Local_Skin & Hair Care_other_discount_std  \\\n",
       "0                                              0.0   \n",
       "1                                              0.0   \n",
       "2                                              0.0   \n",
       "3                                              0.0   \n",
       "4                                              0.0   \n",
       "\n",
       "   Brand_Local_Skin & Hair Care_quantity_sum  \\\n",
       "0                                        0.0   \n",
       "1                                        0.0   \n",
       "2                                        0.0   \n",
       "3                                        0.0   \n",
       "4                                        0.0   \n",
       "\n",
       "   Brand_Local_Skin & Hair Care_selling_price_max  \\\n",
       "0                                             0.0   \n",
       "1                                             0.0   \n",
       "2                                             0.0   \n",
       "3                                             0.0   \n",
       "4                                             0.0   \n",
       "\n",
       "   Brand_Local_Skin & Hair Care_selling_price_mean  \\\n",
       "0                                              0.0   \n",
       "1                                              0.0   \n",
       "2                                              0.0   \n",
       "3                                              0.0   \n",
       "4                                              0.0   \n",
       "\n",
       "   Brand_Local_Skin & Hair Care_selling_price_min  \\\n",
       "0                                             0.0   \n",
       "1                                             0.0   \n",
       "2                                             0.0   \n",
       "3                                             0.0   \n",
       "4                                             0.0   \n",
       "\n",
       "   Brand_Local_Skin & Hair Care_selling_price_size  \\\n",
       "0                                              0.0   \n",
       "1                                              0.0   \n",
       "2                                              0.0   \n",
       "3                                              0.0   \n",
       "4                                              0.0   \n",
       "\n",
       "   Brand_Local_Skin & Hair Care_selling_price_std  \n",
       "0                                             0.0  \n",
       "1                                             0.0  \n",
       "2                                             0.0  \n",
       "3                                             0.0  \n",
       "4                                             0.0  \n",
       "\n",
       "[5 rows x 622 columns]"
      ]
     },
     "execution_count": 61,
     "metadata": {},
     "output_type": "execute_result"
    }
   ],
   "source": [
    "transaction_item_agg5 = transaction_item.groupby(['customer_id', 'brand_type', 'category'], as_index=False).agg({'quantity': ['sum'],\n",
    "                                                                     'selling_price' : ['size', 'std', 'mean', 'max', 'min'],\n",
    "                                                                     'other_discount' : ['std', 'mean', 'max', 'min'],\n",
    "                                                                     'coupon_discount' : ['std', 'mean', 'max', 'min'],\n",
    "                                                                     'coupon_use_flag' : ['sum']})\n",
    "transaction_item_agg5.columns=['_'.join(col).strip() for col in transaction_item_agg5.columns.values]\n",
    "\n",
    "transaction_item_agg5['agg5_rate1'] = transaction_item_agg5['coupon_use_flag_sum']/transaction_item_agg5['quantity_sum']\n",
    "transaction_item_agg5['agg5_rate2'] = transaction_item_agg5['coupon_use_flag_sum']/transaction_item_agg5['selling_price_size']\n",
    "transaction_item_agg5['agg5_rate3'] = transaction_item_agg5['selling_price_size']/transaction_item_agg5['quantity_sum']\n",
    "transaction_item_agg5['agg5_rate4'] = transaction_item_agg5['coupon_discount_mean']/transaction_item_agg5['selling_price_mean']\n",
    "\n",
    "transaction_item_piv5 = pd.melt(transaction_item_agg5, id_vars =['customer_id_', 'brand_type_', 'category_'])\n",
    "transaction_item_piv5 = (transaction_item_piv5.pivot_table(index=['customer_id_'], \n",
    "                                                           columns=('brand_type_','category_', 'variable'),\n",
    "                                                           values='value').reset_index())\n",
    "transaction_item_piv5.fillna(0, inplace = True)\n",
    "transaction_item_piv5.columns=['Brand_'+'_'.join(col).strip() for col in transaction_item_piv5.columns.values]\n",
    "transaction_item_piv5.reset_index(inplace=False)\n",
    "transaction_item_piv5.head()"
   ]
  },
  {
   "cell_type": "code",
   "execution_count": 62,
   "metadata": {},
   "outputs": [],
   "source": [
    "# transaction_item_agg4 = transaction_item.groupby(['customer_id', 'brand'], as_index=False).agg({'quantity': ['sum'],\n",
    "#                                                                      'selling_price' : ['size', 'std', 'mean', 'max', 'min'],\n",
    "#                                                                      'other_discount' : ['std', 'mean', 'max', 'min'],\n",
    "#                                                                      'coupon_discount' : ['std', 'mean', 'max', 'min'],\n",
    "#                                                                      'coupon_use_flag' : ['sum']})\n",
    "# transaction_item_agg4.columns=['_'.join(col).strip() for col in transaction_item_agg4.columns.values]\n",
    "# transaction_item_agg4.reset_index(inplace=False)\n",
    "# transaction_item_agg4.head()\n",
    "# transaction_item_piv4 = pd.melt(transaction_item_agg4, id_vars =['customer_id_', 'brand_'])\n",
    "# transaction_item_piv4 = (transaction_item_piv4.pivot_table(index=['customer_id_'], \n",
    "#                                                            columns=('brand_', 'variable'),\n",
    "#                                                            values='value').reset_index())\n",
    "# transaction_item_piv4.fillna(0, inplace = True)\n",
    "# transaction_item_piv4.columns=['Br_'+'_'.join(col).strip() for col in transaction_item_piv4.columns.values]\n",
    "# transaction_item_piv4.reset_index(inplace=False)\n",
    "# transaction_item_piv4.head()"
   ]
  },
  {
   "cell_type": "code",
   "execution_count": 63,
   "metadata": {},
   "outputs": [
    {
     "data": {
      "text/html": [
       "<div>\n",
       "<style scoped>\n",
       "    .dataframe tbody tr th:only-of-type {\n",
       "        vertical-align: middle;\n",
       "    }\n",
       "\n",
       "    .dataframe tbody tr th {\n",
       "        vertical-align: top;\n",
       "    }\n",
       "\n",
       "    .dataframe thead th {\n",
       "        text-align: right;\n",
       "    }\n",
       "</style>\n",
       "<table border=\"1\" class=\"dataframe\">\n",
       "  <thead>\n",
       "    <tr style=\"text-align: right;\">\n",
       "      <th></th>\n",
       "      <th>date</th>\n",
       "      <th>customer_id</th>\n",
       "      <th>item_id</th>\n",
       "      <th>quantity</th>\n",
       "      <th>selling_price</th>\n",
       "      <th>other_discount</th>\n",
       "      <th>coupon_discount</th>\n",
       "    </tr>\n",
       "  </thead>\n",
       "  <tbody>\n",
       "    <tr>\n",
       "      <th>0</th>\n",
       "      <td>2012-01-02</td>\n",
       "      <td>1501</td>\n",
       "      <td>26830</td>\n",
       "      <td>1</td>\n",
       "      <td>35.26</td>\n",
       "      <td>-10.69</td>\n",
       "      <td>0.0</td>\n",
       "    </tr>\n",
       "    <tr>\n",
       "      <th>1</th>\n",
       "      <td>2012-01-02</td>\n",
       "      <td>1501</td>\n",
       "      <td>54253</td>\n",
       "      <td>1</td>\n",
       "      <td>53.43</td>\n",
       "      <td>-13.89</td>\n",
       "      <td>0.0</td>\n",
       "    </tr>\n",
       "    <tr>\n",
       "      <th>2</th>\n",
       "      <td>2012-01-02</td>\n",
       "      <td>1501</td>\n",
       "      <td>31962</td>\n",
       "      <td>1</td>\n",
       "      <td>106.50</td>\n",
       "      <td>-14.25</td>\n",
       "      <td>0.0</td>\n",
       "    </tr>\n",
       "    <tr>\n",
       "      <th>3</th>\n",
       "      <td>2012-01-02</td>\n",
       "      <td>1501</td>\n",
       "      <td>33647</td>\n",
       "      <td>1</td>\n",
       "      <td>67.32</td>\n",
       "      <td>0.00</td>\n",
       "      <td>0.0</td>\n",
       "    </tr>\n",
       "    <tr>\n",
       "      <th>4</th>\n",
       "      <td>2012-01-02</td>\n",
       "      <td>1501</td>\n",
       "      <td>48199</td>\n",
       "      <td>1</td>\n",
       "      <td>71.24</td>\n",
       "      <td>-28.14</td>\n",
       "      <td>0.0</td>\n",
       "    </tr>\n",
       "  </tbody>\n",
       "</table>\n",
       "</div>"
      ],
      "text/plain": [
       "         date  customer_id  item_id  quantity  selling_price  other_discount  \\\n",
       "0  2012-01-02         1501    26830         1          35.26          -10.69   \n",
       "1  2012-01-02         1501    54253         1          53.43          -13.89   \n",
       "2  2012-01-02         1501    31962         1         106.50          -14.25   \n",
       "3  2012-01-02         1501    33647         1          67.32            0.00   \n",
       "4  2012-01-02         1501    48199         1          71.24          -28.14   \n",
       "\n",
       "   coupon_discount  \n",
       "0              0.0  \n",
       "1              0.0  \n",
       "2              0.0  \n",
       "3              0.0  \n",
       "4              0.0  "
      ]
     },
     "execution_count": 63,
     "metadata": {},
     "output_type": "execute_result"
    }
   ],
   "source": [
    "transaction.head()"
   ]
  },
  {
   "cell_type": "code",
   "execution_count": null,
   "metadata": {},
   "outputs": [],
   "source": []
  },
  {
   "cell_type": "code",
   "execution_count": 64,
   "metadata": {},
   "outputs": [],
   "source": [
    "campaign = pd.read_csv(\"campaign_data.csv\")"
   ]
  },
  {
   "cell_type": "code",
   "execution_count": 65,
   "metadata": {},
   "outputs": [],
   "source": [
    "campaign['start_date'] = pd.to_datetime(campaign['start_date'], format='%d/%m/%y')\n",
    "campaign['end_date'] = pd.to_datetime(campaign['end_date'], format='%d/%m/%y')"
   ]
  },
  {
   "cell_type": "code",
   "execution_count": 66,
   "metadata": {},
   "outputs": [],
   "source": [
    "campaign['duration'] = (campaign['end_date']-campaign['start_date']).dt.days"
   ]
  },
  {
   "cell_type": "code",
   "execution_count": 67,
   "metadata": {},
   "outputs": [],
   "source": [
    "campaign['start_month'] = campaign['start_date'].dt.month\n",
    "campaign['end_month'] = campaign['end_date'].dt.month"
   ]
  },
  {
   "cell_type": "code",
   "execution_count": 68,
   "metadata": {},
   "outputs": [],
   "source": [
    "campaign['start_date_new'] = (campaign['start_date']-campaign.start_date.min()).dt.days\n",
    "campaign['end_date_new'] = (campaign['end_date']-campaign.start_date.min()).dt.days"
   ]
  },
  {
   "cell_type": "code",
   "execution_count": 69,
   "metadata": {},
   "outputs": [
    {
     "data": {
      "text/html": [
       "<div>\n",
       "<style scoped>\n",
       "    .dataframe tbody tr th:only-of-type {\n",
       "        vertical-align: middle;\n",
       "    }\n",
       "\n",
       "    .dataframe tbody tr th {\n",
       "        vertical-align: top;\n",
       "    }\n",
       "\n",
       "    .dataframe thead th {\n",
       "        text-align: right;\n",
       "    }\n",
       "</style>\n",
       "<table border=\"1\" class=\"dataframe\">\n",
       "  <thead>\n",
       "    <tr style=\"text-align: right;\">\n",
       "      <th></th>\n",
       "      <th>campaign_id</th>\n",
       "      <th>campaign_type</th>\n",
       "      <th>start_date</th>\n",
       "      <th>end_date</th>\n",
       "      <th>duration</th>\n",
       "      <th>start_month</th>\n",
       "      <th>end_month</th>\n",
       "      <th>start_date_new</th>\n",
       "      <th>end_date_new</th>\n",
       "    </tr>\n",
       "  </thead>\n",
       "  <tbody>\n",
       "    <tr>\n",
       "      <th>0</th>\n",
       "      <td>24</td>\n",
       "      <td>Y</td>\n",
       "      <td>2013-10-21</td>\n",
       "      <td>2013-12-20</td>\n",
       "      <td>60</td>\n",
       "      <td>10</td>\n",
       "      <td>12</td>\n",
       "      <td>435</td>\n",
       "      <td>495</td>\n",
       "    </tr>\n",
       "    <tr>\n",
       "      <th>1</th>\n",
       "      <td>25</td>\n",
       "      <td>Y</td>\n",
       "      <td>2013-10-21</td>\n",
       "      <td>2013-11-22</td>\n",
       "      <td>32</td>\n",
       "      <td>10</td>\n",
       "      <td>11</td>\n",
       "      <td>435</td>\n",
       "      <td>467</td>\n",
       "    </tr>\n",
       "    <tr>\n",
       "      <th>2</th>\n",
       "      <td>20</td>\n",
       "      <td>Y</td>\n",
       "      <td>2013-09-07</td>\n",
       "      <td>2013-11-16</td>\n",
       "      <td>70</td>\n",
       "      <td>9</td>\n",
       "      <td>11</td>\n",
       "      <td>391</td>\n",
       "      <td>461</td>\n",
       "    </tr>\n",
       "    <tr>\n",
       "      <th>3</th>\n",
       "      <td>23</td>\n",
       "      <td>Y</td>\n",
       "      <td>2013-10-08</td>\n",
       "      <td>2013-11-15</td>\n",
       "      <td>38</td>\n",
       "      <td>10</td>\n",
       "      <td>11</td>\n",
       "      <td>422</td>\n",
       "      <td>460</td>\n",
       "    </tr>\n",
       "    <tr>\n",
       "      <th>4</th>\n",
       "      <td>21</td>\n",
       "      <td>Y</td>\n",
       "      <td>2013-09-16</td>\n",
       "      <td>2013-10-18</td>\n",
       "      <td>32</td>\n",
       "      <td>9</td>\n",
       "      <td>10</td>\n",
       "      <td>400</td>\n",
       "      <td>432</td>\n",
       "    </tr>\n",
       "    <tr>\n",
       "      <th>5</th>\n",
       "      <td>22</td>\n",
       "      <td>X</td>\n",
       "      <td>2013-09-16</td>\n",
       "      <td>2013-10-18</td>\n",
       "      <td>32</td>\n",
       "      <td>9</td>\n",
       "      <td>10</td>\n",
       "      <td>400</td>\n",
       "      <td>432</td>\n",
       "    </tr>\n",
       "    <tr>\n",
       "      <th>6</th>\n",
       "      <td>18</td>\n",
       "      <td>X</td>\n",
       "      <td>2013-08-10</td>\n",
       "      <td>2013-10-04</td>\n",
       "      <td>55</td>\n",
       "      <td>8</td>\n",
       "      <td>10</td>\n",
       "      <td>363</td>\n",
       "      <td>418</td>\n",
       "    </tr>\n",
       "    <tr>\n",
       "      <th>7</th>\n",
       "      <td>19</td>\n",
       "      <td>Y</td>\n",
       "      <td>2013-08-26</td>\n",
       "      <td>2013-09-27</td>\n",
       "      <td>32</td>\n",
       "      <td>8</td>\n",
       "      <td>9</td>\n",
       "      <td>379</td>\n",
       "      <td>411</td>\n",
       "    </tr>\n",
       "    <tr>\n",
       "      <th>8</th>\n",
       "      <td>17</td>\n",
       "      <td>Y</td>\n",
       "      <td>2013-07-29</td>\n",
       "      <td>2013-08-30</td>\n",
       "      <td>32</td>\n",
       "      <td>7</td>\n",
       "      <td>8</td>\n",
       "      <td>351</td>\n",
       "      <td>383</td>\n",
       "    </tr>\n",
       "    <tr>\n",
       "      <th>9</th>\n",
       "      <td>16</td>\n",
       "      <td>Y</td>\n",
       "      <td>2013-07-15</td>\n",
       "      <td>2013-08-16</td>\n",
       "      <td>32</td>\n",
       "      <td>7</td>\n",
       "      <td>8</td>\n",
       "      <td>337</td>\n",
       "      <td>369</td>\n",
       "    </tr>\n",
       "    <tr>\n",
       "      <th>10</th>\n",
       "      <td>13</td>\n",
       "      <td>X</td>\n",
       "      <td>2013-05-19</td>\n",
       "      <td>2013-07-05</td>\n",
       "      <td>47</td>\n",
       "      <td>5</td>\n",
       "      <td>7</td>\n",
       "      <td>280</td>\n",
       "      <td>327</td>\n",
       "    </tr>\n",
       "    <tr>\n",
       "      <th>11</th>\n",
       "      <td>11</td>\n",
       "      <td>Y</td>\n",
       "      <td>2013-04-22</td>\n",
       "      <td>2013-06-07</td>\n",
       "      <td>46</td>\n",
       "      <td>4</td>\n",
       "      <td>6</td>\n",
       "      <td>253</td>\n",
       "      <td>299</td>\n",
       "    </tr>\n",
       "    <tr>\n",
       "      <th>12</th>\n",
       "      <td>12</td>\n",
       "      <td>Y</td>\n",
       "      <td>2013-04-22</td>\n",
       "      <td>2013-05-24</td>\n",
       "      <td>32</td>\n",
       "      <td>4</td>\n",
       "      <td>5</td>\n",
       "      <td>253</td>\n",
       "      <td>285</td>\n",
       "    </tr>\n",
       "    <tr>\n",
       "      <th>13</th>\n",
       "      <td>10</td>\n",
       "      <td>Y</td>\n",
       "      <td>2013-04-08</td>\n",
       "      <td>2013-05-10</td>\n",
       "      <td>32</td>\n",
       "      <td>4</td>\n",
       "      <td>5</td>\n",
       "      <td>239</td>\n",
       "      <td>271</td>\n",
       "    </tr>\n",
       "    <tr>\n",
       "      <th>14</th>\n",
       "      <td>9</td>\n",
       "      <td>Y</td>\n",
       "      <td>2013-03-11</td>\n",
       "      <td>2013-04-12</td>\n",
       "      <td>32</td>\n",
       "      <td>3</td>\n",
       "      <td>4</td>\n",
       "      <td>211</td>\n",
       "      <td>243</td>\n",
       "    </tr>\n",
       "    <tr>\n",
       "      <th>15</th>\n",
       "      <td>8</td>\n",
       "      <td>X</td>\n",
       "      <td>2013-02-16</td>\n",
       "      <td>2013-04-05</td>\n",
       "      <td>48</td>\n",
       "      <td>2</td>\n",
       "      <td>4</td>\n",
       "      <td>188</td>\n",
       "      <td>236</td>\n",
       "    </tr>\n",
       "    <tr>\n",
       "      <th>16</th>\n",
       "      <td>7</td>\n",
       "      <td>Y</td>\n",
       "      <td>2013-02-02</td>\n",
       "      <td>2013-03-08</td>\n",
       "      <td>34</td>\n",
       "      <td>2</td>\n",
       "      <td>3</td>\n",
       "      <td>174</td>\n",
       "      <td>208</td>\n",
       "    </tr>\n",
       "    <tr>\n",
       "      <th>17</th>\n",
       "      <td>6</td>\n",
       "      <td>Y</td>\n",
       "      <td>2013-01-28</td>\n",
       "      <td>2013-03-01</td>\n",
       "      <td>32</td>\n",
       "      <td>1</td>\n",
       "      <td>3</td>\n",
       "      <td>169</td>\n",
       "      <td>201</td>\n",
       "    </tr>\n",
       "    <tr>\n",
       "      <th>18</th>\n",
       "      <td>3</td>\n",
       "      <td>Y</td>\n",
       "      <td>2012-12-22</td>\n",
       "      <td>2013-02-16</td>\n",
       "      <td>56</td>\n",
       "      <td>12</td>\n",
       "      <td>2</td>\n",
       "      <td>132</td>\n",
       "      <td>188</td>\n",
       "    </tr>\n",
       "    <tr>\n",
       "      <th>19</th>\n",
       "      <td>5</td>\n",
       "      <td>Y</td>\n",
       "      <td>2013-01-12</td>\n",
       "      <td>2013-02-15</td>\n",
       "      <td>34</td>\n",
       "      <td>1</td>\n",
       "      <td>2</td>\n",
       "      <td>153</td>\n",
       "      <td>187</td>\n",
       "    </tr>\n",
       "    <tr>\n",
       "      <th>20</th>\n",
       "      <td>4</td>\n",
       "      <td>Y</td>\n",
       "      <td>2013-01-07</td>\n",
       "      <td>2013-02-08</td>\n",
       "      <td>32</td>\n",
       "      <td>1</td>\n",
       "      <td>2</td>\n",
       "      <td>148</td>\n",
       "      <td>180</td>\n",
       "    </tr>\n",
       "    <tr>\n",
       "      <th>21</th>\n",
       "      <td>1</td>\n",
       "      <td>Y</td>\n",
       "      <td>2012-12-12</td>\n",
       "      <td>2013-01-18</td>\n",
       "      <td>37</td>\n",
       "      <td>12</td>\n",
       "      <td>1</td>\n",
       "      <td>122</td>\n",
       "      <td>159</td>\n",
       "    </tr>\n",
       "    <tr>\n",
       "      <th>22</th>\n",
       "      <td>2</td>\n",
       "      <td>Y</td>\n",
       "      <td>2012-12-17</td>\n",
       "      <td>2013-01-18</td>\n",
       "      <td>32</td>\n",
       "      <td>12</td>\n",
       "      <td>1</td>\n",
       "      <td>127</td>\n",
       "      <td>159</td>\n",
       "    </tr>\n",
       "    <tr>\n",
       "      <th>23</th>\n",
       "      <td>30</td>\n",
       "      <td>X</td>\n",
       "      <td>2012-11-19</td>\n",
       "      <td>2013-01-04</td>\n",
       "      <td>46</td>\n",
       "      <td>11</td>\n",
       "      <td>1</td>\n",
       "      <td>99</td>\n",
       "      <td>145</td>\n",
       "    </tr>\n",
       "    <tr>\n",
       "      <th>24</th>\n",
       "      <td>29</td>\n",
       "      <td>Y</td>\n",
       "      <td>2012-10-08</td>\n",
       "      <td>2012-11-30</td>\n",
       "      <td>53</td>\n",
       "      <td>10</td>\n",
       "      <td>11</td>\n",
       "      <td>57</td>\n",
       "      <td>110</td>\n",
       "    </tr>\n",
       "    <tr>\n",
       "      <th>25</th>\n",
       "      <td>28</td>\n",
       "      <td>Y</td>\n",
       "      <td>2012-09-16</td>\n",
       "      <td>2012-11-16</td>\n",
       "      <td>61</td>\n",
       "      <td>9</td>\n",
       "      <td>11</td>\n",
       "      <td>35</td>\n",
       "      <td>96</td>\n",
       "    </tr>\n",
       "    <tr>\n",
       "      <th>26</th>\n",
       "      <td>27</td>\n",
       "      <td>Y</td>\n",
       "      <td>2012-08-25</td>\n",
       "      <td>2012-10-27</td>\n",
       "      <td>63</td>\n",
       "      <td>8</td>\n",
       "      <td>10</td>\n",
       "      <td>13</td>\n",
       "      <td>76</td>\n",
       "    </tr>\n",
       "    <tr>\n",
       "      <th>27</th>\n",
       "      <td>26</td>\n",
       "      <td>X</td>\n",
       "      <td>2012-08-12</td>\n",
       "      <td>2012-09-21</td>\n",
       "      <td>40</td>\n",
       "      <td>8</td>\n",
       "      <td>9</td>\n",
       "      <td>0</td>\n",
       "      <td>40</td>\n",
       "    </tr>\n",
       "  </tbody>\n",
       "</table>\n",
       "</div>"
      ],
      "text/plain": [
       "    campaign_id campaign_type start_date   end_date  duration  start_month  \\\n",
       "0            24             Y 2013-10-21 2013-12-20        60           10   \n",
       "1            25             Y 2013-10-21 2013-11-22        32           10   \n",
       "2            20             Y 2013-09-07 2013-11-16        70            9   \n",
       "3            23             Y 2013-10-08 2013-11-15        38           10   \n",
       "4            21             Y 2013-09-16 2013-10-18        32            9   \n",
       "5            22             X 2013-09-16 2013-10-18        32            9   \n",
       "6            18             X 2013-08-10 2013-10-04        55            8   \n",
       "7            19             Y 2013-08-26 2013-09-27        32            8   \n",
       "8            17             Y 2013-07-29 2013-08-30        32            7   \n",
       "9            16             Y 2013-07-15 2013-08-16        32            7   \n",
       "10           13             X 2013-05-19 2013-07-05        47            5   \n",
       "11           11             Y 2013-04-22 2013-06-07        46            4   \n",
       "12           12             Y 2013-04-22 2013-05-24        32            4   \n",
       "13           10             Y 2013-04-08 2013-05-10        32            4   \n",
       "14            9             Y 2013-03-11 2013-04-12        32            3   \n",
       "15            8             X 2013-02-16 2013-04-05        48            2   \n",
       "16            7             Y 2013-02-02 2013-03-08        34            2   \n",
       "17            6             Y 2013-01-28 2013-03-01        32            1   \n",
       "18            3             Y 2012-12-22 2013-02-16        56           12   \n",
       "19            5             Y 2013-01-12 2013-02-15        34            1   \n",
       "20            4             Y 2013-01-07 2013-02-08        32            1   \n",
       "21            1             Y 2012-12-12 2013-01-18        37           12   \n",
       "22            2             Y 2012-12-17 2013-01-18        32           12   \n",
       "23           30             X 2012-11-19 2013-01-04        46           11   \n",
       "24           29             Y 2012-10-08 2012-11-30        53           10   \n",
       "25           28             Y 2012-09-16 2012-11-16        61            9   \n",
       "26           27             Y 2012-08-25 2012-10-27        63            8   \n",
       "27           26             X 2012-08-12 2012-09-21        40            8   \n",
       "\n",
       "    end_month  start_date_new  end_date_new  \n",
       "0          12             435           495  \n",
       "1          11             435           467  \n",
       "2          11             391           461  \n",
       "3          11             422           460  \n",
       "4          10             400           432  \n",
       "5          10             400           432  \n",
       "6          10             363           418  \n",
       "7           9             379           411  \n",
       "8           8             351           383  \n",
       "9           8             337           369  \n",
       "10          7             280           327  \n",
       "11          6             253           299  \n",
       "12          5             253           285  \n",
       "13          5             239           271  \n",
       "14          4             211           243  \n",
       "15          4             188           236  \n",
       "16          3             174           208  \n",
       "17          3             169           201  \n",
       "18          2             132           188  \n",
       "19          2             153           187  \n",
       "20          2             148           180  \n",
       "21          1             122           159  \n",
       "22          1             127           159  \n",
       "23          1              99           145  \n",
       "24         11              57           110  \n",
       "25         11              35            96  \n",
       "26         10              13            76  \n",
       "27          9               0            40  "
      ]
     },
     "execution_count": 69,
     "metadata": {},
     "output_type": "execute_result"
    }
   ],
   "source": [
    "campaign"
   ]
  },
  {
   "cell_type": "code",
   "execution_count": 70,
   "metadata": {},
   "outputs": [],
   "source": [
    "campaign1 = campaign.drop(['start_date', 'end_date'], axis = 1)"
   ]
  },
  {
   "cell_type": "code",
   "execution_count": 71,
   "metadata": {},
   "outputs": [
    {
     "data": {
      "text/html": [
       "<div>\n",
       "<style scoped>\n",
       "    .dataframe tbody tr th:only-of-type {\n",
       "        vertical-align: middle;\n",
       "    }\n",
       "\n",
       "    .dataframe tbody tr th {\n",
       "        vertical-align: top;\n",
       "    }\n",
       "\n",
       "    .dataframe thead th {\n",
       "        text-align: right;\n",
       "    }\n",
       "</style>\n",
       "<table border=\"1\" class=\"dataframe\">\n",
       "  <thead>\n",
       "    <tr style=\"text-align: right;\">\n",
       "      <th></th>\n",
       "      <th>campaign_id</th>\n",
       "      <th>campaign_type</th>\n",
       "      <th>duration</th>\n",
       "      <th>start_month</th>\n",
       "      <th>end_month</th>\n",
       "      <th>start_date_new</th>\n",
       "      <th>end_date_new</th>\n",
       "    </tr>\n",
       "  </thead>\n",
       "  <tbody>\n",
       "    <tr>\n",
       "      <th>0</th>\n",
       "      <td>24</td>\n",
       "      <td>Y</td>\n",
       "      <td>60</td>\n",
       "      <td>10</td>\n",
       "      <td>12</td>\n",
       "      <td>435</td>\n",
       "      <td>495</td>\n",
       "    </tr>\n",
       "    <tr>\n",
       "      <th>1</th>\n",
       "      <td>25</td>\n",
       "      <td>Y</td>\n",
       "      <td>32</td>\n",
       "      <td>10</td>\n",
       "      <td>11</td>\n",
       "      <td>435</td>\n",
       "      <td>467</td>\n",
       "    </tr>\n",
       "    <tr>\n",
       "      <th>2</th>\n",
       "      <td>20</td>\n",
       "      <td>Y</td>\n",
       "      <td>70</td>\n",
       "      <td>9</td>\n",
       "      <td>11</td>\n",
       "      <td>391</td>\n",
       "      <td>461</td>\n",
       "    </tr>\n",
       "    <tr>\n",
       "      <th>3</th>\n",
       "      <td>23</td>\n",
       "      <td>Y</td>\n",
       "      <td>38</td>\n",
       "      <td>10</td>\n",
       "      <td>11</td>\n",
       "      <td>422</td>\n",
       "      <td>460</td>\n",
       "    </tr>\n",
       "    <tr>\n",
       "      <th>4</th>\n",
       "      <td>21</td>\n",
       "      <td>Y</td>\n",
       "      <td>32</td>\n",
       "      <td>9</td>\n",
       "      <td>10</td>\n",
       "      <td>400</td>\n",
       "      <td>432</td>\n",
       "    </tr>\n",
       "  </tbody>\n",
       "</table>\n",
       "</div>"
      ],
      "text/plain": [
       "   campaign_id campaign_type  duration  start_month  end_month  \\\n",
       "0           24             Y        60           10         12   \n",
       "1           25             Y        32           10         11   \n",
       "2           20             Y        70            9         11   \n",
       "3           23             Y        38           10         11   \n",
       "4           21             Y        32            9         10   \n",
       "\n",
       "   start_date_new  end_date_new  \n",
       "0             435           495  \n",
       "1             435           467  \n",
       "2             391           461  \n",
       "3             422           460  \n",
       "4             400           432  "
      ]
     },
     "execution_count": 71,
     "metadata": {},
     "output_type": "execute_result"
    }
   ],
   "source": [
    "campaign1.head()"
   ]
  },
  {
   "cell_type": "code",
   "execution_count": 72,
   "metadata": {},
   "outputs": [],
   "source": [
    "coupon_item = coupon_item_mapping.merge(item, on = 'item_id', how = 'left')"
   ]
  },
  {
   "cell_type": "code",
   "execution_count": 73,
   "metadata": {},
   "outputs": [
    {
     "data": {
      "text/html": [
       "<div>\n",
       "<style scoped>\n",
       "    .dataframe tbody tr th:only-of-type {\n",
       "        vertical-align: middle;\n",
       "    }\n",
       "\n",
       "    .dataframe tbody tr th {\n",
       "        vertical-align: top;\n",
       "    }\n",
       "\n",
       "    .dataframe thead th {\n",
       "        text-align: right;\n",
       "    }\n",
       "</style>\n",
       "<table border=\"1\" class=\"dataframe\">\n",
       "  <thead>\n",
       "    <tr style=\"text-align: right;\">\n",
       "      <th></th>\n",
       "      <th>coupon_id</th>\n",
       "      <th>item_id</th>\n",
       "      <th>brand</th>\n",
       "      <th>brand_type</th>\n",
       "      <th>category</th>\n",
       "    </tr>\n",
       "  </thead>\n",
       "  <tbody>\n",
       "    <tr>\n",
       "      <th>0</th>\n",
       "      <td>105</td>\n",
       "      <td>37</td>\n",
       "      <td>56</td>\n",
       "      <td>Local</td>\n",
       "      <td>Grocery</td>\n",
       "    </tr>\n",
       "    <tr>\n",
       "      <th>1</th>\n",
       "      <td>107</td>\n",
       "      <td>75</td>\n",
       "      <td>56</td>\n",
       "      <td>Local</td>\n",
       "      <td>Grocery</td>\n",
       "    </tr>\n",
       "    <tr>\n",
       "      <th>2</th>\n",
       "      <td>494</td>\n",
       "      <td>76</td>\n",
       "      <td>209</td>\n",
       "      <td>Established</td>\n",
       "      <td>Grocery</td>\n",
       "    </tr>\n",
       "    <tr>\n",
       "      <th>3</th>\n",
       "      <td>522</td>\n",
       "      <td>77</td>\n",
       "      <td>278</td>\n",
       "      <td>Established</td>\n",
       "      <td>Grocery</td>\n",
       "    </tr>\n",
       "    <tr>\n",
       "      <th>4</th>\n",
       "      <td>518</td>\n",
       "      <td>77</td>\n",
       "      <td>278</td>\n",
       "      <td>Established</td>\n",
       "      <td>Grocery</td>\n",
       "    </tr>\n",
       "  </tbody>\n",
       "</table>\n",
       "</div>"
      ],
      "text/plain": [
       "   coupon_id  item_id  brand   brand_type category\n",
       "0        105       37     56        Local  Grocery\n",
       "1        107       75     56        Local  Grocery\n",
       "2        494       76    209  Established  Grocery\n",
       "3        522       77    278  Established  Grocery\n",
       "4        518       77    278  Established  Grocery"
      ]
     },
     "execution_count": 73,
     "metadata": {},
     "output_type": "execute_result"
    }
   ],
   "source": [
    "coupon_item.head()"
   ]
  },
  {
   "cell_type": "code",
   "execution_count": 79,
   "metadata": {},
   "outputs": [],
   "source": [
    "top_brand = coupon_item.groupby(['coupon_id', 'brand']).size().reset_index(name='counts')\n",
    "#top_brand['brand'] = ['low' if x < 3  else x for x in top_brand['counts']]\n",
    "#top_brand['brand'] = ['med' if x > 5 and x <=10 else x for x in top_brand['counts']]\n",
    "#top_brand = top_brand[top_brand['counts']>0]\n",
    "ci_1 = pd.pivot_table(top_brand,\n",
    "                      index=[\"coupon_id\"],\n",
    "                      columns=[\"brand\"],\n",
    "                      values=['counts'],\n",
    "                      aggfunc=[sum],\n",
    "                      fill_value=0)\n",
    "ci_1 = ci_1.reset_index()\n",
    "ci_1.columns=['CouponBrand'+''.join(str(col)).strip() for col in ci_1.columns.values]\n",
    "ci_1.rename(columns={ ci_1.columns[0]: \"coupon_id\" }, inplace = True)"
   ]
  },
  {
   "cell_type": "code",
   "execution_count": 80,
   "metadata": {},
   "outputs": [
    {
     "data": {
      "text/plain": [
       "(1116, 2556)"
      ]
     },
     "execution_count": 80,
     "metadata": {},
     "output_type": "execute_result"
    }
   ],
   "source": [
    "ci_1.shape"
   ]
  },
  {
   "cell_type": "code",
   "execution_count": 76,
   "metadata": {},
   "outputs": [],
   "source": [
    "ci_2 = pd.pivot_table(coupon_item[['coupon_id','brand_type']],\n",
    "                      index=[\"coupon_id\"],\n",
    "                      columns=[\"brand_type\"],\n",
    "                      aggfunc=[len],\n",
    "                      fill_value=0)\n",
    "ci_2 = ci_2.reset_index()\n",
    "ci_2.columns=['CouponBrand'+''.join(col).strip() for col in ci_2.columns.values]\n",
    "ci_2.rename(columns={ ci_2.columns[0]: \"coupon_id\" }, inplace = True)"
   ]
  },
  {
   "cell_type": "code",
   "execution_count": 77,
   "metadata": {},
   "outputs": [],
   "source": [
    "ci_3 = pd.pivot_table(coupon_item[['coupon_id','category']],\n",
    "                      index=[\"coupon_id\"],\n",
    "                      columns=[\"category\"],\n",
    "                      aggfunc=[len],\n",
    "                      fill_value=0)\n",
    "ci_3 = ci_3.reset_index()\n",
    "ci_3.columns=['CouponBrand'+''.join(col).strip() for col in ci_3.columns.values]\n",
    "ci_3.rename(columns={ ci_3.columns[0]: \"coupon_id\" }, inplace = True)"
   ]
  },
  {
   "cell_type": "code",
   "execution_count": 78,
   "metadata": {},
   "outputs": [],
   "source": [
    "rate_1 = train[['coupon_id', 'redemption_status']].groupby(['coupon_id']).agg({\"sum\", \"count\"})\n",
    "rate_1 = rate_1.reset_index()\n",
    "rate_1.columns=['rate_1_'+''.join(col).strip() for col in rate_1.columns.values]\n",
    "rate_1.rename(columns={ rate_1.columns[0]: \"coupon_id\" }, inplace = True)\n",
    "rate_1['rate_1'] = rate_1['rate_1_redemption_statussum']/rate_1['rate_1_redemption_statuscount']\n",
    "rate_1 = rate_1[['coupon_id', 'rate_1']]\n",
    "\n",
    "rate_2 = train[['customer_id', 'redemption_status']].groupby(['customer_id']).agg({\"sum\", \"count\"})\n",
    "rate_2 = rate_2.reset_index()\n",
    "rate_2.columns=['rate_2_'+''.join(col).strip() for col in rate_2.columns.values]\n",
    "rate_2.rename(columns={ rate_2.columns[0]: \"customer_id\" }, inplace = True)\n",
    "rate_2['rate_2'] = rate_2['rate_2_redemption_statussum']/rate_2['rate_2_redemption_statuscount']\n",
    "rate_2 = rate_2[['customer_id', 'rate_2']]"
   ]
  },
  {
   "cell_type": "code",
   "execution_count": 81,
   "metadata": {},
   "outputs": [],
   "source": [
    "cust_item = transaction_item.groupby(['customer_id', 'brand'], as_index=False).agg({'quantity':[\"count\", \"nunique\"]})\n",
    "cust_item.columns=['cix1_'.join(col).strip() for col in cust_item.columns.values]\n",
    "cust_item.rename(columns={ cust_item.columns[0]: \"customer_id\" }, inplace = True)\n",
    "cust_item.rename(columns={ cust_item.columns[1]: \"brand\" }, inplace = True)\n",
    "\n",
    "brand = item.groupby(['brand'], as_index = False).agg({'item_id':['count']})\n",
    "brand.columns=['cix1_'.join(col).strip() for col in brand.columns.values]\n",
    "brand.rename(columns={ brand.columns[0]: \"brand\" }, inplace = True)\n",
    "\n",
    "cust_brand = cust_item.merge(brand, on = 'brand', how = 'left')\n",
    "coupon_item = coupon_item_mapping.merge(item, on = 'item_id', how = 'left')\n",
    "coupon_brand = coupon_item[['coupon_id', 'brand']].drop_duplicates()\n",
    "\n",
    "coupon_cust_brand = cust_brand.merge(coupon_brand, on = 'brand', how = 'left')\n",
    "coupon_cust_brand=coupon_cust_brand.drop(['brand'], axis=1)\n",
    "\n",
    "cix_1 = coupon_cust_brand.groupby(['customer_id', 'coupon_id'], as_index=False).agg({'mean','sum', 'max', 'min', 'count'})\n",
    "cix_1.columns=[''.join(col).strip() for col in cix_1.columns.values]\n",
    "cix_1 = cix_1.reset_index()"
   ]
  },
  {
   "cell_type": "code",
   "execution_count": 82,
   "metadata": {},
   "outputs": [],
   "source": [
    "cust_item = transaction_item.groupby(['customer_id', 'brand_type'], as_index=False).agg({'quantity':[\"count\", \"nunique\"]})\n",
    "cust_item.columns=['cix2_'.join(col).strip() for col in cust_item.columns.values]\n",
    "cust_item.rename(columns={ cust_item.columns[0]: \"customer_id\" }, inplace = True)\n",
    "cust_item.rename(columns={ cust_item.columns[1]: \"brand_type\" }, inplace = True)\n",
    "\n",
    "brand = item.groupby(['brand_type'], as_index = False).agg({'item_id':['count']})\n",
    "brand.columns=['cix2_'.join(col).strip() for col in brand.columns.values]\n",
    "brand.rename(columns={ brand.columns[0]: \"brand_type\" }, inplace = True)\n",
    "\n",
    "cust_brand = cust_item.merge(brand, on = 'brand_type', how = 'left')\n",
    "coupon_item = coupon_item_mapping.merge(item, on = 'item_id', how = 'left')\n",
    "coupon_brand = coupon_item[['coupon_id', 'brand_type']].drop_duplicates()\n",
    "\n",
    "coupon_cust_brand_type = cust_brand.merge(coupon_brand, on = 'brand_type', how = 'left')\n",
    "coupon_cust_brand_type=coupon_cust_brand_type.drop(['brand_type'], axis=1)\n",
    "\n",
    "cix_2 = coupon_cust_brand_type.groupby(['customer_id', 'coupon_id'], as_index=False).agg({'mean','sum', 'max', 'min', 'count'})\n",
    "cix_2.columns=[''.join(col).strip() for col in cix_2.columns.values]\n",
    "cix_2 = cix_2.reset_index()"
   ]
  },
  {
   "cell_type": "code",
   "execution_count": 83,
   "metadata": {},
   "outputs": [],
   "source": [
    "cust_item = transaction_item.groupby(['customer_id', 'category'], as_index=False).agg({'quantity':[\"count\", \"nunique\"]})\n",
    "cust_item.columns=['cix3_'.join(col).strip() for col in cust_item.columns.values]\n",
    "cust_item.rename(columns={ cust_item.columns[0]: \"customer_id\" }, inplace = True)\n",
    "cust_item.rename(columns={ cust_item.columns[1]: \"category\" }, inplace = True)\n",
    "\n",
    "brand = item.groupby(['category'], as_index = False).agg({'item_id':['count']})\n",
    "brand.columns=['cix3_'.join(col).strip() for col in brand.columns.values]\n",
    "brand.rename(columns={ brand.columns[0]: \"category\" }, inplace = True)\n",
    "\n",
    "cust_brand = cust_item.merge(brand, on = 'category', how = 'left')\n",
    "coupon_item = coupon_item_mapping.merge(item, on = 'item_id', how = 'left')\n",
    "coupon_brand = coupon_item[['coupon_id', 'category']].drop_duplicates()\n",
    "\n",
    "coupon_cust_category = cust_brand.merge(coupon_brand, on = 'category', how = 'left')\n",
    "coupon_cust_category=coupon_cust_category.drop(['category'], axis=1)\n",
    "\n",
    "cix_3 = coupon_cust_category.groupby(['customer_id', 'coupon_id'], as_index=False).agg({'mean','sum', 'max', 'min', 'count'})\n",
    "cix_3.columns=[''.join(col).strip() for col in cix_3.columns.values]\n",
    "cix_3 = cix_3.reset_index()"
   ]
  },
  {
   "cell_type": "code",
   "execution_count": null,
   "metadata": {},
   "outputs": [],
   "source": [
    "##Combining everything into one file before running the models"
   ]
  },
  {
   "cell_type": "code",
   "execution_count": 84,
   "metadata": {},
   "outputs": [
    {
     "data": {
      "text/plain": [
       "(128595, 5)"
      ]
     },
     "execution_count": 84,
     "metadata": {},
     "output_type": "execute_result"
    }
   ],
   "source": [
    "df=train.append(test,ignore_index=True, sort=False)\n",
    "df.shape"
   ]
  },
  {
   "cell_type": "code",
   "execution_count": 85,
   "metadata": {},
   "outputs": [
    {
     "data": {
      "text/html": [
       "<div>\n",
       "<style scoped>\n",
       "    .dataframe tbody tr th:only-of-type {\n",
       "        vertical-align: middle;\n",
       "    }\n",
       "\n",
       "    .dataframe tbody tr th {\n",
       "        vertical-align: top;\n",
       "    }\n",
       "\n",
       "    .dataframe thead th {\n",
       "        text-align: right;\n",
       "    }\n",
       "</style>\n",
       "<table border=\"1\" class=\"dataframe\">\n",
       "  <thead>\n",
       "    <tr style=\"text-align: right;\">\n",
       "      <th></th>\n",
       "      <th>Brand_customer_id___</th>\n",
       "      <th>Brand_Established_Alcohol_agg5_rate1</th>\n",
       "      <th>Brand_Established_Alcohol_agg5_rate2</th>\n",
       "      <th>Brand_Established_Alcohol_agg5_rate3</th>\n",
       "      <th>Brand_Established_Alcohol_agg5_rate4</th>\n",
       "      <th>Brand_Established_Alcohol_coupon_discount_max</th>\n",
       "      <th>Brand_Established_Alcohol_coupon_discount_mean</th>\n",
       "      <th>Brand_Established_Alcohol_coupon_discount_min</th>\n",
       "      <th>Brand_Established_Alcohol_coupon_discount_std</th>\n",
       "      <th>Brand_Established_Alcohol_coupon_use_flag_sum</th>\n",
       "      <th>...</th>\n",
       "      <th>Brand_Local_Skin &amp; Hair Care_other_discount_max</th>\n",
       "      <th>Brand_Local_Skin &amp; Hair Care_other_discount_mean</th>\n",
       "      <th>Brand_Local_Skin &amp; Hair Care_other_discount_min</th>\n",
       "      <th>Brand_Local_Skin &amp; Hair Care_other_discount_std</th>\n",
       "      <th>Brand_Local_Skin &amp; Hair Care_quantity_sum</th>\n",
       "      <th>Brand_Local_Skin &amp; Hair Care_selling_price_max</th>\n",
       "      <th>Brand_Local_Skin &amp; Hair Care_selling_price_mean</th>\n",
       "      <th>Brand_Local_Skin &amp; Hair Care_selling_price_min</th>\n",
       "      <th>Brand_Local_Skin &amp; Hair Care_selling_price_size</th>\n",
       "      <th>Brand_Local_Skin &amp; Hair Care_selling_price_std</th>\n",
       "    </tr>\n",
       "  </thead>\n",
       "  <tbody>\n",
       "    <tr>\n",
       "      <th>0</th>\n",
       "      <td>1</td>\n",
       "      <td>0.0</td>\n",
       "      <td>0.0</td>\n",
       "      <td>0.0</td>\n",
       "      <td>0.0</td>\n",
       "      <td>0.0</td>\n",
       "      <td>0.0</td>\n",
       "      <td>0.0</td>\n",
       "      <td>0.0</td>\n",
       "      <td>0.0</td>\n",
       "      <td>...</td>\n",
       "      <td>0.0</td>\n",
       "      <td>0.0</td>\n",
       "      <td>0.0</td>\n",
       "      <td>0.0</td>\n",
       "      <td>0.0</td>\n",
       "      <td>0.0</td>\n",
       "      <td>0.0</td>\n",
       "      <td>0.0</td>\n",
       "      <td>0.0</td>\n",
       "      <td>0.0</td>\n",
       "    </tr>\n",
       "    <tr>\n",
       "      <th>1</th>\n",
       "      <td>2</td>\n",
       "      <td>0.0</td>\n",
       "      <td>0.0</td>\n",
       "      <td>0.0</td>\n",
       "      <td>0.0</td>\n",
       "      <td>0.0</td>\n",
       "      <td>0.0</td>\n",
       "      <td>0.0</td>\n",
       "      <td>0.0</td>\n",
       "      <td>0.0</td>\n",
       "      <td>...</td>\n",
       "      <td>0.0</td>\n",
       "      <td>0.0</td>\n",
       "      <td>0.0</td>\n",
       "      <td>0.0</td>\n",
       "      <td>0.0</td>\n",
       "      <td>0.0</td>\n",
       "      <td>0.0</td>\n",
       "      <td>0.0</td>\n",
       "      <td>0.0</td>\n",
       "      <td>0.0</td>\n",
       "    </tr>\n",
       "    <tr>\n",
       "      <th>2</th>\n",
       "      <td>3</td>\n",
       "      <td>0.0</td>\n",
       "      <td>0.0</td>\n",
       "      <td>0.0</td>\n",
       "      <td>0.0</td>\n",
       "      <td>0.0</td>\n",
       "      <td>0.0</td>\n",
       "      <td>0.0</td>\n",
       "      <td>0.0</td>\n",
       "      <td>0.0</td>\n",
       "      <td>...</td>\n",
       "      <td>0.0</td>\n",
       "      <td>0.0</td>\n",
       "      <td>0.0</td>\n",
       "      <td>0.0</td>\n",
       "      <td>0.0</td>\n",
       "      <td>0.0</td>\n",
       "      <td>0.0</td>\n",
       "      <td>0.0</td>\n",
       "      <td>0.0</td>\n",
       "      <td>0.0</td>\n",
       "    </tr>\n",
       "    <tr>\n",
       "      <th>3</th>\n",
       "      <td>4</td>\n",
       "      <td>0.0</td>\n",
       "      <td>0.0</td>\n",
       "      <td>0.0</td>\n",
       "      <td>0.0</td>\n",
       "      <td>0.0</td>\n",
       "      <td>0.0</td>\n",
       "      <td>0.0</td>\n",
       "      <td>0.0</td>\n",
       "      <td>0.0</td>\n",
       "      <td>...</td>\n",
       "      <td>0.0</td>\n",
       "      <td>0.0</td>\n",
       "      <td>0.0</td>\n",
       "      <td>0.0</td>\n",
       "      <td>0.0</td>\n",
       "      <td>0.0</td>\n",
       "      <td>0.0</td>\n",
       "      <td>0.0</td>\n",
       "      <td>0.0</td>\n",
       "      <td>0.0</td>\n",
       "    </tr>\n",
       "    <tr>\n",
       "      <th>4</th>\n",
       "      <td>5</td>\n",
       "      <td>0.0</td>\n",
       "      <td>0.0</td>\n",
       "      <td>0.0</td>\n",
       "      <td>0.0</td>\n",
       "      <td>0.0</td>\n",
       "      <td>0.0</td>\n",
       "      <td>0.0</td>\n",
       "      <td>0.0</td>\n",
       "      <td>0.0</td>\n",
       "      <td>...</td>\n",
       "      <td>0.0</td>\n",
       "      <td>0.0</td>\n",
       "      <td>0.0</td>\n",
       "      <td>0.0</td>\n",
       "      <td>0.0</td>\n",
       "      <td>0.0</td>\n",
       "      <td>0.0</td>\n",
       "      <td>0.0</td>\n",
       "      <td>0.0</td>\n",
       "      <td>0.0</td>\n",
       "    </tr>\n",
       "  </tbody>\n",
       "</table>\n",
       "<p>5 rows × 622 columns</p>\n",
       "</div>"
      ],
      "text/plain": [
       "   Brand_customer_id___  Brand_Established_Alcohol_agg5_rate1  \\\n",
       "0                     1                                   0.0   \n",
       "1                     2                                   0.0   \n",
       "2                     3                                   0.0   \n",
       "3                     4                                   0.0   \n",
       "4                     5                                   0.0   \n",
       "\n",
       "   Brand_Established_Alcohol_agg5_rate2  Brand_Established_Alcohol_agg5_rate3  \\\n",
       "0                                   0.0                                   0.0   \n",
       "1                                   0.0                                   0.0   \n",
       "2                                   0.0                                   0.0   \n",
       "3                                   0.0                                   0.0   \n",
       "4                                   0.0                                   0.0   \n",
       "\n",
       "   Brand_Established_Alcohol_agg5_rate4  \\\n",
       "0                                   0.0   \n",
       "1                                   0.0   \n",
       "2                                   0.0   \n",
       "3                                   0.0   \n",
       "4                                   0.0   \n",
       "\n",
       "   Brand_Established_Alcohol_coupon_discount_max  \\\n",
       "0                                            0.0   \n",
       "1                                            0.0   \n",
       "2                                            0.0   \n",
       "3                                            0.0   \n",
       "4                                            0.0   \n",
       "\n",
       "   Brand_Established_Alcohol_coupon_discount_mean  \\\n",
       "0                                             0.0   \n",
       "1                                             0.0   \n",
       "2                                             0.0   \n",
       "3                                             0.0   \n",
       "4                                             0.0   \n",
       "\n",
       "   Brand_Established_Alcohol_coupon_discount_min  \\\n",
       "0                                            0.0   \n",
       "1                                            0.0   \n",
       "2                                            0.0   \n",
       "3                                            0.0   \n",
       "4                                            0.0   \n",
       "\n",
       "   Brand_Established_Alcohol_coupon_discount_std  \\\n",
       "0                                            0.0   \n",
       "1                                            0.0   \n",
       "2                                            0.0   \n",
       "3                                            0.0   \n",
       "4                                            0.0   \n",
       "\n",
       "   Brand_Established_Alcohol_coupon_use_flag_sum  ...  \\\n",
       "0                                            0.0  ...   \n",
       "1                                            0.0  ...   \n",
       "2                                            0.0  ...   \n",
       "3                                            0.0  ...   \n",
       "4                                            0.0  ...   \n",
       "\n",
       "   Brand_Local_Skin & Hair Care_other_discount_max  \\\n",
       "0                                              0.0   \n",
       "1                                              0.0   \n",
       "2                                              0.0   \n",
       "3                                              0.0   \n",
       "4                                              0.0   \n",
       "\n",
       "   Brand_Local_Skin & Hair Care_other_discount_mean  \\\n",
       "0                                               0.0   \n",
       "1                                               0.0   \n",
       "2                                               0.0   \n",
       "3                                               0.0   \n",
       "4                                               0.0   \n",
       "\n",
       "   Brand_Local_Skin & Hair Care_other_discount_min  \\\n",
       "0                                              0.0   \n",
       "1                                              0.0   \n",
       "2                                              0.0   \n",
       "3                                              0.0   \n",
       "4                                              0.0   \n",
       "\n",
       "   Brand_Local_Skin & Hair Care_other_discount_std  \\\n",
       "0                                              0.0   \n",
       "1                                              0.0   \n",
       "2                                              0.0   \n",
       "3                                              0.0   \n",
       "4                                              0.0   \n",
       "\n",
       "   Brand_Local_Skin & Hair Care_quantity_sum  \\\n",
       "0                                        0.0   \n",
       "1                                        0.0   \n",
       "2                                        0.0   \n",
       "3                                        0.0   \n",
       "4                                        0.0   \n",
       "\n",
       "   Brand_Local_Skin & Hair Care_selling_price_max  \\\n",
       "0                                             0.0   \n",
       "1                                             0.0   \n",
       "2                                             0.0   \n",
       "3                                             0.0   \n",
       "4                                             0.0   \n",
       "\n",
       "   Brand_Local_Skin & Hair Care_selling_price_mean  \\\n",
       "0                                              0.0   \n",
       "1                                              0.0   \n",
       "2                                              0.0   \n",
       "3                                              0.0   \n",
       "4                                              0.0   \n",
       "\n",
       "   Brand_Local_Skin & Hair Care_selling_price_min  \\\n",
       "0                                             0.0   \n",
       "1                                             0.0   \n",
       "2                                             0.0   \n",
       "3                                             0.0   \n",
       "4                                             0.0   \n",
       "\n",
       "   Brand_Local_Skin & Hair Care_selling_price_size  \\\n",
       "0                                              0.0   \n",
       "1                                              0.0   \n",
       "2                                              0.0   \n",
       "3                                              0.0   \n",
       "4                                              0.0   \n",
       "\n",
       "   Brand_Local_Skin & Hair Care_selling_price_std  \n",
       "0                                             0.0  \n",
       "1                                             0.0  \n",
       "2                                             0.0  \n",
       "3                                             0.0  \n",
       "4                                             0.0  \n",
       "\n",
       "[5 rows x 622 columns]"
      ]
     },
     "execution_count": 85,
     "metadata": {},
     "output_type": "execute_result"
    }
   ],
   "source": [
    "transaction_item_piv5.head()"
   ]
  },
  {
   "cell_type": "code",
   "execution_count": 86,
   "metadata": {},
   "outputs": [
    {
     "data": {
      "text/plain": [
       "(128595, 1054)"
      ]
     },
     "execution_count": 86,
     "metadata": {},
     "output_type": "execute_result"
    }
   ],
   "source": [
    "df=df.merge(transaction_item_agg1, left_on = 'customer_id', right_on = 'Txn_customer_id_', how = 'left')\n",
    "df=df.merge(transaction_item_piv2, left_on = 'customer_id', right_on = 'Cat_customer_id__', how = 'left')\n",
    "df=df.merge(transaction_item_piv3, left_on = 'customer_id', right_on = 'Brand_customer_id__', how = 'left')\n",
    "df=df.merge(transaction_item_piv5, left_on = 'customer_id', right_on = 'Brand_customer_id___', how = 'left')\n",
    "df=df.merge(campaign1, on = 'campaign_id', how = 'left')\n",
    "#df=df.merge(demography, on = 'customer_id', how = 'left')\n",
    "df.shape"
   ]
  },
  {
   "cell_type": "code",
   "execution_count": 87,
   "metadata": {
    "scrolled": true
   },
   "outputs": [
    {
     "ename": "KeyError",
     "evalue": "'age_range'",
     "output_type": "error",
     "traceback": [
      "\u001b[1;31m---------------------------------------------------------------------------\u001b[0m",
      "\u001b[1;31mKeyError\u001b[0m                                  Traceback (most recent call last)",
      "\u001b[1;32m~\\Anaconda3\\lib\\site-packages\\pandas\\core\\indexes\\base.py\u001b[0m in \u001b[0;36mget_loc\u001b[1;34m(self, key, method, tolerance)\u001b[0m\n\u001b[0;32m   2656\u001b[0m             \u001b[1;32mtry\u001b[0m\u001b[1;33m:\u001b[0m\u001b[1;33m\u001b[0m\u001b[1;33m\u001b[0m\u001b[0m\n\u001b[1;32m-> 2657\u001b[1;33m                 \u001b[1;32mreturn\u001b[0m \u001b[0mself\u001b[0m\u001b[1;33m.\u001b[0m\u001b[0m_engine\u001b[0m\u001b[1;33m.\u001b[0m\u001b[0mget_loc\u001b[0m\u001b[1;33m(\u001b[0m\u001b[0mkey\u001b[0m\u001b[1;33m)\u001b[0m\u001b[1;33m\u001b[0m\u001b[1;33m\u001b[0m\u001b[0m\n\u001b[0m\u001b[0;32m   2658\u001b[0m             \u001b[1;32mexcept\u001b[0m \u001b[0mKeyError\u001b[0m\u001b[1;33m:\u001b[0m\u001b[1;33m\u001b[0m\u001b[1;33m\u001b[0m\u001b[0m\n",
      "\u001b[1;32mpandas/_libs/index.pyx\u001b[0m in \u001b[0;36mpandas._libs.index.IndexEngine.get_loc\u001b[1;34m()\u001b[0m\n",
      "\u001b[1;32mpandas/_libs/index.pyx\u001b[0m in \u001b[0;36mpandas._libs.index.IndexEngine.get_loc\u001b[1;34m()\u001b[0m\n",
      "\u001b[1;32mpandas/_libs/hashtable_class_helper.pxi\u001b[0m in \u001b[0;36mpandas._libs.hashtable.PyObjectHashTable.get_item\u001b[1;34m()\u001b[0m\n",
      "\u001b[1;32mpandas/_libs/hashtable_class_helper.pxi\u001b[0m in \u001b[0;36mpandas._libs.hashtable.PyObjectHashTable.get_item\u001b[1;34m()\u001b[0m\n",
      "\u001b[1;31mKeyError\u001b[0m: 'age_range'",
      "\nDuring handling of the above exception, another exception occurred:\n",
      "\u001b[1;31mKeyError\u001b[0m                                  Traceback (most recent call last)",
      "\u001b[1;32m<ipython-input-87-3a49ef79b566>\u001b[0m in \u001b[0;36m<module>\u001b[1;34m\u001b[0m\n\u001b[1;32m----> 1\u001b[1;33m \u001b[0mdf\u001b[0m\u001b[1;33m[\u001b[0m\u001b[1;34m\"age_range\"\u001b[0m\u001b[1;33m]\u001b[0m\u001b[1;33m.\u001b[0m\u001b[0mfillna\u001b[0m\u001b[1;33m(\u001b[0m\u001b[1;36m0\u001b[0m\u001b[1;33m,\u001b[0m \u001b[0minplace\u001b[0m \u001b[1;33m=\u001b[0m \u001b[1;32mTrue\u001b[0m\u001b[1;33m)\u001b[0m\u001b[1;33m\u001b[0m\u001b[1;33m\u001b[0m\u001b[0m\n\u001b[0m\u001b[0;32m      2\u001b[0m \u001b[0mdf\u001b[0m\u001b[1;33m[\u001b[0m\u001b[1;34m\"marital_status\"\u001b[0m\u001b[1;33m]\u001b[0m\u001b[1;33m.\u001b[0m\u001b[0mfillna\u001b[0m\u001b[1;33m(\u001b[0m\u001b[1;36m0\u001b[0m\u001b[1;33m,\u001b[0m \u001b[0minplace\u001b[0m \u001b[1;33m=\u001b[0m \u001b[1;32mTrue\u001b[0m\u001b[1;33m)\u001b[0m\u001b[1;33m\u001b[0m\u001b[1;33m\u001b[0m\u001b[0m\n\u001b[0;32m      3\u001b[0m \u001b[0mdf\u001b[0m\u001b[1;33m[\u001b[0m\u001b[1;34m\"rented\"\u001b[0m\u001b[1;33m]\u001b[0m\u001b[1;33m.\u001b[0m\u001b[0mfillna\u001b[0m\u001b[1;33m(\u001b[0m\u001b[1;36m2\u001b[0m\u001b[1;33m,\u001b[0m \u001b[0minplace\u001b[0m \u001b[1;33m=\u001b[0m \u001b[1;32mTrue\u001b[0m\u001b[1;33m)\u001b[0m\u001b[1;33m\u001b[0m\u001b[1;33m\u001b[0m\u001b[0m\n\u001b[0;32m      4\u001b[0m \u001b[0mdf\u001b[0m\u001b[1;33m[\u001b[0m\u001b[1;34m\"family_size\"\u001b[0m\u001b[1;33m]\u001b[0m\u001b[1;33m.\u001b[0m\u001b[0mfillna\u001b[0m\u001b[1;33m(\u001b[0m\u001b[1;36m1\u001b[0m\u001b[1;33m,\u001b[0m \u001b[0minplace\u001b[0m \u001b[1;33m=\u001b[0m \u001b[1;32mTrue\u001b[0m\u001b[1;33m)\u001b[0m\u001b[1;33m\u001b[0m\u001b[1;33m\u001b[0m\u001b[0m\n\u001b[0;32m      5\u001b[0m \u001b[0mdf\u001b[0m\u001b[1;33m[\u001b[0m\u001b[1;34m\"no_of_children\"\u001b[0m\u001b[1;33m]\u001b[0m\u001b[1;33m.\u001b[0m\u001b[0mfillna\u001b[0m\u001b[1;33m(\u001b[0m\u001b[1;36m0\u001b[0m\u001b[1;33m,\u001b[0m \u001b[0minplace\u001b[0m \u001b[1;33m=\u001b[0m \u001b[1;32mTrue\u001b[0m\u001b[1;33m)\u001b[0m\u001b[1;33m\u001b[0m\u001b[1;33m\u001b[0m\u001b[0m\n",
      "\u001b[1;32m~\\Anaconda3\\lib\\site-packages\\pandas\\core\\frame.py\u001b[0m in \u001b[0;36m__getitem__\u001b[1;34m(self, key)\u001b[0m\n\u001b[0;32m   2925\u001b[0m             \u001b[1;32mif\u001b[0m \u001b[0mself\u001b[0m\u001b[1;33m.\u001b[0m\u001b[0mcolumns\u001b[0m\u001b[1;33m.\u001b[0m\u001b[0mnlevels\u001b[0m \u001b[1;33m>\u001b[0m \u001b[1;36m1\u001b[0m\u001b[1;33m:\u001b[0m\u001b[1;33m\u001b[0m\u001b[1;33m\u001b[0m\u001b[0m\n\u001b[0;32m   2926\u001b[0m                 \u001b[1;32mreturn\u001b[0m \u001b[0mself\u001b[0m\u001b[1;33m.\u001b[0m\u001b[0m_getitem_multilevel\u001b[0m\u001b[1;33m(\u001b[0m\u001b[0mkey\u001b[0m\u001b[1;33m)\u001b[0m\u001b[1;33m\u001b[0m\u001b[1;33m\u001b[0m\u001b[0m\n\u001b[1;32m-> 2927\u001b[1;33m             \u001b[0mindexer\u001b[0m \u001b[1;33m=\u001b[0m \u001b[0mself\u001b[0m\u001b[1;33m.\u001b[0m\u001b[0mcolumns\u001b[0m\u001b[1;33m.\u001b[0m\u001b[0mget_loc\u001b[0m\u001b[1;33m(\u001b[0m\u001b[0mkey\u001b[0m\u001b[1;33m)\u001b[0m\u001b[1;33m\u001b[0m\u001b[1;33m\u001b[0m\u001b[0m\n\u001b[0m\u001b[0;32m   2928\u001b[0m             \u001b[1;32mif\u001b[0m \u001b[0mis_integer\u001b[0m\u001b[1;33m(\u001b[0m\u001b[0mindexer\u001b[0m\u001b[1;33m)\u001b[0m\u001b[1;33m:\u001b[0m\u001b[1;33m\u001b[0m\u001b[1;33m\u001b[0m\u001b[0m\n\u001b[0;32m   2929\u001b[0m                 \u001b[0mindexer\u001b[0m \u001b[1;33m=\u001b[0m \u001b[1;33m[\u001b[0m\u001b[0mindexer\u001b[0m\u001b[1;33m]\u001b[0m\u001b[1;33m\u001b[0m\u001b[1;33m\u001b[0m\u001b[0m\n",
      "\u001b[1;32m~\\Anaconda3\\lib\\site-packages\\pandas\\core\\indexes\\base.py\u001b[0m in \u001b[0;36mget_loc\u001b[1;34m(self, key, method, tolerance)\u001b[0m\n\u001b[0;32m   2657\u001b[0m                 \u001b[1;32mreturn\u001b[0m \u001b[0mself\u001b[0m\u001b[1;33m.\u001b[0m\u001b[0m_engine\u001b[0m\u001b[1;33m.\u001b[0m\u001b[0mget_loc\u001b[0m\u001b[1;33m(\u001b[0m\u001b[0mkey\u001b[0m\u001b[1;33m)\u001b[0m\u001b[1;33m\u001b[0m\u001b[1;33m\u001b[0m\u001b[0m\n\u001b[0;32m   2658\u001b[0m             \u001b[1;32mexcept\u001b[0m \u001b[0mKeyError\u001b[0m\u001b[1;33m:\u001b[0m\u001b[1;33m\u001b[0m\u001b[1;33m\u001b[0m\u001b[0m\n\u001b[1;32m-> 2659\u001b[1;33m                 \u001b[1;32mreturn\u001b[0m \u001b[0mself\u001b[0m\u001b[1;33m.\u001b[0m\u001b[0m_engine\u001b[0m\u001b[1;33m.\u001b[0m\u001b[0mget_loc\u001b[0m\u001b[1;33m(\u001b[0m\u001b[0mself\u001b[0m\u001b[1;33m.\u001b[0m\u001b[0m_maybe_cast_indexer\u001b[0m\u001b[1;33m(\u001b[0m\u001b[0mkey\u001b[0m\u001b[1;33m)\u001b[0m\u001b[1;33m)\u001b[0m\u001b[1;33m\u001b[0m\u001b[1;33m\u001b[0m\u001b[0m\n\u001b[0m\u001b[0;32m   2660\u001b[0m         \u001b[0mindexer\u001b[0m \u001b[1;33m=\u001b[0m \u001b[0mself\u001b[0m\u001b[1;33m.\u001b[0m\u001b[0mget_indexer\u001b[0m\u001b[1;33m(\u001b[0m\u001b[1;33m[\u001b[0m\u001b[0mkey\u001b[0m\u001b[1;33m]\u001b[0m\u001b[1;33m,\u001b[0m \u001b[0mmethod\u001b[0m\u001b[1;33m=\u001b[0m\u001b[0mmethod\u001b[0m\u001b[1;33m,\u001b[0m \u001b[0mtolerance\u001b[0m\u001b[1;33m=\u001b[0m\u001b[0mtolerance\u001b[0m\u001b[1;33m)\u001b[0m\u001b[1;33m\u001b[0m\u001b[1;33m\u001b[0m\u001b[0m\n\u001b[0;32m   2661\u001b[0m         \u001b[1;32mif\u001b[0m \u001b[0mindexer\u001b[0m\u001b[1;33m.\u001b[0m\u001b[0mndim\u001b[0m \u001b[1;33m>\u001b[0m \u001b[1;36m1\u001b[0m \u001b[1;32mor\u001b[0m \u001b[0mindexer\u001b[0m\u001b[1;33m.\u001b[0m\u001b[0msize\u001b[0m \u001b[1;33m>\u001b[0m \u001b[1;36m1\u001b[0m\u001b[1;33m:\u001b[0m\u001b[1;33m\u001b[0m\u001b[1;33m\u001b[0m\u001b[0m\n",
      "\u001b[1;32mpandas/_libs/index.pyx\u001b[0m in \u001b[0;36mpandas._libs.index.IndexEngine.get_loc\u001b[1;34m()\u001b[0m\n",
      "\u001b[1;32mpandas/_libs/index.pyx\u001b[0m in \u001b[0;36mpandas._libs.index.IndexEngine.get_loc\u001b[1;34m()\u001b[0m\n",
      "\u001b[1;32mpandas/_libs/hashtable_class_helper.pxi\u001b[0m in \u001b[0;36mpandas._libs.hashtable.PyObjectHashTable.get_item\u001b[1;34m()\u001b[0m\n",
      "\u001b[1;32mpandas/_libs/hashtable_class_helper.pxi\u001b[0m in \u001b[0;36mpandas._libs.hashtable.PyObjectHashTable.get_item\u001b[1;34m()\u001b[0m\n",
      "\u001b[1;31mKeyError\u001b[0m: 'age_range'"
     ]
    }
   ],
   "source": [
    "df[\"age_range\"].fillna(0, inplace = True)\n",
    "df[\"marital_status\"].fillna(0, inplace = True)\n",
    "df[\"rented\"].fillna(2, inplace = True)\n",
    "df[\"family_size\"].fillna(1, inplace = True)\n",
    "df[\"no_of_children\"].fillna(0, inplace = True)\n",
    "df[\"income_bracket\"].fillna(0, inplace = True)"
   ]
  },
  {
   "cell_type": "code",
   "execution_count": 88,
   "metadata": {},
   "outputs": [
    {
     "data": {
      "text/plain": [
       "(128595, 1054)"
      ]
     },
     "execution_count": 88,
     "metadata": {},
     "output_type": "execute_result"
    }
   ],
   "source": [
    "df.shape"
   ]
  },
  {
   "cell_type": "code",
   "execution_count": 89,
   "metadata": {},
   "outputs": [],
   "source": [
    "df=df.merge(ci_1, on = 'coupon_id', how = 'left')\n",
    "df=df.merge(ci_2, on = 'coupon_id', how = 'left')\n",
    "df=df.merge(ci_3, on = 'coupon_id', how = 'left')"
   ]
  },
  {
   "cell_type": "code",
   "execution_count": 90,
   "metadata": {},
   "outputs": [
    {
     "data": {
      "text/plain": [
       "(128595, 3628)"
      ]
     },
     "execution_count": 90,
     "metadata": {},
     "output_type": "execute_result"
    }
   ],
   "source": [
    "df.shape"
   ]
  },
  {
   "cell_type": "code",
   "execution_count": 91,
   "metadata": {},
   "outputs": [],
   "source": [
    "df=df.merge(cix_1, on = ['coupon_id', 'customer_id'], how = 'left')\n",
    "df=df.merge(cix_2, on = ['coupon_id', 'customer_id'], how = 'left')\n",
    "df=df.merge(cix_3, on = ['coupon_id', 'customer_id'], how = 'left')"
   ]
  },
  {
   "cell_type": "code",
   "execution_count": null,
   "metadata": {},
   "outputs": [],
   "source": [
    "#df=df.merge(rate_1, on = 'coupon_id', how = 'left')\n",
    "#df=df.merge(rate_2, on = 'customer_id', how = 'left')"
   ]
  },
  {
   "cell_type": "code",
   "execution_count": 92,
   "metadata": {},
   "outputs": [],
   "source": [
    "df_Y = df['redemption_status']"
   ]
  },
  {
   "cell_type": "code",
   "execution_count": 93,
   "metadata": {},
   "outputs": [],
   "source": [
    "df = df.replace(np.nan,0)"
   ]
  },
  {
   "cell_type": "code",
   "execution_count": 94,
   "metadata": {},
   "outputs": [],
   "source": [
    "df['redemption_status'] = df_Y"
   ]
  },
  {
   "cell_type": "code",
   "execution_count": 95,
   "metadata": {},
   "outputs": [],
   "source": [
    "#df['age_range']=df['age_range'].astype('category')\n",
    "#df['marital_status']=df['marital_status'].astype('category')\n",
    "#df['rented']=df['rented'].astype('category')\n",
    "#df['family_size']=df['family_size'].astype('category')\n",
    "#df['no_of_children']=df['no_of_children'].astype('category')\n",
    "#df['income_bracket']=df['income_bracket'].astype('category')\n",
    "df['campaign_type']=df['campaign_type'].astype('category')\n",
    "#df['start_month']=df['start_month'].astype('category')\n",
    "#df['end_month']=df['end_month'].astype('category')\n",
    "#df['campaign_id']=df['campaign_id'].astype('category')\n",
    "#df['coupon_id']=df['coupon_id'].astype('category')\n",
    "#df['customer_id']=df['customer_id'].astype('category')"
   ]
  },
  {
   "cell_type": "code",
   "execution_count": 96,
   "metadata": {},
   "outputs": [
    {
     "data": {
      "text/plain": [
       "(128595, 3673)"
      ]
     },
     "execution_count": 96,
     "metadata": {},
     "output_type": "execute_result"
    }
   ],
   "source": [
    "df.shape"
   ]
  },
  {
   "cell_type": "code",
   "execution_count": 97,
   "metadata": {},
   "outputs": [
    {
     "data": {
      "text/html": [
       "<div>\n",
       "<style scoped>\n",
       "    .dataframe tbody tr th:only-of-type {\n",
       "        vertical-align: middle;\n",
       "    }\n",
       "\n",
       "    .dataframe tbody tr th {\n",
       "        vertical-align: top;\n",
       "    }\n",
       "\n",
       "    .dataframe thead th {\n",
       "        text-align: right;\n",
       "    }\n",
       "</style>\n",
       "<table border=\"1\" class=\"dataframe\">\n",
       "  <thead>\n",
       "    <tr style=\"text-align: right;\">\n",
       "      <th></th>\n",
       "      <th>id</th>\n",
       "      <th>campaign_id</th>\n",
       "      <th>coupon_id</th>\n",
       "      <th>customer_id</th>\n",
       "      <th>redemption_status</th>\n",
       "      <th>Txn_customer_id_</th>\n",
       "      <th>Txn_quantity_sum</th>\n",
       "      <th>Txn_selling_price_size</th>\n",
       "      <th>Txn_selling_price_std</th>\n",
       "      <th>Txn_selling_price_mean</th>\n",
       "      <th>...</th>\n",
       "      <th>quantitycix3_nuniquemax</th>\n",
       "      <th>quantitycix3_nuniquemean</th>\n",
       "      <th>quantitycix3_nuniquecount</th>\n",
       "      <th>quantitycix3_nuniquesum</th>\n",
       "      <th>quantitycix3_nuniquemin</th>\n",
       "      <th>item_idcix3_countmax</th>\n",
       "      <th>item_idcix3_countmean</th>\n",
       "      <th>item_idcix3_countcount</th>\n",
       "      <th>item_idcix3_countsum</th>\n",
       "      <th>item_idcix3_countmin</th>\n",
       "    </tr>\n",
       "  </thead>\n",
       "  <tbody>\n",
       "    <tr>\n",
       "      <th>0</th>\n",
       "      <td>1</td>\n",
       "      <td>13</td>\n",
       "      <td>27</td>\n",
       "      <td>1053</td>\n",
       "      <td>0.0</td>\n",
       "      <td>1053</td>\n",
       "      <td>105551</td>\n",
       "      <td>310</td>\n",
       "      <td>416.855097</td>\n",
       "      <td>184.260484</td>\n",
       "      <td>...</td>\n",
       "      <td>6.0</td>\n",
       "      <td>6.0</td>\n",
       "      <td>1.0</td>\n",
       "      <td>6.0</td>\n",
       "      <td>6.0</td>\n",
       "      <td>32448.0</td>\n",
       "      <td>32448.0</td>\n",
       "      <td>1.0</td>\n",
       "      <td>32448.0</td>\n",
       "      <td>32448.0</td>\n",
       "    </tr>\n",
       "    <tr>\n",
       "      <th>1</th>\n",
       "      <td>2</td>\n",
       "      <td>13</td>\n",
       "      <td>116</td>\n",
       "      <td>48</td>\n",
       "      <td>0.0</td>\n",
       "      <td>48</td>\n",
       "      <td>12143</td>\n",
       "      <td>385</td>\n",
       "      <td>400.182502</td>\n",
       "      <td>234.247013</td>\n",
       "      <td>...</td>\n",
       "      <td>8.0</td>\n",
       "      <td>8.0</td>\n",
       "      <td>1.0</td>\n",
       "      <td>8.0</td>\n",
       "      <td>8.0</td>\n",
       "      <td>32448.0</td>\n",
       "      <td>32448.0</td>\n",
       "      <td>1.0</td>\n",
       "      <td>32448.0</td>\n",
       "      <td>32448.0</td>\n",
       "    </tr>\n",
       "    <tr>\n",
       "      <th>2</th>\n",
       "      <td>6</td>\n",
       "      <td>9</td>\n",
       "      <td>635</td>\n",
       "      <td>205</td>\n",
       "      <td>0.0</td>\n",
       "      <td>205</td>\n",
       "      <td>1351</td>\n",
       "      <td>970</td>\n",
       "      <td>98.143684</td>\n",
       "      <td>121.094495</td>\n",
       "      <td>...</td>\n",
       "      <td>3.0</td>\n",
       "      <td>3.0</td>\n",
       "      <td>1.0</td>\n",
       "      <td>3.0</td>\n",
       "      <td>3.0</td>\n",
       "      <td>24471.0</td>\n",
       "      <td>24471.0</td>\n",
       "      <td>1.0</td>\n",
       "      <td>24471.0</td>\n",
       "      <td>24471.0</td>\n",
       "    </tr>\n",
       "    <tr>\n",
       "      <th>3</th>\n",
       "      <td>7</td>\n",
       "      <td>13</td>\n",
       "      <td>644</td>\n",
       "      <td>1050</td>\n",
       "      <td>0.0</td>\n",
       "      <td>1050</td>\n",
       "      <td>306</td>\n",
       "      <td>237</td>\n",
       "      <td>91.578746</td>\n",
       "      <td>98.276034</td>\n",
       "      <td>...</td>\n",
       "      <td>4.0</td>\n",
       "      <td>4.0</td>\n",
       "      <td>1.0</td>\n",
       "      <td>4.0</td>\n",
       "      <td>4.0</td>\n",
       "      <td>32448.0</td>\n",
       "      <td>32448.0</td>\n",
       "      <td>1.0</td>\n",
       "      <td>32448.0</td>\n",
       "      <td>32448.0</td>\n",
       "    </tr>\n",
       "    <tr>\n",
       "      <th>4</th>\n",
       "      <td>9</td>\n",
       "      <td>8</td>\n",
       "      <td>1017</td>\n",
       "      <td>1489</td>\n",
       "      <td>0.0</td>\n",
       "      <td>1489</td>\n",
       "      <td>139063</td>\n",
       "      <td>562</td>\n",
       "      <td>174.457319</td>\n",
       "      <td>120.636103</td>\n",
       "      <td>...</td>\n",
       "      <td>9.0</td>\n",
       "      <td>9.0</td>\n",
       "      <td>1.0</td>\n",
       "      <td>9.0</td>\n",
       "      <td>9.0</td>\n",
       "      <td>32448.0</td>\n",
       "      <td>32448.0</td>\n",
       "      <td>1.0</td>\n",
       "      <td>32448.0</td>\n",
       "      <td>32448.0</td>\n",
       "    </tr>\n",
       "  </tbody>\n",
       "</table>\n",
       "<p>5 rows × 3673 columns</p>\n",
       "</div>"
      ],
      "text/plain": [
       "   id  campaign_id  coupon_id  customer_id  redemption_status  \\\n",
       "0   1           13         27         1053                0.0   \n",
       "1   2           13        116           48                0.0   \n",
       "2   6            9        635          205                0.0   \n",
       "3   7           13        644         1050                0.0   \n",
       "4   9            8       1017         1489                0.0   \n",
       "\n",
       "   Txn_customer_id_  Txn_quantity_sum  Txn_selling_price_size  \\\n",
       "0              1053            105551                     310   \n",
       "1                48             12143                     385   \n",
       "2               205              1351                     970   \n",
       "3              1050               306                     237   \n",
       "4              1489            139063                     562   \n",
       "\n",
       "   Txn_selling_price_std  Txn_selling_price_mean  ...  \\\n",
       "0             416.855097              184.260484  ...   \n",
       "1             400.182502              234.247013  ...   \n",
       "2              98.143684              121.094495  ...   \n",
       "3              91.578746               98.276034  ...   \n",
       "4             174.457319              120.636103  ...   \n",
       "\n",
       "   quantitycix3_nuniquemax  quantitycix3_nuniquemean  \\\n",
       "0                      6.0                       6.0   \n",
       "1                      8.0                       8.0   \n",
       "2                      3.0                       3.0   \n",
       "3                      4.0                       4.0   \n",
       "4                      9.0                       9.0   \n",
       "\n",
       "   quantitycix3_nuniquecount  quantitycix3_nuniquesum  \\\n",
       "0                        1.0                      6.0   \n",
       "1                        1.0                      8.0   \n",
       "2                        1.0                      3.0   \n",
       "3                        1.0                      4.0   \n",
       "4                        1.0                      9.0   \n",
       "\n",
       "   quantitycix3_nuniquemin  item_idcix3_countmax  item_idcix3_countmean  \\\n",
       "0                      6.0               32448.0                32448.0   \n",
       "1                      8.0               32448.0                32448.0   \n",
       "2                      3.0               24471.0                24471.0   \n",
       "3                      4.0               32448.0                32448.0   \n",
       "4                      9.0               32448.0                32448.0   \n",
       "\n",
       "   item_idcix3_countcount  item_idcix3_countsum  item_idcix3_countmin  \n",
       "0                     1.0               32448.0               32448.0  \n",
       "1                     1.0               32448.0               32448.0  \n",
       "2                     1.0               24471.0               24471.0  \n",
       "3                     1.0               32448.0               32448.0  \n",
       "4                     1.0               32448.0               32448.0  \n",
       "\n",
       "[5 rows x 3673 columns]"
      ]
     },
     "execution_count": 97,
     "metadata": {},
     "output_type": "execute_result"
    }
   ],
   "source": [
    "df.head()"
   ]
  },
  {
   "cell_type": "code",
   "execution_count": 98,
   "metadata": {},
   "outputs": [
    {
     "name": "stdout",
     "output_type": "stream",
     "text": [
      "(78369, 3673) (50226, 3673)\n"
     ]
    }
   ],
   "source": [
    "df_train=df[df['redemption_status'].isnull()==False].copy()\n",
    "df_test=df[df['redemption_status'].isnull()==True].copy()\n",
    "\n",
    "print(df_train.shape,df_test.shape)"
   ]
  },
  {
   "cell_type": "code",
   "execution_count": null,
   "metadata": {},
   "outputs": [],
   "source": []
  },
  {
   "cell_type": "code",
   "execution_count": null,
   "metadata": {},
   "outputs": [],
   "source": [
    "##Here we run the model"
   ]
  },
  {
   "cell_type": "code",
   "execution_count": 99,
   "metadata": {},
   "outputs": [
    {
     "data": {
      "text/plain": [
       "397"
      ]
     },
     "execution_count": 99,
     "metadata": {},
     "output_type": "execute_result"
    }
   ],
   "source": [
    "import gc\n",
    "gc.collect()"
   ]
  },
  {
   "cell_type": "code",
   "execution_count": 100,
   "metadata": {},
   "outputs": [],
   "source": [
    "from catboost import CatBoostClassifier,Pool, cv\n",
    "from lightgbm import LGBMClassifier\n",
    "from sklearn.model_selection import StratifiedKFold,train_test_split\n",
    "from sklearn.linear_model import LogisticRegression\n",
    "from sklearn.ensemble import RandomForestClassifier\n",
    "from sklearn.metrics import accuracy_score,confusion_matrix,roc_auc_score"
   ]
  },
  {
   "cell_type": "code",
   "execution_count": 101,
   "metadata": {},
   "outputs": [
    {
     "data": {
      "text/html": [
       "<div>\n",
       "<style scoped>\n",
       "    .dataframe tbody tr th:only-of-type {\n",
       "        vertical-align: middle;\n",
       "    }\n",
       "\n",
       "    .dataframe tbody tr th {\n",
       "        vertical-align: top;\n",
       "    }\n",
       "\n",
       "    .dataframe thead th {\n",
       "        text-align: right;\n",
       "    }\n",
       "</style>\n",
       "<table border=\"1\" class=\"dataframe\">\n",
       "  <thead>\n",
       "    <tr style=\"text-align: right;\">\n",
       "      <th></th>\n",
       "      <th>id</th>\n",
       "      <th>redemption_status</th>\n",
       "    </tr>\n",
       "  </thead>\n",
       "  <tbody>\n",
       "    <tr>\n",
       "      <th>0</th>\n",
       "      <td>3</td>\n",
       "      <td>0</td>\n",
       "    </tr>\n",
       "    <tr>\n",
       "      <th>1</th>\n",
       "      <td>4</td>\n",
       "      <td>0</td>\n",
       "    </tr>\n",
       "    <tr>\n",
       "      <th>2</th>\n",
       "      <td>5</td>\n",
       "      <td>0</td>\n",
       "    </tr>\n",
       "    <tr>\n",
       "      <th>3</th>\n",
       "      <td>8</td>\n",
       "      <td>0</td>\n",
       "    </tr>\n",
       "    <tr>\n",
       "      <th>4</th>\n",
       "      <td>10</td>\n",
       "      <td>0</td>\n",
       "    </tr>\n",
       "  </tbody>\n",
       "</table>\n",
       "</div>"
      ],
      "text/plain": [
       "   id  redemption_status\n",
       "0   3                  0\n",
       "1   4                  0\n",
       "2   5                  0\n",
       "3   8                  0\n",
       "4  10                  0"
      ]
     },
     "execution_count": 101,
     "metadata": {},
     "output_type": "execute_result"
    }
   ],
   "source": [
    "sample.head()"
   ]
  },
  {
   "cell_type": "code",
   "execution_count": 102,
   "metadata": {},
   "outputs": [
    {
     "name": "stdout",
     "output_type": "stream",
     "text": [
      "(78369, 3671) (50226, 3671)\n"
     ]
    }
   ],
   "source": [
    "X,Y=df_train.drop(['id','redemption_status'],axis=1),df_train['redemption_status']\n",
    "Xtest=df_test.drop(['id','redemption_status'],axis=1)\n",
    "\n",
    "print(X.shape,Xtest.shape)\n",
    "X_train,X_val,Y_train,Y_val = train_test_split(X,Y,test_size=0.25,random_state = 1994,stratify=Y)"
   ]
  },
  {
   "cell_type": "code",
   "execution_count": 103,
   "metadata": {},
   "outputs": [
    {
     "data": {
      "text/plain": [
       "0    0.990698\n",
       "1    0.009302\n",
       "Name: redemption_status, dtype: float64"
      ]
     },
     "execution_count": 103,
     "metadata": {},
     "output_type": "execute_result"
    }
   ],
   "source": [
    "train['redemption_status'].value_counts()/train.shape[0]"
   ]
  },
  {
   "cell_type": "code",
   "execution_count": 104,
   "metadata": {
    "scrolled": true
   },
   "outputs": [
    {
     "data": {
      "text/plain": [
       "campaign_id                         0\n",
       "coupon_id                           0\n",
       "customer_id                         0\n",
       "Txn_customer_id_                    0\n",
       "Txn_quantity_sum                    0\n",
       "Txn_selling_price_size              0\n",
       "Txn_selling_price_std               0\n",
       "Txn_selling_price_mean              0\n",
       "Txn_selling_price_max               0\n",
       "Txn_selling_price_min               0\n",
       "Txn_other_discount_std              0\n",
       "Txn_other_discount_mean             0\n",
       "Txn_other_discount_max              0\n",
       "Txn_other_discount_min              0\n",
       "Txn_coupon_discount_std             0\n",
       "Txn_coupon_discount_mean            0\n",
       "Txn_coupon_discount_max             0\n",
       "Txn_coupon_discount_min             0\n",
       "Txn_coupon_use_flag_sum             0\n",
       "agg1_rate1                          0\n",
       "agg1_rate2                          0\n",
       "agg1_rate3                          0\n",
       "agg1_rate4                          0\n",
       "Cat_customer_id__                   0\n",
       "Cat_Alcohol_agg2_rate1              0\n",
       "Cat_Alcohol_agg2_rate2              0\n",
       "Cat_Alcohol_agg2_rate3              0\n",
       "Cat_Alcohol_agg2_rate4              0\n",
       "Cat_Alcohol_coupon_discount_max     0\n",
       "Cat_Alcohol_coupon_discount_mean    0\n",
       "                                   ..\n",
       "quantitycix2_countmax               0\n",
       "quantitycix2_countmean              0\n",
       "quantitycix2_countcount             0\n",
       "quantitycix2_countsum               0\n",
       "quantitycix2_countmin               0\n",
       "quantitycix2_nuniquemax             0\n",
       "quantitycix2_nuniquemean            0\n",
       "quantitycix2_nuniquecount           0\n",
       "quantitycix2_nuniquesum             0\n",
       "quantitycix2_nuniquemin             0\n",
       "item_idcix2_countmax                0\n",
       "item_idcix2_countmean               0\n",
       "item_idcix2_countcount              0\n",
       "item_idcix2_countsum                0\n",
       "item_idcix2_countmin                0\n",
       "quantitycix3_countmax               0\n",
       "quantitycix3_countmean              0\n",
       "quantitycix3_countcount             0\n",
       "quantitycix3_countsum               0\n",
       "quantitycix3_countmin               0\n",
       "quantitycix3_nuniquemax             0\n",
       "quantitycix3_nuniquemean            0\n",
       "quantitycix3_nuniquecount           0\n",
       "quantitycix3_nuniquesum             0\n",
       "quantitycix3_nuniquemin             0\n",
       "item_idcix3_countmax                0\n",
       "item_idcix3_countmean               0\n",
       "item_idcix3_countcount              0\n",
       "item_idcix3_countsum                0\n",
       "item_idcix3_countmin                0\n",
       "Length: 3671, dtype: int64"
      ]
     },
     "execution_count": 104,
     "metadata": {},
     "output_type": "execute_result"
    }
   ],
   "source": [
    "X.isnull().sum()"
   ]
  },
  {
   "cell_type": "code",
   "execution_count": 105,
   "metadata": {},
   "outputs": [
    {
     "name": "stdout",
     "output_type": "stream",
     "text": [
      "Training until validation scores don't improve for 200 rounds.\n",
      "[200]\tvalid_0's auc: 0.977379\tvalid_0's binary_logloss: 0.0262779\n",
      "Early stopping, best iteration is:\n",
      "[172]\tvalid_0's auc: 0.977098\tvalid_0's binary_logloss: 0.0262628\n",
      "err:  0.9770983746550641\n",
      "Training until validation scores don't improve for 200 rounds.\n",
      "[200]\tvalid_0's auc: 0.969829\tvalid_0's binary_logloss: 0.0292846\n",
      "Early stopping, best iteration is:\n",
      "[168]\tvalid_0's auc: 0.969358\tvalid_0's binary_logloss: 0.029171\n",
      "err:  0.9693580487391755\n",
      "Training until validation scores don't improve for 200 rounds.\n",
      "[200]\tvalid_0's auc: 0.979408\tvalid_0's binary_logloss: 0.0262076\n",
      "Early stopping, best iteration is:\n",
      "[143]\tvalid_0's auc: 0.979681\tvalid_0's binary_logloss: 0.0263312\n",
      "err:  0.9796814239235531\n",
      "Training until validation scores don't improve for 200 rounds.\n",
      "[200]\tvalid_0's auc: 0.983803\tvalid_0's binary_logloss: 0.0238237\n",
      "Early stopping, best iteration is:\n",
      "[193]\tvalid_0's auc: 0.983879\tvalid_0's binary_logloss: 0.0238166\n",
      "err:  0.9838788789848475\n",
      "Training until validation scores don't improve for 200 rounds.\n",
      "[200]\tvalid_0's auc: 0.973674\tvalid_0's binary_logloss: 0.0265333\n",
      "[400]\tvalid_0's auc: 0.97381\tvalid_0's binary_logloss: 0.0273929\n",
      "Early stopping, best iteration is:\n",
      "[229]\tvalid_0's auc: 0.974314\tvalid_0's binary_logloss: 0.0264481\n",
      "err:  0.9743141863041929\n",
      "Training until validation scores don't improve for 200 rounds.\n",
      "[200]\tvalid_0's auc: 0.976994\tvalid_0's binary_logloss: 0.0276868\n",
      "Early stopping, best iteration is:\n",
      "[149]\tvalid_0's auc: 0.976973\tvalid_0's binary_logloss: 0.0276258\n",
      "err:  0.976973103823054\n",
      "Training until validation scores don't improve for 200 rounds.\n",
      "[200]\tvalid_0's auc: 0.97556\tvalid_0's binary_logloss: 0.0282175\n",
      "Early stopping, best iteration is:\n",
      "[167]\tvalid_0's auc: 0.975756\tvalid_0's binary_logloss: 0.0280094\n",
      "err:  0.9757556830612663\n",
      "Training until validation scores don't improve for 200 rounds.\n",
      "[200]\tvalid_0's auc: 0.98173\tvalid_0's binary_logloss: 0.0258153\n",
      "[400]\tvalid_0's auc: 0.981428\tvalid_0's binary_logloss: 0.0268488\n",
      "Early stopping, best iteration is:\n",
      "[210]\tvalid_0's auc: 0.981869\tvalid_0's binary_logloss: 0.025724\n",
      "err:  0.9818692525389399\n",
      "Training until validation scores don't improve for 200 rounds.\n",
      "[200]\tvalid_0's auc: 0.983664\tvalid_0's binary_logloss: 0.0252002\n",
      "[400]\tvalid_0's auc: 0.982894\tvalid_0's binary_logloss: 0.026557\n",
      "Early stopping, best iteration is:\n",
      "[209]\tvalid_0's auc: 0.983838\tvalid_0's binary_logloss: 0.0251493\n",
      "err:  0.9838382982927879\n",
      "Training until validation scores don't improve for 200 rounds.\n",
      "[200]\tvalid_0's auc: 0.976168\tvalid_0's binary_logloss: 0.0244807\n",
      "Early stopping, best iteration is:\n",
      "[182]\tvalid_0's auc: 0.976741\tvalid_0's binary_logloss: 0.0243972\n",
      "err:  0.9767409410956552\n"
     ]
    }
   ],
   "source": [
    "err=[]\n",
    "Y_pred_tot=[]\n",
    "from sklearn.model_selection import KFold,StratifiedKFold\n",
    "fold=StratifiedKFold(n_splits=10,shuffle=True,random_state=1994)\n",
    "i=1\n",
    "for train_index, test_index in fold.split(X,Y):\n",
    "    X_train, X_test = X.iloc[train_index], X.iloc[test_index]\n",
    "    Y_train, Y_test = Y[train_index], Y[test_index]\n",
    "    m=LGBMClassifier(n_estimators=3000,random_state=1994,learning_rate=0.03,\n",
    "                     colsample_bytree=0.2,objective='binary',\n",
    "                     scale_pos_weight=1)\n",
    "    m.fit(X_train,Y_train,eval_set=[(X_test, Y_test)],eval_metric='auc', early_stopping_rounds=200,verbose=200)\n",
    "    preds=m.predict_proba(X_test)[:,-1]\n",
    "    print(\"err: \",roc_auc_score(Y_test,preds))\n",
    "    err.append(roc_auc_score(Y_test,preds))\n",
    "    p = m.predict_proba(Xtest)[:,-1]\n",
    "    i=i+1\n",
    "    Y_pred_tot.append(p)"
   ]
  },
  {
   "cell_type": "code",
   "execution_count": 106,
   "metadata": {},
   "outputs": [
    {
     "data": {
      "text/plain": [
       "0.9779508191418538"
      ]
     },
     "execution_count": 106,
     "metadata": {},
     "output_type": "execute_result"
    }
   ],
   "source": [
    "np.mean(err,0)\n",
    "#0.9777832375472167\n",
    "#0.9769\n",
    "#0.999698205224103"
   ]
  },
  {
   "cell_type": "code",
   "execution_count": 107,
   "metadata": {},
   "outputs": [
    {
     "data": {
      "text/html": [
       "<div>\n",
       "<style scoped>\n",
       "    .dataframe tbody tr th:only-of-type {\n",
       "        vertical-align: middle;\n",
       "    }\n",
       "\n",
       "    .dataframe tbody tr th {\n",
       "        vertical-align: top;\n",
       "    }\n",
       "\n",
       "    .dataframe thead th {\n",
       "        text-align: right;\n",
       "    }\n",
       "</style>\n",
       "<table border=\"1\" class=\"dataframe\">\n",
       "  <thead>\n",
       "    <tr style=\"text-align: right;\">\n",
       "      <th></th>\n",
       "      <th>id</th>\n",
       "      <th>redemption_status</th>\n",
       "    </tr>\n",
       "  </thead>\n",
       "  <tbody>\n",
       "    <tr>\n",
       "      <th>0</th>\n",
       "      <td>3</td>\n",
       "      <td>0.157924</td>\n",
       "    </tr>\n",
       "    <tr>\n",
       "      <th>1</th>\n",
       "      <td>4</td>\n",
       "      <td>0.008919</td>\n",
       "    </tr>\n",
       "    <tr>\n",
       "      <th>2</th>\n",
       "      <td>5</td>\n",
       "      <td>0.000120</td>\n",
       "    </tr>\n",
       "    <tr>\n",
       "      <th>3</th>\n",
       "      <td>8</td>\n",
       "      <td>0.000068</td>\n",
       "    </tr>\n",
       "    <tr>\n",
       "      <th>4</th>\n",
       "      <td>10</td>\n",
       "      <td>0.000506</td>\n",
       "    </tr>\n",
       "  </tbody>\n",
       "</table>\n",
       "</div>"
      ],
      "text/plain": [
       "   id  redemption_status\n",
       "0   3           0.157924\n",
       "1   4           0.008919\n",
       "2   5           0.000120\n",
       "3   8           0.000068\n",
       "4  10           0.000506"
      ]
     },
     "execution_count": 107,
     "metadata": {},
     "output_type": "execute_result"
    }
   ],
   "source": [
    "sample['redemption_status']=np.mean(Y_pred_tot,0)\n",
    "sample.head()"
   ]
  },
  {
   "cell_type": "code",
   "execution_count": 108,
   "metadata": {},
   "outputs": [],
   "source": [
    "sample.to_csv('AV_Amex_trial_day6_9.csv', index = False)\n",
    "#sample.shape"
   ]
  },
  {
   "cell_type": "code",
   "execution_count": 109,
   "metadata": {},
   "outputs": [],
   "source": [
    "samplex = sample"
   ]
  },
  {
   "cell_type": "code",
   "execution_count": 110,
   "metadata": {},
   "outputs": [],
   "source": [
    "samplex['redemption_status'] = [0 if x <0.0005 else x for x in samplex['redemption_status']]\n",
    "#samplex['redemption_status'] = [2*x if x >0.1 else x for x in samplex['redemption_status']]\n",
    "#samplex['redemption_status'] = [1 if x >=1 else x for x in samplex['redemption_status']]"
   ]
  },
  {
   "cell_type": "code",
   "execution_count": 111,
   "metadata": {},
   "outputs": [],
   "source": [
    "samplex.to_csv('AV_Amex_trial_day6_10.csv', index = False)"
   ]
  },
  {
   "cell_type": "code",
   "execution_count": null,
   "metadata": {},
   "outputs": [],
   "source": [
    ".c"
   ]
  },
  {
   "cell_type": "code",
   "execution_count": null,
   "metadata": {},
   "outputs": [],
   "source": [
    "t1 = df_test"
   ]
  },
  {
   "cell_type": "code",
   "execution_count": null,
   "metadata": {},
   "outputs": [],
   "source": [
    "t1['redemption_status'] = np.mean(Y_pred_tot,0)"
   ]
  },
  {
   "cell_type": "code",
   "execution_count": null,
   "metadata": {},
   "outputs": [],
   "source": [
    "print(t1.shape)\n",
    "print(sample.shape)"
   ]
  },
  {
   "cell_type": "code",
   "execution_count": null,
   "metadata": {},
   "outputs": [],
   "source": [
    "t2 = t1.groupby(['id'], as_index=False).agg({'redemption_status':[\"mean\"]})\n",
    "t2.columns=['_'.join(col).strip() for col in t2.columns.values]\n",
    "t2.rename(columns={ t2.columns[0]: \"id\" }, inplace = True)\n",
    "t2.rename(columns={ t2.columns[1]: \"redemption_status\" }, inplace = True)\n"
   ]
  },
  {
   "cell_type": "code",
   "execution_count": null,
   "metadata": {},
   "outputs": [],
   "source": [
    "t2.shape"
   ]
  },
  {
   "cell_type": "code",
   "execution_count": null,
   "metadata": {},
   "outputs": [],
   "source": [
    "#for ratio calculation= sample['redemption_status'] "
   ]
  },
  {
   "cell_type": "code",
   "execution_count": null,
   "metadata": {},
   "outputs": [],
   "source": [
    "t2.to_csv('AV_Amex_trial_day6_4.csv', index = False)\n",
    "#sample.shape"
   ]
  },
  {
   "cell_type": "code",
   "execution_count": null,
   "metadata": {},
   "outputs": [],
   "source": [
    "#add 1-5 and 5-10 bucket in ci_1"
   ]
  },
  {
   "cell_type": "code",
   "execution_count": null,
   "metadata": {},
   "outputs": [],
   "source": [
    "d = 0.5\n",
    "e = 0.8\n",
    "f = 0.9"
   ]
  },
  {
   "cell_type": "code",
   "execution_count": null,
   "metadata": {},
   "outputs": [],
   "source": []
  },
  {
   "cell_type": "code",
   "execution_count": null,
   "metadata": {},
   "outputs": [],
   "source": []
  },
  {
   "cell_type": "code",
   "execution_count": null,
   "metadata": {},
   "outputs": [],
   "source": [
    "###Here we are running the model using CatBoost"
   ]
  },
  {
   "cell_type": "code",
   "execution_count": null,
   "metadata": {},
   "outputs": [],
   "source": [
    "X['campaign_id']=X['campaign_id'].astype('category')\n",
    "X['coupon_id']=X['coupon_id'].astype('category')\n",
    "X['customer_id']=X['customer_id'].astype('category')"
   ]
  },
  {
   "cell_type": "code",
   "execution_count": null,
   "metadata": {},
   "outputs": [],
   "source": [
    "print(X.shape,Xtest.shape)\n",
    "X_train,X_val,Y_train,Y_val = train_test_split(X,Y,test_size=0.25,random_state = 1994,stratify=Y)\n",
    "categorical_features_indices = np.where(X_train.dtypes =='category')[0]\n",
    "categorical_features_indices"
   ]
  },
  {
   "cell_type": "code",
   "execution_count": null,
   "metadata": {},
   "outputs": [],
   "source": [
    "m=CatBoostClassifier(n_estimators=2500,random_state=1994,learning_rate=0.03,eval_metric='AUC')\n",
    "m.fit(X_train,Y_train,eval_set=[(X_val, Y_val.values)], early_stopping_rounds=200,verbose=200,cat_features=categorical_features_indices)\n",
    "p=m.predict_proba(X_val)[:,-1]\n",
    "print(roc_auc_score(Y_val,p))"
   ]
  },
  {
   "cell_type": "code",
   "execution_count": null,
   "metadata": {
    "scrolled": true
   },
   "outputs": [],
   "source": [
    "errCB=[]\n",
    "Y_pred_tot_cb=[]\n",
    "from sklearn.model_selection import KFold,StratifiedKFold\n",
    "fold=StratifiedKFold(n_splits=10,shuffle=True,random_state=1994)\n",
    "i=1\n",
    "for train_index, test_index in fold.split(X,Y):\n",
    "    X_train, X_test = X.iloc[train_index], X.iloc[test_index]\n",
    "    Y_train, Y_test = Y.iloc[train_index], Y.iloc[test_index]\n",
    "    m=CatBoostClassifier(n_estimators=2500,random_state=1994,eval_metric='AUC',learning_rate=0.03)\n",
    "    m.fit(X_train,Y_train,eval_set=[(X_test, Y_test)], early_stopping_rounds=200,verbose=200,cat_features=categorical_features_indices)\n",
    "    preds=m.predict_proba(X_test)[:,-1]\n",
    "    print(\"err_cb: \",roc_auc_score(Y_test,preds))\n",
    "    errCB.append(roc_auc_score(Y_test,preds))\n",
    "    p = m.predict_proba(Xtest)[:,-1]\n",
    "    i=i+1\n",
    "    Y_pred_tot_cb.append(p)"
   ]
  },
  {
   "cell_type": "code",
   "execution_count": null,
   "metadata": {},
   "outputs": [],
   "source": [
    "np.mean(errCB,0)"
   ]
  },
  {
   "cell_type": "code",
   "execution_count": null,
   "metadata": {},
   "outputs": [],
   "source": [
    "sample['redemption_status']=np.mean(Y_pred_tot_cb,0)*0.4 + np.mean(Y_pred_tot,0)*0.6\n",
    "sample.head()"
   ]
  },
  {
   "cell_type": "code",
   "execution_count": null,
   "metadata": {},
   "outputs": [],
   "source": [
    "sample.to_csv('AV_Amex_trial_day5_10.csv', index = False)\n",
    "sample.shape"
   ]
  },
  {
   "cell_type": "code",
   "execution_count": null,
   "metadata": {},
   "outputs": [],
   "source": []
  },
  {
   "cell_type": "code",
   "execution_count": null,
   "metadata": {},
   "outputs": [],
   "source": []
  },
  {
   "cell_type": "code",
   "execution_count": null,
   "metadata": {},
   "outputs": [],
   "source": []
  },
  {
   "cell_type": "code",
   "execution_count": null,
   "metadata": {},
   "outputs": [],
   "source": []
  },
  {
   "cell_type": "code",
   "execution_count": null,
   "metadata": {},
   "outputs": [],
   "source": []
  },
  {
   "cell_type": "code",
   "execution_count": null,
   "metadata": {},
   "outputs": [],
   "source": [
    "len(np.mean(Y_pred_tot_cb,0))"
   ]
  },
  {
   "cell_type": "code",
   "execution_count": null,
   "metadata": {},
   "outputs": [],
   "source": [
    "Demo_Output = pd.DataFrame({'id': Y_id, 'demo_status' : np.mean(Y_pred_tot_cb,0)}, columns=['id', 'demo_status'])\n",
    "##Merging two outputs together and finding a combined result\n",
    "sample1 = sample.merge(Demo_Output, on = 'id', how = 'left')\n",
    "sample1.head()\n",
    "sample1[\"demo_status\"].fillna(0, inplace = True)\n",
    "sample1['new'] = 0.7*sample1.redemption_status+0.3*sample1.demo_status\n",
    "sample1['redemption_status'] = np.where(sample1.demo_status == 0, sample1.redemption_status, sample1.new)\n",
    "sample1 = sample1.drop(['demo_status','new'],axis=1)\n",
    "sample1.to_csv('AV_Amex_trial_cb1.csv', index = False)\n",
    "sample1.shape"
   ]
  },
  {
   "cell_type": "code",
   "execution_count": null,
   "metadata": {},
   "outputs": [],
   "source": [
    "err=[]\n",
    "Y_pred_tot=[]\n",
    "from sklearn.model_selection import KFold,StratifiedKFold\n",
    "fold=StratifiedKFold(n_splits=10,shuffle=True,random_state=1994)\n",
    "i=1\n",
    "for train_index, test_index in fold.split(X,Y):\n",
    "    X_train, X_test = X.iloc[train_index], X.iloc[test_index]\n",
    "    Y_train, Y_test = Y.iloc[train_index], Y.iloc[test_index]\n",
    "    m=LGBMClassifier(n_estimators=3000,random_state=1994,learning_rate=0.03,colsample_bytree=0.2,objective='binary',scale_pos_weight=1)\n",
    "    m.fit(X_train,Y_train,eval_set=[(X_test, Y_test)],eval_metric='auc', early_stopping_rounds=200,verbose=200)\n",
    "    preds=m.predict_proba(X_test)[:,-1]\n",
    "    print(\"err: \",roc_auc_score(Y_test,preds))\n",
    "    err.append(roc_auc_score(Y_test,preds))\n",
    "    p = m.predict_proba(Xtest)[:,-1]\n",
    "    i=i+1\n",
    "    Y_pred_tot.append(p)"
   ]
  },
  {
   "cell_type": "code",
   "execution_count": null,
   "metadata": {},
   "outputs": [],
   "source": [
    "np.mean(err,0)"
   ]
  },
  {
   "cell_type": "code",
   "execution_count": null,
   "metadata": {},
   "outputs": [],
   "source": [
    "len(np.mean(Y_pred_tot,0))"
   ]
  },
  {
   "cell_type": "code",
   "execution_count": null,
   "metadata": {},
   "outputs": [],
   "source": [
    "Demo_Output = pd.DataFrame({'id': Y_id, 'demo_status' : np.mean(Y_pred_tot,0)}, columns=['id', 'demo_status'])"
   ]
  },
  {
   "cell_type": "code",
   "execution_count": null,
   "metadata": {},
   "outputs": [],
   "source": [
    "##Merging two outputs together and finding a combined result"
   ]
  },
  {
   "cell_type": "code",
   "execution_count": null,
   "metadata": {},
   "outputs": [],
   "source": [
    "sample1 = sample.merge(Demo_Output, on = 'id', how = 'left')"
   ]
  },
  {
   "cell_type": "code",
   "execution_count": null,
   "metadata": {},
   "outputs": [],
   "source": [
    "sample1.head()"
   ]
  },
  {
   "cell_type": "code",
   "execution_count": null,
   "metadata": {},
   "outputs": [],
   "source": [
    "sample1[\"demo_status\"].fillna(0, inplace = True)"
   ]
  },
  {
   "cell_type": "code",
   "execution_count": null,
   "metadata": {},
   "outputs": [],
   "source": [
    "sample1['new'] = 1*sample1.redemption_status+0.05*sample1.demo_status"
   ]
  },
  {
   "cell_type": "code",
   "execution_count": null,
   "metadata": {},
   "outputs": [],
   "source": [
    "sample1['redemption_status'] = np.where(sample1.demo_status == 0, sample1.redemption_status, sample1.new)"
   ]
  },
  {
   "cell_type": "code",
   "execution_count": null,
   "metadata": {},
   "outputs": [],
   "source": [
    "sample.head()"
   ]
  },
  {
   "cell_type": "code",
   "execution_count": null,
   "metadata": {},
   "outputs": [],
   "source": [
    "sample1 = sample1.drop(['demo_status','new'],axis=1)"
   ]
  },
  {
   "cell_type": "code",
   "execution_count": null,
   "metadata": {},
   "outputs": [],
   "source": [
    "sample1.redemption_status.max()"
   ]
  },
  {
   "cell_type": "code",
   "execution_count": null,
   "metadata": {},
   "outputs": [],
   "source": [
    "sample1.to_csv('AV_Amex_trial5.csv', index = False)\n",
    "sample1.shape"
   ]
  },
  {
   "cell_type": "code",
   "execution_count": null,
   "metadata": {},
   "outputs": [],
   "source": []
  },
  {
   "cell_type": "code",
   "execution_count": null,
   "metadata": {},
   "outputs": [],
   "source": []
  },
  {
   "cell_type": "code",
   "execution_count": null,
   "metadata": {},
   "outputs": [],
   "source": [
    "categorical_features_indices = np.where(X_train.dtypes =='category')[0]\n",
    "categorical_features_indices"
   ]
  },
  {
   "cell_type": "code",
   "execution_count": null,
   "metadata": {},
   "outputs": [],
   "source": [
    "m=CatBoostClassifier(n_estimators=2500,random_state=1994,learning_rate=0.03,eval_metric='AUC')\n",
    "m.fit(X_train,Y_train,eval_set=[(X_val, Y_val.values)], early_stopping_rounds=200,verbose=200,cat_features=categorical_features_indices)\n",
    "p=m.predict_proba(X_val)[:,-1]"
   ]
  },
  {
   "cell_type": "code",
   "execution_count": null,
   "metadata": {},
   "outputs": [],
   "source": [
    "print(roc_auc_score(Y_val,p))"
   ]
  },
  {
   "cell_type": "code",
   "execution_count": null,
   "metadata": {},
   "outputs": [],
   "source": [
    "X_test.isnull().sum()"
   ]
  },
  {
   "cell_type": "code",
   "execution_count": null,
   "metadata": {},
   "outputs": [],
   "source": [
    "errCB=[]\n",
    "Y_pred_tot_cb=[]\n",
    "from sklearn.model_selection import KFold,StratifiedKFold\n",
    "fold=StratifiedKFold(n_splits=10,shuffle=True,random_state=1994)\n",
    "i=1\n",
    "for train_index, test_index in fold.split(X,Y):\n",
    "    X_train, X_test = X.iloc[train_index], X.iloc[test_index]\n",
    "    Y_train, Y_test = Y[train_index], Y[test_index]"
   ]
  },
  {
   "cell_type": "code",
   "execution_count": null,
   "metadata": {},
   "outputs": [],
   "source": [
    "errCB=[]\n",
    "Y_pred_tot_cb=[]\n",
    "from sklearn.model_selection import KFold,StratifiedKFold\n",
    "fold=StratifiedKFold(n_splits=10,shuffle=True,random_state=1994)\n",
    "i=1\n",
    "for train_index, test_index in fold.split(X,Y):\n",
    "    X_train, X_test = X.iloc[train_index], X.iloc[test_index]\n",
    "    Y_train, Y_test = Y[train_index], Y[test_index]\n",
    "    m=CatBoostClassifier(n_estimators=2500,random_state=1994,eval_metric='AUC',learning_rate=0.03)\n",
    "    m.fit(X_train,Y_train,eval_set=[(X_test, Y_test)], early_stopping_rounds=200,verbose=200,cat_features=categorical_features_indices)\n",
    "    preds=m.predict_proba(X_test)[:,-1]\n",
    "    print(\"err_cb: \",roc_auc_score(Y_test,preds))\n",
    "    errCB.append(roc_auc_score(Y_test,preds))\n",
    "    p = m.predict_proba(Xtest)[:,-1]\n",
    "    i=i+1\n",
    "    Y_pred_tot_cb.append(p)"
   ]
  },
  {
   "cell_type": "code",
   "execution_count": null,
   "metadata": {},
   "outputs": [],
   "source": []
  },
  {
   "cell_type": "code",
   "execution_count": null,
   "metadata": {},
   "outputs": [],
   "source": []
  }
 ],
 "metadata": {
  "kernelspec": {
   "display_name": "Python 3",
   "language": "python",
   "name": "python3"
  },
  "language_info": {
   "codemirror_mode": {
    "name": "ipython",
    "version": 3
   },
   "file_extension": ".py",
   "mimetype": "text/x-python",
   "name": "python",
   "nbconvert_exporter": "python",
   "pygments_lexer": "ipython3",
   "version": "3.7.3"
  }
 },
 "nbformat": 4,
 "nbformat_minor": 2
}
